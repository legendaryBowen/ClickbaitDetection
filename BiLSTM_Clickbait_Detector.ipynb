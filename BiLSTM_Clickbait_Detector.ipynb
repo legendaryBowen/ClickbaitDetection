{
 "cells": [
  {
   "cell_type": "code",
   "execution_count": 1,
   "metadata": {},
   "outputs": [],
   "source": [
    "import numpy as np\n",
    "import pandas as pd\n",
    "import json\n",
    "from utils import *\n",
    "import matplotlib.pyplot as plt\n",
    "from sklearn.model_selection import train_test_split\n",
    "from keras.models import Model\n",
    "from keras.layers import Dense, Input, Dropout, LSTM, Activation, GRU, Bidirectional\n",
    "from keras.layers.embeddings import Embedding\n",
    "from keras.preprocessing import sequence\n",
    "from keras.initializers import glorot_uniform\n",
    "from sklearn import preprocessing"
   ]
  },
  {
   "cell_type": "code",
   "execution_count": 2,
   "metadata": {},
   "outputs": [],
   "source": [
    "# truth_df = pd.DataFrame(columns=['id','truthMedian','truthClass','truthMean'])\n",
    "# with open('data/truth.jsonl') as data:\n",
    "#     for labelobj in data:\n",
    "#         truth = json.loads(labelobj)\n",
    "#         truthlabel = {'id': truth['id'], 'truthMedian': truth['truthMedian'], 'truthClass': truth['truthClass'], 'truthMean': truth['truthMean']}\n",
    "#         truth_df = truth_df.append(truthlabel, ignore_index = True)\n",
    "# truth_df.head()   "
   ]
  },
  {
   "cell_type": "code",
   "execution_count": 3,
   "metadata": {},
   "outputs": [],
   "source": [
    "# instances_df = pd.DataFrame(columns=['id','postText'])\n",
    "# with open('data/instances.jsonl') as data:\n",
    "# \tfor instanceobj in data:\n",
    "# \t\tinstance = json.loads(instanceobj)\n",
    "# \t\tinstancerow = {'id': instance['id'], 'postText': instance['postText']}\n",
    "# \t\tinstances_df = instances_df.append(instancerow, ignore_index=True)\n",
    "# instances_df.head()"
   ]
  },
  {
   "cell_type": "code",
   "execution_count": 4,
   "metadata": {},
   "outputs": [],
   "source": [
    "# dataset = instances_df.join(truth_df.set_index('id'), on='id')\n",
    "# dataset = dataset.drop(labels='id',axis=1)\n",
    "# for i in range(len(dataset)):\n",
    "#     dataset['postText'].values[i] = dataset['postText'].values[i][0]\n",
    "# dataset['postText'].dropna(inplace=True)\n",
    "# dataset.head()"
   ]
  },
  {
   "cell_type": "code",
   "execution_count": 5,
   "metadata": {},
   "outputs": [],
   "source": [
    "# # Convert the 'no-clickbait' or 'clickbait' to binary indicator\n",
    "# dataset['truthClass'] = dataset['truthClass'].apply(classToBinary)\n",
    "# # Convert floating number in 'truthMedian' column to integer\n",
    "# dataset['truthMedian'] = dataset['truthMedian'].apply(medianToInteger)\n",
    "# # Remove all punctuations and clear the text\n",
    "# dataset['postText'] = dataset['postText'].apply(cleanText)\n",
    "# dataset.head()"
   ]
  },
  {
   "cell_type": "code",
   "execution_count": 6,
   "metadata": {},
   "outputs": [],
   "source": [
    "# # length of titles with longest words\n",
    "# maxLen = maxLengthInPostText(dataset)\n",
    "# maxLen"
   ]
  },
  {
   "cell_type": "code",
   "execution_count": 7,
   "metadata": {},
   "outputs": [],
   "source": [
    "# # split the dataset to training and testing set\n",
    "# train, test = train_test_split(dataset, test_size=0.2)\n",
    "# X_train, Y_train, Y_train_mean = np.array(train[\"postText\"].tolist()), np.array(train[\"truthMedian\"].tolist()), np.array(train[\"truthMean\"].tolist())\n",
    "# X_test, Y_test, Y_test_mean = np.array(test[\"postText\"].tolist()), np.array(test[\"truthClass\"].tolist()), np.array(test[\"truthMean\"].tolist())\n",
    "# print(Y_train.shape)\n",
    "# print(Y_test.shape)"
   ]
  },
  {
   "cell_type": "code",
   "execution_count": 8,
   "metadata": {},
   "outputs": [
    {
     "data": {
      "text/html": [
       "<div>\n",
       "<style scoped>\n",
       "    .dataframe tbody tr th:only-of-type {\n",
       "        vertical-align: middle;\n",
       "    }\n",
       "\n",
       "    .dataframe tbody tr th {\n",
       "        vertical-align: top;\n",
       "    }\n",
       "\n",
       "    .dataframe thead th {\n",
       "        text-align: right;\n",
       "    }\n",
       "</style>\n",
       "<table border=\"1\" class=\"dataframe\">\n",
       "  <thead>\n",
       "    <tr style=\"text-align: right;\">\n",
       "      <th></th>\n",
       "      <th>id</th>\n",
       "      <th>postText</th>\n",
       "      <th>truthMedian</th>\n",
       "      <th>truthClass</th>\n",
       "      <th>truthMean</th>\n",
       "    </tr>\n",
       "  </thead>\n",
       "  <tbody>\n",
       "    <tr>\n",
       "      <th>0</th>\n",
       "      <td>849630396191055872</td>\n",
       "      <td>Flying mattress strikes biker at 50 mph, ends ...</td>\n",
       "      <td>0.000000</td>\n",
       "      <td>0</td>\n",
       "      <td>0.200000</td>\n",
       "    </tr>\n",
       "    <tr>\n",
       "      <th>1</th>\n",
       "      <td>805003400136036352</td>\n",
       "      <td>The Grand Tour: Jeremy Clarkson is really taun...</td>\n",
       "      <td>0.000000</td>\n",
       "      <td>0</td>\n",
       "      <td>0.200000</td>\n",
       "    </tr>\n",
       "    <tr>\n",
       "      <th>2</th>\n",
       "      <td>811134324628226048</td>\n",
       "      <td>Was this murderous attack on a Russian diploma...</td>\n",
       "      <td>0.666667</td>\n",
       "      <td>1</td>\n",
       "      <td>0.533333</td>\n",
       "    </tr>\n",
       "    <tr>\n",
       "      <th>3</th>\n",
       "      <td>807681539580502016</td>\n",
       "      <td>PartyNextDoor brings out Drake, G-Eazy and mor...</td>\n",
       "      <td>0.000000</td>\n",
       "      <td>0</td>\n",
       "      <td>0.266667</td>\n",
       "    </tr>\n",
       "    <tr>\n",
       "      <th>4</th>\n",
       "      <td>807465142032232450</td>\n",
       "      <td>A far-right Dutch lawmaker who wants to Make t...</td>\n",
       "      <td>0.000000</td>\n",
       "      <td>0</td>\n",
       "      <td>0.200000</td>\n",
       "    </tr>\n",
       "  </tbody>\n",
       "</table>\n",
       "</div>"
      ],
      "text/plain": [
       "                   id                                           postText  \\\n",
       "0  849630396191055872  Flying mattress strikes biker at 50 mph, ends ...   \n",
       "1  805003400136036352  The Grand Tour: Jeremy Clarkson is really taun...   \n",
       "2  811134324628226048  Was this murderous attack on a Russian diploma...   \n",
       "3  807681539580502016  PartyNextDoor brings out Drake, G-Eazy and mor...   \n",
       "4  807465142032232450  A far-right Dutch lawmaker who wants to Make t...   \n",
       "\n",
       "   truthMedian truthClass  truthMean  \n",
       "0     0.000000          0   0.200000  \n",
       "1     0.000000          0   0.200000  \n",
       "2     0.666667          1   0.533333  \n",
       "3     0.000000          0   0.266667  \n",
       "4     0.000000          0   0.200000  "
      ]
     },
     "execution_count": 8,
     "metadata": {},
     "output_type": "execute_result"
    }
   ],
   "source": [
    "train_df = pd.DataFrame(columns=['id','postText','truthMedian','truthClass','truthMean'])\n",
    "with open('data/train.json') as json_data:\n",
    "    data = json.load(json_data)\n",
    "    for instance in data:\n",
    "        train_instance = {'id': instance['text_id'], 'postText': instance['post_text'], 'truthMedian': instance['truth_median'], 'truthClass': instance['click_bait'], 'truthMean': instance['truth_mean']}\n",
    "        train_df = train_df.append(train_instance, ignore_index = True)\n",
    "train_df.head()"
   ]
  },
  {
   "cell_type": "code",
   "execution_count": 9,
   "metadata": {},
   "outputs": [
    {
     "data": {
      "text/html": [
       "<div>\n",
       "<style scoped>\n",
       "    .dataframe tbody tr th:only-of-type {\n",
       "        vertical-align: middle;\n",
       "    }\n",
       "\n",
       "    .dataframe tbody tr th {\n",
       "        vertical-align: top;\n",
       "    }\n",
       "\n",
       "    .dataframe thead th {\n",
       "        text-align: right;\n",
       "    }\n",
       "</style>\n",
       "<table border=\"1\" class=\"dataframe\">\n",
       "  <thead>\n",
       "    <tr style=\"text-align: right;\">\n",
       "      <th></th>\n",
       "      <th>id</th>\n",
       "      <th>postText</th>\n",
       "      <th>truthMedian</th>\n",
       "      <th>truthClass</th>\n",
       "      <th>truthMean</th>\n",
       "    </tr>\n",
       "  </thead>\n",
       "  <tbody>\n",
       "    <tr>\n",
       "      <th>0</th>\n",
       "      <td>841383755944189952</td>\n",
       "      <td>John Lewis blasts GOP rep's \"bigoted and racis...</td>\n",
       "      <td>0.000000</td>\n",
       "      <td>0</td>\n",
       "      <td>0.200000</td>\n",
       "    </tr>\n",
       "    <tr>\n",
       "      <th>1</th>\n",
       "      <td>852354010820620288</td>\n",
       "      <td>The NBA playoff bracket is now set</td>\n",
       "      <td>0.000000</td>\n",
       "      <td>0</td>\n",
       "      <td>0.200000</td>\n",
       "    </tr>\n",
       "    <tr>\n",
       "      <th>2</th>\n",
       "      <td>838728651545903104</td>\n",
       "      <td>Migrants smash up German asylum centre and sev...</td>\n",
       "      <td>0.000000</td>\n",
       "      <td>0</td>\n",
       "      <td>0.133333</td>\n",
       "    </tr>\n",
       "    <tr>\n",
       "      <th>3</th>\n",
       "      <td>805465449739718656</td>\n",
       "      <td>America's most livable states, ranked</td>\n",
       "      <td>0.666667</td>\n",
       "      <td>1</td>\n",
       "      <td>0.666667</td>\n",
       "    </tr>\n",
       "    <tr>\n",
       "      <th>4</th>\n",
       "      <td>841713776382627840</td>\n",
       "      <td>WIP or RIP?</td>\n",
       "      <td>1.000000</td>\n",
       "      <td>1</td>\n",
       "      <td>0.933333</td>\n",
       "    </tr>\n",
       "  </tbody>\n",
       "</table>\n",
       "</div>"
      ],
      "text/plain": [
       "                   id                                           postText  \\\n",
       "0  841383755944189952  John Lewis blasts GOP rep's \"bigoted and racis...   \n",
       "1  852354010820620288                 The NBA playoff bracket is now set   \n",
       "2  838728651545903104  Migrants smash up German asylum centre and sev...   \n",
       "3  805465449739718656              America's most livable states, ranked   \n",
       "4  841713776382627840                                        WIP or RIP?   \n",
       "\n",
       "   truthMedian truthClass  truthMean  \n",
       "0     0.000000          0   0.200000  \n",
       "1     0.000000          0   0.200000  \n",
       "2     0.000000          0   0.133333  \n",
       "3     0.666667          1   0.666667  \n",
       "4     1.000000          1   0.933333  "
      ]
     },
     "execution_count": 9,
     "metadata": {},
     "output_type": "execute_result"
    }
   ],
   "source": [
    "test_df = pd.DataFrame(columns=['id','postText','truthMedian','truthClass','truthMean'])\n",
    "with open('data/test.json') as json_data:\n",
    "    data = json.load(json_data)\n",
    "    for instance in data:\n",
    "        test_instance = {'id': instance['text_id'], 'postText': instance['post_text'], 'truthMedian': instance['truth_median'], 'truthClass': instance['click_bait'], 'truthMean': instance['truth_mean']}\n",
    "        test_df = test_df.append(test_instance, ignore_index = True)\n",
    "test_df.head()"
   ]
  },
  {
   "cell_type": "code",
   "execution_count": 10,
   "metadata": {},
   "outputs": [
    {
     "data": {
      "text/html": [
       "<div>\n",
       "<style scoped>\n",
       "    .dataframe tbody tr th:only-of-type {\n",
       "        vertical-align: middle;\n",
       "    }\n",
       "\n",
       "    .dataframe tbody tr th {\n",
       "        vertical-align: top;\n",
       "    }\n",
       "\n",
       "    .dataframe thead th {\n",
       "        text-align: right;\n",
       "    }\n",
       "</style>\n",
       "<table border=\"1\" class=\"dataframe\">\n",
       "  <thead>\n",
       "    <tr style=\"text-align: right;\">\n",
       "      <th></th>\n",
       "      <th>id</th>\n",
       "      <th>postText</th>\n",
       "      <th>truthMedian</th>\n",
       "      <th>truthClass</th>\n",
       "      <th>truthMean</th>\n",
       "    </tr>\n",
       "  </thead>\n",
       "  <tbody>\n",
       "    <tr>\n",
       "      <th>0</th>\n",
       "      <td>849630396191055872</td>\n",
       "      <td>flying mattress strikes biker at 50 mph ends u...</td>\n",
       "      <td>0</td>\n",
       "      <td>0</td>\n",
       "      <td>0.200000</td>\n",
       "    </tr>\n",
       "    <tr>\n",
       "      <th>1</th>\n",
       "      <td>805003400136036352</td>\n",
       "      <td>the grand tour jeremy clarkson is really taunt...</td>\n",
       "      <td>0</td>\n",
       "      <td>0</td>\n",
       "      <td>0.200000</td>\n",
       "    </tr>\n",
       "    <tr>\n",
       "      <th>2</th>\n",
       "      <td>811134324628226048</td>\n",
       "      <td>was this murderous attack on a russian diploma...</td>\n",
       "      <td>2</td>\n",
       "      <td>1</td>\n",
       "      <td>0.533333</td>\n",
       "    </tr>\n",
       "    <tr>\n",
       "      <th>3</th>\n",
       "      <td>807681539580502016</td>\n",
       "      <td>partynextdoor brings out drake geazy and more ...</td>\n",
       "      <td>0</td>\n",
       "      <td>0</td>\n",
       "      <td>0.266667</td>\n",
       "    </tr>\n",
       "    <tr>\n",
       "      <th>4</th>\n",
       "      <td>807465142032232450</td>\n",
       "      <td>a farright dutch lawmaker who wants to make th...</td>\n",
       "      <td>0</td>\n",
       "      <td>0</td>\n",
       "      <td>0.200000</td>\n",
       "    </tr>\n",
       "  </tbody>\n",
       "</table>\n",
       "</div>"
      ],
      "text/plain": [
       "                   id                                           postText  \\\n",
       "0  849630396191055872  flying mattress strikes biker at 50 mph ends u...   \n",
       "1  805003400136036352  the grand tour jeremy clarkson is really taunt...   \n",
       "2  811134324628226048  was this murderous attack on a russian diploma...   \n",
       "3  807681539580502016  partynextdoor brings out drake geazy and more ...   \n",
       "4  807465142032232450  a farright dutch lawmaker who wants to make th...   \n",
       "\n",
       "   truthMedian truthClass  truthMean  \n",
       "0            0          0   0.200000  \n",
       "1            0          0   0.200000  \n",
       "2            2          1   0.533333  \n",
       "3            0          0   0.266667  \n",
       "4            0          0   0.200000  "
      ]
     },
     "execution_count": 10,
     "metadata": {},
     "output_type": "execute_result"
    }
   ],
   "source": [
    "# Convert floating number in 'truthMedian' column to integer\n",
    "train_df['truthMedian'] = train_df['truthMedian'].apply(medianToInteger)\n",
    "# Remove all punctuations and clear the text\n",
    "train_df['postText'] = train_df['postText'].apply(cleanText)\n",
    "train_df.head()"
   ]
  },
  {
   "cell_type": "code",
   "execution_count": 11,
   "metadata": {},
   "outputs": [
    {
     "data": {
      "text/html": [
       "<div>\n",
       "<style scoped>\n",
       "    .dataframe tbody tr th:only-of-type {\n",
       "        vertical-align: middle;\n",
       "    }\n",
       "\n",
       "    .dataframe tbody tr th {\n",
       "        vertical-align: top;\n",
       "    }\n",
       "\n",
       "    .dataframe thead th {\n",
       "        text-align: right;\n",
       "    }\n",
       "</style>\n",
       "<table border=\"1\" class=\"dataframe\">\n",
       "  <thead>\n",
       "    <tr style=\"text-align: right;\">\n",
       "      <th></th>\n",
       "      <th>id</th>\n",
       "      <th>postText</th>\n",
       "      <th>truthMedian</th>\n",
       "      <th>truthClass</th>\n",
       "      <th>truthMean</th>\n",
       "    </tr>\n",
       "  </thead>\n",
       "  <tbody>\n",
       "    <tr>\n",
       "      <th>0</th>\n",
       "      <td>841383755944189952</td>\n",
       "      <td>john lewis blasts gop reps bigoted and racist ...</td>\n",
       "      <td>0</td>\n",
       "      <td>0</td>\n",
       "      <td>0.200000</td>\n",
       "    </tr>\n",
       "    <tr>\n",
       "      <th>1</th>\n",
       "      <td>852354010820620288</td>\n",
       "      <td>the nba playoff bracket is now set</td>\n",
       "      <td>0</td>\n",
       "      <td>0</td>\n",
       "      <td>0.200000</td>\n",
       "    </tr>\n",
       "    <tr>\n",
       "      <th>2</th>\n",
       "      <td>838728651545903104</td>\n",
       "      <td>migrants smash up german asylum centre and sev...</td>\n",
       "      <td>0</td>\n",
       "      <td>0</td>\n",
       "      <td>0.133333</td>\n",
       "    </tr>\n",
       "    <tr>\n",
       "      <th>3</th>\n",
       "      <td>805465449739718656</td>\n",
       "      <td>americas most livable states ranked</td>\n",
       "      <td>2</td>\n",
       "      <td>1</td>\n",
       "      <td>0.666667</td>\n",
       "    </tr>\n",
       "    <tr>\n",
       "      <th>4</th>\n",
       "      <td>841713776382627840</td>\n",
       "      <td>wip or rip</td>\n",
       "      <td>3</td>\n",
       "      <td>1</td>\n",
       "      <td>0.933333</td>\n",
       "    </tr>\n",
       "  </tbody>\n",
       "</table>\n",
       "</div>"
      ],
      "text/plain": [
       "                   id                                           postText  \\\n",
       "0  841383755944189952  john lewis blasts gop reps bigoted and racist ...   \n",
       "1  852354010820620288                 the nba playoff bracket is now set   \n",
       "2  838728651545903104  migrants smash up german asylum centre and sev...   \n",
       "3  805465449739718656                americas most livable states ranked   \n",
       "4  841713776382627840                                         wip or rip   \n",
       "\n",
       "   truthMedian truthClass  truthMean  \n",
       "0            0          0   0.200000  \n",
       "1            0          0   0.200000  \n",
       "2            0          0   0.133333  \n",
       "3            2          1   0.666667  \n",
       "4            3          1   0.933333  "
      ]
     },
     "execution_count": 11,
     "metadata": {},
     "output_type": "execute_result"
    }
   ],
   "source": [
    "# Convert floating number in 'truthMedian' column to integer\n",
    "test_df['truthMedian'] = test_df['truthMedian'].apply(medianToInteger)\n",
    "# Remove all punctuations and clear the text\n",
    "test_df['postText'] = test_df['postText'].apply(cleanText)\n",
    "test_df.head()"
   ]
  },
  {
   "cell_type": "code",
   "execution_count": 12,
   "metadata": {},
   "outputs": [
    {
     "data": {
      "text/plain": [
       "25"
      ]
     },
     "execution_count": 12,
     "metadata": {},
     "output_type": "execute_result"
    }
   ],
   "source": [
    "# length of titles with longest words\n",
    "maxLen = max(maxLengthInPostText(train_df), maxLengthInPostText(test_df))\n",
    "maxLen"
   ]
  },
  {
   "cell_type": "code",
   "execution_count": 13,
   "metadata": {},
   "outputs": [
    {
     "name": "stdout",
     "output_type": "stream",
     "text": [
      "['flying mattress strikes biker at 50 mph ends up cushioning his fall by'\n",
      " 'the grand tour jeremy clarkson is really taunting the bbc now'\n",
      " 'was this murderous attack on a russian diplomat revenge for turkeys dirty deal with putin'\n",
      " 'partynextdoor brings out drake geazy and more at summers over concert in la'\n",
      " 'a farright dutch lawmaker who wants to make the netherlands great again was convicted of inciting discrimination'\n",
      " 'this prince bought plane tickets for his 80 falcons casual'\n",
      " 'kristen bell explains to cbs news why her daughters dont watch frozen'\n",
      " 'the internet reacts predictably to trumps mysterious sweden incident'\n",
      " 'isis is on the offensive and may have just picked up a surfacetoair missile system'\n",
      " 'were watching how the markets are responding to trumps']\n",
      "[0 0 2 0 0 3 0 2 0 1]\n"
     ]
    }
   ],
   "source": [
    "X_train, Y_train = np.array(train_df[\"postText\"].tolist()), np.array(train_df[\"truthMedian\"].tolist())\n",
    "X_test, Y_test = np.array(test_df[\"postText\"].tolist()), np.array(test_df[\"truthClass\"].tolist())\n",
    "print(X_train[0:10])\n",
    "print(Y_train[0:10])"
   ]
  },
  {
   "cell_type": "code",
   "execution_count": 14,
   "metadata": {},
   "outputs": [],
   "source": [
    "# import the glove word embedding file\n",
    "word_to_index, index_to_word, word_to_vec_map = read_glove_vecs('glove.6B/glove.6B.100d.txt')"
   ]
  },
  {
   "cell_type": "code",
   "execution_count": 15,
   "metadata": {},
   "outputs": [
    {
     "name": "stdout",
     "output_type": "stream",
     "text": [
      "X_Train_indices =\n",
      " (15567, 25)\n"
     ]
    }
   ],
   "source": [
    "Indices = sentences_to_indices(X_train,word_to_index, maxLen)\n",
    "print(\"X_Train_indices =\\n\", Indices.shape)"
   ]
  },
  {
   "cell_type": "code",
   "execution_count": 16,
   "metadata": {},
   "outputs": [],
   "source": [
    "def ClickBait_BiLSTM(input_shape, word_to_vec_map, word_to_index):\n",
    "    sentence_indices = Input(input_shape, dtype='int32')\n",
    "    embedding_layer = pretrained_embedding_layer(word_to_vec_map, word_to_index)\n",
    "    # Propagate sentence_indices through your embedding layer\n",
    "    embeddings = embedding_layer(sentence_indices)   \n",
    "    # Propagate the embeddings through an LSTM layer with 128-dimensional hidden state\n",
    "    X = Bidirectional(LSTM(128, return_sequences=True))(embeddings)\n",
    "    # dropout\n",
    "    X = Dropout(0.5)(X)\n",
    "    X = Bidirectional(LSTM(128, return_sequences=True))(X)\n",
    "    # dropout\n",
    "    X = Dropout(0.5)(X)\n",
    "    # Propagate X trough another LSTM layer with 128-dimensional hidden state\n",
    "    # The returned output should be a single hidden state, not a batch of sequences.\n",
    "    X = Bidirectional(LSTM(128, return_sequences=False))(X)\n",
    "    # dropout\n",
    "    X = Dropout(0.5)(X)\n",
    "    # Propagate X through a Dense layer with 2 units\n",
    "    X = Dense(4)(X)\n",
    "    # Add a softmax activation\n",
    "    X = Activation('softmax')(X)  \n",
    "    # Create Model instance which converts sentence_indices into X.\n",
    "    model = Model(sentence_indices, X) \n",
    "    return model"
   ]
  },
  {
   "cell_type": "code",
   "execution_count": 17,
   "metadata": {},
   "outputs": [
    {
     "name": "stdout",
     "output_type": "stream",
     "text": [
      "Model: \"model\"\n",
      "_________________________________________________________________\n",
      "Layer (type)                 Output Shape              Param #   \n",
      "=================================================================\n",
      "input_1 (InputLayer)         [(None, 25)]              0         \n",
      "_________________________________________________________________\n",
      "embedding (Embedding)        (None, 25, 100)           40000100  \n",
      "_________________________________________________________________\n",
      "bidirectional (Bidirectional (None, 25, 256)           234496    \n",
      "_________________________________________________________________\n",
      "dropout (Dropout)            (None, 25, 256)           0         \n",
      "_________________________________________________________________\n",
      "bidirectional_1 (Bidirection (None, 25, 256)           394240    \n",
      "_________________________________________________________________\n",
      "dropout_1 (Dropout)          (None, 25, 256)           0         \n",
      "_________________________________________________________________\n",
      "bidirectional_2 (Bidirection (None, 256)               394240    \n",
      "_________________________________________________________________\n",
      "dropout_2 (Dropout)          (None, 256)               0         \n",
      "_________________________________________________________________\n",
      "dense (Dense)                (None, 4)                 1028      \n",
      "_________________________________________________________________\n",
      "activation (Activation)      (None, 4)                 0         \n",
      "=================================================================\n",
      "Total params: 41,024,104\n",
      "Trainable params: 1,024,004\n",
      "Non-trainable params: 40,000,100\n",
      "_________________________________________________________________\n"
     ]
    }
   ],
   "source": [
    "BiLSTM_model = ClickBait_BiLSTM((maxLen,), word_to_vec_map, word_to_index)\n",
    "BiLSTM_model.summary()"
   ]
  },
  {
   "cell_type": "code",
   "execution_count": 18,
   "metadata": {},
   "outputs": [],
   "source": [
    "BiLSTM_model.compile(loss='categorical_crossentropy', optimizer='adam', metrics=['accuracy'])"
   ]
  },
  {
   "cell_type": "code",
   "execution_count": 19,
   "metadata": {},
   "outputs": [
    {
     "data": {
      "text/plain": [
       "(15567, 25)"
      ]
     },
     "execution_count": 19,
     "metadata": {},
     "output_type": "execute_result"
    }
   ],
   "source": [
    "X_train_indices = sentences_to_indices(X_train, word_to_index, maxLen)\n",
    "Y_train_oh = convert_to_one_hot(Y_train, C = 4)\n",
    "X_train_indices.shape"
   ]
  },
  {
   "cell_type": "code",
   "execution_count": 20,
   "metadata": {},
   "outputs": [
    {
     "name": "stdout",
     "output_type": "stream",
     "text": [
      "Epoch 1/10\n",
      "487/487 [==============================] - 21s 33ms/step - loss: 1.0708 - accuracy: 0.5355\n",
      "Epoch 2/10\n",
      "487/487 [==============================] - 18s 37ms/step - loss: 0.9549 - accuracy: 0.5724\n",
      "Epoch 3/10\n",
      "487/487 [==============================] - 19s 38ms/step - loss: 0.9240 - accuracy: 0.5899\n",
      "Epoch 4/10\n",
      "487/487 [==============================] - 20s 41ms/step - loss: 0.8967 - accuracy: 0.6022\n",
      "Epoch 5/10\n",
      "487/487 [==============================] - 20s 41ms/step - loss: 0.8752 - accuracy: 0.6032\n",
      "Epoch 6/10\n",
      "487/487 [==============================] - 20s 42ms/step - loss: 0.8478 - accuracy: 0.6224\n",
      "Epoch 7/10\n",
      "487/487 [==============================] - 21s 44ms/step - loss: 0.8287 - accuracy: 0.6309\n",
      "Epoch 8/10\n",
      "487/487 [==============================] - 21s 44ms/step - loss: 0.7929 - accuracy: 0.6477\n",
      "Epoch 9/10\n",
      "487/487 [==============================] - 22s 44ms/step - loss: 0.7488 - accuracy: 0.6691\n",
      "Epoch 10/10\n",
      "487/487 [==============================] - 21s 44ms/step - loss: 0.6865 - accuracy: 0.6930\n"
     ]
    },
    {
     "data": {
      "text/plain": [
       "<tensorflow.python.keras.callbacks.History at 0x2cedeefad48>"
      ]
     },
     "execution_count": 20,
     "metadata": {},
     "output_type": "execute_result"
    }
   ],
   "source": [
    "BiLSTM_model.fit(X_train_indices, Y_train_oh, epochs = 10, batch_size = 32, shuffle=True)"
   ]
  },
  {
   "cell_type": "code",
   "execution_count": 21,
   "metadata": {},
   "outputs": [
    {
     "name": "stdout",
     "output_type": "stream",
     "text": [
      "LSTM Training Accuracy\n",
      "Accuracy 0.8972184749791225\n",
      "Precision 0.8568464730290456\n",
      "Recall 0.6763100436681223\n",
      "F1 score: 0.7559487492373398\n"
     ]
    }
   ],
   "source": [
    "from sklearn.metrics import accuracy_score, f1_score, precision_score, recall_score,roc_auc_score, mean_squared_error, classification_report\n",
    "y_train_pred_oh = BiLSTM_model.predict(X_train_indices)\n",
    "y_train_pred_binary = onehot_to_binary(y_train_pred_oh)\n",
    "Y_train_binary = onehot_to_binary(Y_train_oh)\n",
    "\n",
    "print(\"LSTM Training Accuracy\")\n",
    "print('Accuracy %s' % accuracy_score(Y_train_binary, y_train_pred_binary))\n",
    "print('Precision %s' % precision_score(Y_train_binary, y_train_pred_binary))\n",
    "print('Recall %s' % recall_score(Y_train_binary, y_train_pred_binary))\n",
    "print('F1 score: %s' % f1_score(Y_train_binary, y_train_pred_binary))\n",
    "#print('MSE %s' % mean_squared_error(Y_train_mean, y_train_pred_binary))"
   ]
  },
  {
   "cell_type": "code",
   "execution_count": 22,
   "metadata": {
    "scrolled": true
   },
   "outputs": [
    {
     "name": "stdout",
     "output_type": "stream",
     "text": [
      "LSTM Testing Accuracy\n",
      "Accuracy 0.8232271325796505\n",
      "Precision 0.7398601398601399\n",
      "Recall 0.513094083414161\n",
      "F1 score: 0.6059564719358534\n"
     ]
    }
   ],
   "source": [
    "X_test_indices = sentences_to_indices(X_test, word_to_index, max_len = maxLen)\n",
    "y_pred_onehot = BiLSTM_model.predict(X_test_indices)\n",
    "y_pred_binary = onehot_to_binary(y_pred_onehot)\n",
    "\n",
    "print(\"LSTM Testing Accuracy\")\n",
    "print('Accuracy %s' % accuracy_score(Y_test, y_pred_binary))\n",
    "print('Precision %s' % precision_score(Y_test, y_pred_binary))\n",
    "print('Recall %s' % recall_score(Y_test, y_pred_binary))\n",
    "print('F1 score: %s' % f1_score(Y_test, y_pred_binary))\n",
    "#print('MSE %s' % mean_squared_error(Y_test_mean, y_pred_binary))"
   ]
  },
  {
   "cell_type": "code",
   "execution_count": 23,
   "metadata": {},
   "outputs": [
    {
     "name": "stdout",
     "output_type": "stream",
     "text": [
      "LSTM Testing report\n",
      "              precision    recall  f1-score   support\n",
      "\n",
      "           0       0.84      0.93      0.89      2861\n",
      "           1       0.74      0.51      0.61      1031\n",
      "\n",
      "    accuracy                           0.82      3892\n",
      "   macro avg       0.79      0.72      0.75      3892\n",
      "weighted avg       0.81      0.82      0.81      3892\n",
      "\n"
     ]
    }
   ],
   "source": [
    "print(\"LSTM Testing report\")\n",
    "print(classification_report(Y_test, y_pred_binary))"
   ]
  },
  {
   "cell_type": "code",
   "execution_count": 24,
   "metadata": {},
   "outputs": [],
   "source": [
    "# Save our model\n",
    "BiLSTM_model.save(\"BiLSTM_model.h5\")"
   ]
  },
  {
   "cell_type": "code",
   "execution_count": 25,
   "metadata": {},
   "outputs": [],
   "source": [
    "# Write output to test_df\n",
    "def predict(headline):\n",
    "    headline = cleanText(headline)\n",
    "    headline_np = np.array([headline])\n",
    "    indices = sentences_to_indices(headline_np, word_to_index, max_len = maxLen)\n",
    "    y_pred_onehot = BiLSTM_model.predict(indices)\n",
    "    return y_pred_onehot[0][3] + y_pred_onehot[0][2]"
   ]
  },
  {
   "cell_type": "code",
   "execution_count": 26,
   "metadata": {},
   "outputs": [
    {
     "data": {
      "text/html": [
       "<div>\n",
       "<style scoped>\n",
       "    .dataframe tbody tr th:only-of-type {\n",
       "        vertical-align: middle;\n",
       "    }\n",
       "\n",
       "    .dataframe tbody tr th {\n",
       "        vertical-align: top;\n",
       "    }\n",
       "\n",
       "    .dataframe thead th {\n",
       "        text-align: right;\n",
       "    }\n",
       "</style>\n",
       "<table border=\"1\" class=\"dataframe\">\n",
       "  <thead>\n",
       "    <tr style=\"text-align: right;\">\n",
       "      <th></th>\n",
       "      <th>id</th>\n",
       "      <th>postText</th>\n",
       "      <th>truthMedian</th>\n",
       "      <th>truthClass</th>\n",
       "      <th>truthMean</th>\n",
       "      <th>predicted_prob_LSTM</th>\n",
       "    </tr>\n",
       "  </thead>\n",
       "  <tbody>\n",
       "    <tr>\n",
       "      <th>0</th>\n",
       "      <td>841383755944189952</td>\n",
       "      <td>john lewis blasts gop reps bigoted and racist ...</td>\n",
       "      <td>0</td>\n",
       "      <td>0</td>\n",
       "      <td>0.200000</td>\n",
       "      <td>0.001446</td>\n",
       "    </tr>\n",
       "    <tr>\n",
       "      <th>1</th>\n",
       "      <td>852354010820620288</td>\n",
       "      <td>the nba playoff bracket is now set</td>\n",
       "      <td>0</td>\n",
       "      <td>0</td>\n",
       "      <td>0.200000</td>\n",
       "      <td>0.090908</td>\n",
       "    </tr>\n",
       "    <tr>\n",
       "      <th>2</th>\n",
       "      <td>838728651545903104</td>\n",
       "      <td>migrants smash up german asylum centre and sev...</td>\n",
       "      <td>0</td>\n",
       "      <td>0</td>\n",
       "      <td>0.133333</td>\n",
       "      <td>0.000018</td>\n",
       "    </tr>\n",
       "    <tr>\n",
       "      <th>3</th>\n",
       "      <td>805465449739718656</td>\n",
       "      <td>americas most livable states ranked</td>\n",
       "      <td>2</td>\n",
       "      <td>1</td>\n",
       "      <td>0.666667</td>\n",
       "      <td>0.147155</td>\n",
       "    </tr>\n",
       "    <tr>\n",
       "      <th>4</th>\n",
       "      <td>841713776382627840</td>\n",
       "      <td>wip or rip</td>\n",
       "      <td>3</td>\n",
       "      <td>1</td>\n",
       "      <td>0.933333</td>\n",
       "      <td>0.985155</td>\n",
       "    </tr>\n",
       "  </tbody>\n",
       "</table>\n",
       "</div>"
      ],
      "text/plain": [
       "                   id                                           postText  \\\n",
       "0  841383755944189952  john lewis blasts gop reps bigoted and racist ...   \n",
       "1  852354010820620288                 the nba playoff bracket is now set   \n",
       "2  838728651545903104  migrants smash up german asylum centre and sev...   \n",
       "3  805465449739718656                americas most livable states ranked   \n",
       "4  841713776382627840                                         wip or rip   \n",
       "\n",
       "   truthMedian truthClass  truthMean  predicted_prob_LSTM  \n",
       "0            0          0   0.200000             0.001446  \n",
       "1            0          0   0.200000             0.090908  \n",
       "2            0          0   0.133333             0.000018  \n",
       "3            2          1   0.666667             0.147155  \n",
       "4            3          1   0.933333             0.985155  "
      ]
     },
     "execution_count": 26,
     "metadata": {},
     "output_type": "execute_result"
    }
   ],
   "source": [
    "test_df['predicted_prob_LSTM'] = test_df['postText'].apply(predict)\n",
    "test_df.head()"
   ]
  },
  {
   "cell_type": "code",
   "execution_count": 42,
   "metadata": {},
   "outputs": [],
   "source": [
    "# def ClickBait_BiGRU(input_shape, word_to_vec_map, word_to_index):\n",
    "#     sentence_indices = Input(input_shape, dtype='int32')\n",
    "#     embedding_layer = pretrained_embedding_layer(word_to_vec_map, word_to_index)\n",
    "#     # Propagate sentence_indices through your embedding layer\n",
    "#     embeddings = embedding_layer(sentence_indices)   \n",
    "#     # Propagate the embeddings through an LSTM layer with 128-dimensional hidden state\n",
    "#     X = Bidirectional(GRU(128, return_sequences=True))(embeddings)\n",
    "#     # dropout\n",
    "#     X = Dropout(0.5)(X)\n",
    "#     X = Bidirectional(GRU(128, return_sequences=True))(X)\n",
    "#     # dropout\n",
    "#     X = Dropout(0.5)(X)\n",
    "#     # Propagate X trough another LSTM layer with 128-dimensional hidden state\n",
    "#     # The returned output should be a single hidden state, not a batch of sequences.\n",
    "#     X = Bidirectional(GRU(128, return_sequences=False))(X)\n",
    "#     # dropout\n",
    "#     X = Dropout(0.5)(X)\n",
    "#     # Propagate X through a Dense layer with 2 units\n",
    "#     X = Dense(4)(X)\n",
    "#     # Add a softmax activation\n",
    "#     X = Activation('softmax')(X)  \n",
    "#     # Create Model instance which converts sentence_indices into X.\n",
    "#     model = Model(sentence_indices, X) \n",
    "#     return model"
   ]
  },
  {
   "cell_type": "code",
   "execution_count": 43,
   "metadata": {},
   "outputs": [],
   "source": [
    "# BiGRU_model = ClickBait_BiGRU((maxLen,), word_to_vec_map, word_to_index)\n",
    "# BiGRU_model.summary()"
   ]
  },
  {
   "cell_type": "code",
   "execution_count": 44,
   "metadata": {},
   "outputs": [],
   "source": [
    "# BiGRU_model.compile(loss='categorical_crossentropy', optimizer='adam', metrics=['accuracy'])"
   ]
  },
  {
   "cell_type": "code",
   "execution_count": 45,
   "metadata": {},
   "outputs": [],
   "source": [
    "# BiGRU_model.fit(X_train_indices, Y_train_oh, epochs = 10, batch_size = 32, shuffle=True)"
   ]
  },
  {
   "cell_type": "code",
   "execution_count": 46,
   "metadata": {},
   "outputs": [],
   "source": [
    "# # Write output to test_df\n",
    "# def predictGRU(headline):\n",
    "#     headline = cleanText(headline)\n",
    "#     headline_np = np.array([headline])\n",
    "#     indices = sentences_to_indices(headline_np, word_to_index, max_len = maxLen)\n",
    "#     y_pred_onehot = BiGRU_model.predict(indices)\n",
    "#     return y_pred_onehot[0][3] + y_pred_onehot[0][2]"
   ]
  },
  {
   "cell_type": "code",
   "execution_count": 47,
   "metadata": {},
   "outputs": [],
   "source": [
    "# test_df['predicted_prob_GRU'] = test_df['postText'].apply(predictGRU)\n",
    "# test_df.head()"
   ]
  },
  {
   "cell_type": "code",
   "execution_count": 48,
   "metadata": {},
   "outputs": [],
   "source": [
    "# test_df.to_csv('test.csv', index = False, header=True)"
   ]
  },
  {
   "cell_type": "code",
   "execution_count": 49,
   "metadata": {
    "scrolled": true
   },
   "outputs": [
    {
     "name": "stdout",
     "output_type": "stream",
     "text": [
      "americas most livable states ranked\n",
      "Actual Label 1\n",
      "Prediction Lable 0\n",
      "Prediction [0.29046443 0.5623806  0.12951408 0.01764093]\n",
      "-------------\n",
      "driving to the south pole is the coolest road trip youve never heard of\n",
      "Actual Label 0\n",
      "Prediction Lable 1\n",
      "Prediction [0.01627927 0.15102689 0.55517805 0.27751577]\n",
      "-------------\n",
      "whats the no 1 ranking worth for the top golfers maybe nothing more than an ego boost\n",
      "Actual Label 0\n",
      "Prediction Lable 1\n",
      "Prediction [0.03212813 0.11661927 0.33967736 0.5115752 ]\n",
      "-------------\n",
      "cannabis users are four times more likely to suffer a heart attack\n",
      "Actual Label 0\n",
      "Prediction Lable 1\n",
      "Prediction [0.02853101 0.187033   0.40424696 0.380189  ]\n",
      "-------------\n",
      "this transcript of donald trumps victory rally should terrify anyone with a reading age over 12\n",
      "Actual Label 1\n",
      "Prediction Lable 0\n",
      "Prediction [8.7698746e-01 1.2107683e-01 1.8473874e-03 8.8239176e-05]\n",
      "-------------\n",
      "selma hayeks dogs  ellen \n",
      "Actual Label 0\n",
      "Prediction Lable 1\n",
      "Prediction [0.0919378  0.26537797 0.44782224 0.19486207]\n",
      "-------------\n",
      "kind of a john madden observation tbh\n",
      "Actual Label 1\n",
      "Prediction Lable 0\n",
      "Prediction [0.13723092 0.4786814  0.3177914  0.06629624]\n",
      "-------------\n",
      "a serious moment for a serious tweet to promote a serious discussion of the russiaturkey situation\n",
      "Actual Label 0\n",
      "Prediction Lable 1\n",
      "Prediction [0.04717384 0.4321687  0.45461413 0.0660434 ]\n",
      "-------------\n",
      "replacing megyn with a white male\n",
      "Actual Label 1\n",
      "Prediction Lable 0\n",
      "Prediction [8.92500937e-01 1.05779946e-01 1.65451411e-03 6.45511682e-05]\n",
      "-------------\n",
      "mindlessly checking facebook makes you an awful lot like a lab rat\n",
      "Actual Label 1\n",
      "Prediction Lable 0\n",
      "Prediction [7.5515825e-01 2.3753591e-01 6.9916919e-03 3.1420498e-04]\n",
      "-------------\n",
      "thanks to promising young talent the future is bright for the cubs dodgers and others\n",
      "Actual Label 1\n",
      "Prediction Lable 0\n",
      "Prediction [7.9682827e-01 1.9551384e-01 7.2150733e-03 4.4272709e-04]\n",
      "-------------\n",
      "handson with samsungs latest flagship smartphones the galaxy s8 and galaxy s8\n",
      "Actual Label 0\n",
      "Prediction Lable 1\n",
      "Prediction [0.08841165 0.3418763  0.5091255  0.06058656]\n",
      "-------------\n",
      "revealed in the the mystery of the sherlock baby name\n",
      "Actual Label 1\n",
      "Prediction Lable 0\n",
      "Prediction [0.33163685 0.5536735  0.10402592 0.01066371]\n",
      "-------------\n",
      "records have emerged that show just how closely tied donald trump remains to the empire he built\n",
      "Actual Label 1\n",
      "Prediction Lable 0\n",
      "Prediction [0.42387122 0.45353973 0.10812277 0.01446626]\n",
      "-------------\n",
      "why its illegal to bring kinder eggs into the us\n",
      "Actual Label 1\n",
      "Prediction Lable 0\n",
      "Prediction [0.1392717  0.42217922 0.3758077  0.06274141]\n",
      "-------------\n",
      "planning for retirement be sure to prioritize health as early as possible\n",
      "Actual Label 1\n",
      "Prediction Lable 0\n",
      "Prediction [0.17774592 0.7215362  0.09626588 0.00445202]\n",
      "-------------\n"
     ]
    }
   ],
   "source": [
    "# Error Analysis\n",
    "for i in range(100):\n",
    "    if Y_test[i] - y_pred_binary[i] != 0:\n",
    "        print(X_test[i])\n",
    "        print(\"Actual Label\",Y_test[i])\n",
    "        print(\"Prediction Lable\",y_pred_binary[i])\n",
    "        print(\"Prediction\",y_pred_onehot[i])\n",
    "        print(\"-------------\")"
   ]
  },
  {
   "cell_type": "code",
   "execution_count": 50,
   "metadata": {},
   "outputs": [
    {
     "data": {
      "text/plain": [
       "0.7755324"
      ]
     },
     "execution_count": 50,
     "metadata": {},
     "output_type": "execute_result"
    }
   ],
   "source": [
    "headline = \"Here are 10 things you may not know\"\n",
    "predict(headline)"
   ]
  },
  {
   "cell_type": "code",
   "execution_count": 51,
   "metadata": {},
   "outputs": [],
   "source": [
    "# predictGRU(headline)"
   ]
  },
  {
   "cell_type": "code",
   "execution_count": 54,
   "metadata": {},
   "outputs": [],
   "source": [
    "test_df.to_json('test.json',orient='records')"
   ]
  },
  {
   "cell_type": "code",
   "execution_count": null,
   "metadata": {},
   "outputs": [],
   "source": []
  }
 ],
 "metadata": {
  "kernelspec": {
   "display_name": "Python 3",
   "language": "python",
   "name": "python3"
  },
  "language_info": {
   "codemirror_mode": {
    "name": "ipython",
    "version": 3
   },
   "file_extension": ".py",
   "mimetype": "text/x-python",
   "name": "python",
   "nbconvert_exporter": "python",
   "pygments_lexer": "ipython3",
   "version": "3.7.9"
  }
 },
 "nbformat": 4,
 "nbformat_minor": 4
}
