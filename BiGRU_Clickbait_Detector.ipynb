{
 "cells": [
  {
   "cell_type": "code",
   "execution_count": 1,
   "metadata": {},
   "outputs": [],
   "source": [
    "import numpy as np\n",
    "import pandas as pd\n",
    "import json\n",
    "from utils import *\n",
    "import matplotlib.pyplot as plt\n",
    "from sklearn.model_selection import train_test_split\n",
    "from keras.models import Model\n",
    "from keras.layers import Dense, Input, Dropout, LSTM, Activation, GRU, Bidirectional\n",
    "from keras.layers.embeddings import Embedding\n",
    "from keras.preprocessing import sequence\n",
    "from keras.initializers import glorot_uniform\n",
    "from keras.callbacks import EarlyStopping\n",
    "from keras.optimizers import Adam\n",
    "from sklearn import preprocessing\n",
    "import matplotlib.pyplot as plt"
   ]
  },
  {
   "cell_type": "code",
   "execution_count": 2,
   "metadata": {},
   "outputs": [],
   "source": [
    "# truth_df = pd.DataFrame(columns=['id','truthMedian','truthClass','truthMean'])\n",
    "# with open('data/truth.jsonl') as data:\n",
    "#     for labelobj in data:\n",
    "#         truth = json.loads(labelobj)\n",
    "#         truthlabel = {'id': truth['id'], 'truthMedian': truth['truthMedian'], 'truthClass': truth['truthClass'], 'truthMean': truth['truthMean']}\n",
    "#         truth_df = truth_df.append(truthlabel, ignore_index = True)\n",
    "# truth_df.head()  "
   ]
  },
  {
   "cell_type": "code",
   "execution_count": 3,
   "metadata": {},
   "outputs": [],
   "source": [
    "# instances_df = pd.DataFrame(columns=['id','postText'])\n",
    "# with open('data/instances.jsonl') as data:\n",
    "# \tfor instanceobj in data:\n",
    "# \t\tinstance = json.loads(instanceobj)\n",
    "# \t\tinstancerow = {'id': instance['id'], 'postText': instance['postText']}\n",
    "# \t\tinstances_df = instances_df.append(instancerow, ignore_index=True)\n",
    "# instances_df.head()"
   ]
  },
  {
   "cell_type": "code",
   "execution_count": 4,
   "metadata": {},
   "outputs": [],
   "source": [
    "# dataset = instances_df.join(truth_df.set_index('id'), on='id')\n",
    "# dataset = dataset.drop(labels='id',axis=1)\n",
    "# for i in range(len(dataset)):\n",
    "#     dataset['postText'].values[i] = dataset['postText'].values[i][0]\n",
    "# dataset['postText'].dropna(inplace=True)\n",
    "# dataset.head()"
   ]
  },
  {
   "cell_type": "code",
   "execution_count": 5,
   "metadata": {},
   "outputs": [],
   "source": [
    "# # Convert the 'no-clickbait' or 'clickbait' to binary indicator\n",
    "# dataset['truthClass'] = dataset['truthClass'].apply(classToBinary)\n",
    "# # Convert floating number in 'truthMedian' column to integer\n",
    "# dataset['truthMedian'] = dataset['truthMedian'].apply(medianToInteger)\n",
    "# # Remove all punctuations and clear the text\n",
    "# dataset['postText'] = dataset['postText'].apply(cleanText)\n",
    "# dataset.head()"
   ]
  },
  {
   "cell_type": "code",
   "execution_count": 6,
   "metadata": {},
   "outputs": [],
   "source": [
    "# # length of titles with longest words\n",
    "# maxLen = maxLengthInPostText(dataset)\n",
    "# maxLen"
   ]
  },
  {
   "cell_type": "code",
   "execution_count": 7,
   "metadata": {},
   "outputs": [],
   "source": [
    "# # split the dataset to training and testing set\n",
    "# train, test = train_test_split(dataset, test_size=0.2)\n",
    "# X_train, Y_train, Y_train_mean = np.array(train[\"postText\"].tolist()), np.array(train[\"truthMedian\"].tolist()), np.array(train[\"truthMean\"].tolist())\n",
    "# X_test, Y_test, Y_test_mean = np.array(test[\"postText\"].tolist()), np.array(test[\"truthClass\"].tolist()), np.array(test[\"truthMean\"].tolist())\n",
    "# print(Y_train.shape)\n",
    "# print(Y_test.shape)"
   ]
  },
  {
   "cell_type": "code",
   "execution_count": 8,
   "metadata": {},
   "outputs": [
    {
     "data": {
      "text/html": [
       "<div>\n",
       "<style scoped>\n",
       "    .dataframe tbody tr th:only-of-type {\n",
       "        vertical-align: middle;\n",
       "    }\n",
       "\n",
       "    .dataframe tbody tr th {\n",
       "        vertical-align: top;\n",
       "    }\n",
       "\n",
       "    .dataframe thead th {\n",
       "        text-align: right;\n",
       "    }\n",
       "</style>\n",
       "<table border=\"1\" class=\"dataframe\">\n",
       "  <thead>\n",
       "    <tr style=\"text-align: right;\">\n",
       "      <th></th>\n",
       "      <th>id</th>\n",
       "      <th>postText</th>\n",
       "      <th>truthMedian</th>\n",
       "      <th>truthClass</th>\n",
       "      <th>truthMean</th>\n",
       "    </tr>\n",
       "  </thead>\n",
       "  <tbody>\n",
       "    <tr>\n",
       "      <th>0</th>\n",
       "      <td>849630396191055872</td>\n",
       "      <td>Flying mattress strikes biker at 50 mph, ends ...</td>\n",
       "      <td>0.000000</td>\n",
       "      <td>0</td>\n",
       "      <td>0.200000</td>\n",
       "    </tr>\n",
       "    <tr>\n",
       "      <th>1</th>\n",
       "      <td>805003400136036352</td>\n",
       "      <td>The Grand Tour: Jeremy Clarkson is really taun...</td>\n",
       "      <td>0.000000</td>\n",
       "      <td>0</td>\n",
       "      <td>0.200000</td>\n",
       "    </tr>\n",
       "    <tr>\n",
       "      <th>2</th>\n",
       "      <td>811134324628226048</td>\n",
       "      <td>Was this murderous attack on a Russian diploma...</td>\n",
       "      <td>0.666667</td>\n",
       "      <td>1</td>\n",
       "      <td>0.533333</td>\n",
       "    </tr>\n",
       "    <tr>\n",
       "      <th>3</th>\n",
       "      <td>807681539580502016</td>\n",
       "      <td>PartyNextDoor brings out Drake, G-Eazy and mor...</td>\n",
       "      <td>0.000000</td>\n",
       "      <td>0</td>\n",
       "      <td>0.266667</td>\n",
       "    </tr>\n",
       "    <tr>\n",
       "      <th>4</th>\n",
       "      <td>807465142032232450</td>\n",
       "      <td>A far-right Dutch lawmaker who wants to Make t...</td>\n",
       "      <td>0.000000</td>\n",
       "      <td>0</td>\n",
       "      <td>0.200000</td>\n",
       "    </tr>\n",
       "  </tbody>\n",
       "</table>\n",
       "</div>"
      ],
      "text/plain": [
       "                   id                                           postText  \\\n",
       "0  849630396191055872  Flying mattress strikes biker at 50 mph, ends ...   \n",
       "1  805003400136036352  The Grand Tour: Jeremy Clarkson is really taun...   \n",
       "2  811134324628226048  Was this murderous attack on a Russian diploma...   \n",
       "3  807681539580502016  PartyNextDoor brings out Drake, G-Eazy and mor...   \n",
       "4  807465142032232450  A far-right Dutch lawmaker who wants to Make t...   \n",
       "\n",
       "   truthMedian truthClass  truthMean  \n",
       "0     0.000000          0   0.200000  \n",
       "1     0.000000          0   0.200000  \n",
       "2     0.666667          1   0.533333  \n",
       "3     0.000000          0   0.266667  \n",
       "4     0.000000          0   0.200000  "
      ]
     },
     "execution_count": 8,
     "metadata": {},
     "output_type": "execute_result"
    }
   ],
   "source": [
    "train_df = pd.DataFrame(columns=['id','postText','truthMedian','truthClass','truthMean'])\n",
    "with open('data/train.json') as json_data:\n",
    "    data = json.load(json_data)\n",
    "    for instance in data:\n",
    "        train_instance = {'id': instance['text_id'], 'postText': instance['post_text'], 'truthMedian': instance['truth_median'], 'truthClass': instance['click_bait'], 'truthMean': instance['truth_mean']}\n",
    "        train_df = train_df.append(train_instance, ignore_index = True)\n",
    "train_df.head()"
   ]
  },
  {
   "cell_type": "code",
   "execution_count": 9,
   "metadata": {},
   "outputs": [
    {
     "data": {
      "text/html": [
       "<div>\n",
       "<style scoped>\n",
       "    .dataframe tbody tr th:only-of-type {\n",
       "        vertical-align: middle;\n",
       "    }\n",
       "\n",
       "    .dataframe tbody tr th {\n",
       "        vertical-align: top;\n",
       "    }\n",
       "\n",
       "    .dataframe thead th {\n",
       "        text-align: right;\n",
       "    }\n",
       "</style>\n",
       "<table border=\"1\" class=\"dataframe\">\n",
       "  <thead>\n",
       "    <tr style=\"text-align: right;\">\n",
       "      <th></th>\n",
       "      <th>id</th>\n",
       "      <th>postText</th>\n",
       "      <th>truthMedian</th>\n",
       "      <th>truthClass</th>\n",
       "      <th>truthMean</th>\n",
       "    </tr>\n",
       "  </thead>\n",
       "  <tbody>\n",
       "    <tr>\n",
       "      <th>0</th>\n",
       "      <td>841383755944189952</td>\n",
       "      <td>John Lewis blasts GOP rep's \"bigoted and racis...</td>\n",
       "      <td>0.000000</td>\n",
       "      <td>0</td>\n",
       "      <td>0.200000</td>\n",
       "    </tr>\n",
       "    <tr>\n",
       "      <th>1</th>\n",
       "      <td>852354010820620288</td>\n",
       "      <td>The NBA playoff bracket is now set</td>\n",
       "      <td>0.000000</td>\n",
       "      <td>0</td>\n",
       "      <td>0.200000</td>\n",
       "    </tr>\n",
       "    <tr>\n",
       "      <th>2</th>\n",
       "      <td>838728651545903104</td>\n",
       "      <td>Migrants smash up German asylum centre and sev...</td>\n",
       "      <td>0.000000</td>\n",
       "      <td>0</td>\n",
       "      <td>0.133333</td>\n",
       "    </tr>\n",
       "    <tr>\n",
       "      <th>3</th>\n",
       "      <td>805465449739718656</td>\n",
       "      <td>America's most livable states, ranked</td>\n",
       "      <td>0.666667</td>\n",
       "      <td>1</td>\n",
       "      <td>0.666667</td>\n",
       "    </tr>\n",
       "    <tr>\n",
       "      <th>4</th>\n",
       "      <td>841713776382627840</td>\n",
       "      <td>WIP or RIP?</td>\n",
       "      <td>1.000000</td>\n",
       "      <td>1</td>\n",
       "      <td>0.933333</td>\n",
       "    </tr>\n",
       "  </tbody>\n",
       "</table>\n",
       "</div>"
      ],
      "text/plain": [
       "                   id                                           postText  \\\n",
       "0  841383755944189952  John Lewis blasts GOP rep's \"bigoted and racis...   \n",
       "1  852354010820620288                 The NBA playoff bracket is now set   \n",
       "2  838728651545903104  Migrants smash up German asylum centre and sev...   \n",
       "3  805465449739718656              America's most livable states, ranked   \n",
       "4  841713776382627840                                        WIP or RIP?   \n",
       "\n",
       "   truthMedian truthClass  truthMean  \n",
       "0     0.000000          0   0.200000  \n",
       "1     0.000000          0   0.200000  \n",
       "2     0.000000          0   0.133333  \n",
       "3     0.666667          1   0.666667  \n",
       "4     1.000000          1   0.933333  "
      ]
     },
     "execution_count": 9,
     "metadata": {},
     "output_type": "execute_result"
    }
   ],
   "source": [
    "test_df = pd.DataFrame(columns=['id','postText','truthMedian','truthClass','truthMean'])\n",
    "with open('data/test.json') as json_data:\n",
    "    data = json.load(json_data)\n",
    "    for instance in data:\n",
    "        test_instance = {'id': instance['text_id'], 'postText': instance['post_text'], 'truthMedian': instance['truth_median'], 'truthClass': instance['click_bait'], 'truthMean': instance['truth_mean']}\n",
    "        test_df = test_df.append(test_instance, ignore_index = True)\n",
    "test_df.head()"
   ]
  },
  {
   "cell_type": "code",
   "execution_count": 10,
   "metadata": {},
   "outputs": [
    {
     "data": {
      "text/html": [
       "<div>\n",
       "<style scoped>\n",
       "    .dataframe tbody tr th:only-of-type {\n",
       "        vertical-align: middle;\n",
       "    }\n",
       "\n",
       "    .dataframe tbody tr th {\n",
       "        vertical-align: top;\n",
       "    }\n",
       "\n",
       "    .dataframe thead th {\n",
       "        text-align: right;\n",
       "    }\n",
       "</style>\n",
       "<table border=\"1\" class=\"dataframe\">\n",
       "  <thead>\n",
       "    <tr style=\"text-align: right;\">\n",
       "      <th></th>\n",
       "      <th>id</th>\n",
       "      <th>postText</th>\n",
       "      <th>truthMedian</th>\n",
       "      <th>truthClass</th>\n",
       "      <th>truthMean</th>\n",
       "    </tr>\n",
       "  </thead>\n",
       "  <tbody>\n",
       "    <tr>\n",
       "      <th>0</th>\n",
       "      <td>849630396191055872</td>\n",
       "      <td>flying mattress strikes biker at 50 mph ends u...</td>\n",
       "      <td>0</td>\n",
       "      <td>0</td>\n",
       "      <td>0.200000</td>\n",
       "    </tr>\n",
       "    <tr>\n",
       "      <th>1</th>\n",
       "      <td>805003400136036352</td>\n",
       "      <td>the grand tour jeremy clarkson is really taunt...</td>\n",
       "      <td>0</td>\n",
       "      <td>0</td>\n",
       "      <td>0.200000</td>\n",
       "    </tr>\n",
       "    <tr>\n",
       "      <th>2</th>\n",
       "      <td>811134324628226048</td>\n",
       "      <td>was this murderous attack on a russian diploma...</td>\n",
       "      <td>2</td>\n",
       "      <td>1</td>\n",
       "      <td>0.533333</td>\n",
       "    </tr>\n",
       "    <tr>\n",
       "      <th>3</th>\n",
       "      <td>807681539580502016</td>\n",
       "      <td>partynextdoor brings out drake geazy and more ...</td>\n",
       "      <td>0</td>\n",
       "      <td>0</td>\n",
       "      <td>0.266667</td>\n",
       "    </tr>\n",
       "    <tr>\n",
       "      <th>4</th>\n",
       "      <td>807465142032232450</td>\n",
       "      <td>a farright dutch lawmaker who wants to make th...</td>\n",
       "      <td>0</td>\n",
       "      <td>0</td>\n",
       "      <td>0.200000</td>\n",
       "    </tr>\n",
       "  </tbody>\n",
       "</table>\n",
       "</div>"
      ],
      "text/plain": [
       "                   id                                           postText  \\\n",
       "0  849630396191055872  flying mattress strikes biker at 50 mph ends u...   \n",
       "1  805003400136036352  the grand tour jeremy clarkson is really taunt...   \n",
       "2  811134324628226048  was this murderous attack on a russian diploma...   \n",
       "3  807681539580502016  partynextdoor brings out drake geazy and more ...   \n",
       "4  807465142032232450  a farright dutch lawmaker who wants to make th...   \n",
       "\n",
       "   truthMedian truthClass  truthMean  \n",
       "0            0          0   0.200000  \n",
       "1            0          0   0.200000  \n",
       "2            2          1   0.533333  \n",
       "3            0          0   0.266667  \n",
       "4            0          0   0.200000  "
      ]
     },
     "execution_count": 10,
     "metadata": {},
     "output_type": "execute_result"
    }
   ],
   "source": [
    "# Convert floating number in 'truthMedian' column to integer\n",
    "train_df['truthMedian'] = train_df['truthMedian'].apply(medianToInteger)\n",
    "# Remove all punctuations and clear the text\n",
    "train_df['postText'] = train_df['postText'].apply(cleanText)\n",
    "train_df.head()"
   ]
  },
  {
   "cell_type": "code",
   "execution_count": 11,
   "metadata": {},
   "outputs": [
    {
     "data": {
      "text/html": [
       "<div>\n",
       "<style scoped>\n",
       "    .dataframe tbody tr th:only-of-type {\n",
       "        vertical-align: middle;\n",
       "    }\n",
       "\n",
       "    .dataframe tbody tr th {\n",
       "        vertical-align: top;\n",
       "    }\n",
       "\n",
       "    .dataframe thead th {\n",
       "        text-align: right;\n",
       "    }\n",
       "</style>\n",
       "<table border=\"1\" class=\"dataframe\">\n",
       "  <thead>\n",
       "    <tr style=\"text-align: right;\">\n",
       "      <th></th>\n",
       "      <th>id</th>\n",
       "      <th>postText</th>\n",
       "      <th>truthMedian</th>\n",
       "      <th>truthClass</th>\n",
       "      <th>truthMean</th>\n",
       "    </tr>\n",
       "  </thead>\n",
       "  <tbody>\n",
       "    <tr>\n",
       "      <th>0</th>\n",
       "      <td>841383755944189952</td>\n",
       "      <td>john lewis blasts gop reps bigoted and racist ...</td>\n",
       "      <td>0</td>\n",
       "      <td>0</td>\n",
       "      <td>0.200000</td>\n",
       "    </tr>\n",
       "    <tr>\n",
       "      <th>1</th>\n",
       "      <td>852354010820620288</td>\n",
       "      <td>the nba playoff bracket is now set</td>\n",
       "      <td>0</td>\n",
       "      <td>0</td>\n",
       "      <td>0.200000</td>\n",
       "    </tr>\n",
       "    <tr>\n",
       "      <th>2</th>\n",
       "      <td>838728651545903104</td>\n",
       "      <td>migrants smash up german asylum centre and sev...</td>\n",
       "      <td>0</td>\n",
       "      <td>0</td>\n",
       "      <td>0.133333</td>\n",
       "    </tr>\n",
       "    <tr>\n",
       "      <th>3</th>\n",
       "      <td>805465449739718656</td>\n",
       "      <td>americas most livable states ranked</td>\n",
       "      <td>2</td>\n",
       "      <td>1</td>\n",
       "      <td>0.666667</td>\n",
       "    </tr>\n",
       "    <tr>\n",
       "      <th>4</th>\n",
       "      <td>841713776382627840</td>\n",
       "      <td>wip or rip</td>\n",
       "      <td>3</td>\n",
       "      <td>1</td>\n",
       "      <td>0.933333</td>\n",
       "    </tr>\n",
       "  </tbody>\n",
       "</table>\n",
       "</div>"
      ],
      "text/plain": [
       "                   id                                           postText  \\\n",
       "0  841383755944189952  john lewis blasts gop reps bigoted and racist ...   \n",
       "1  852354010820620288                 the nba playoff bracket is now set   \n",
       "2  838728651545903104  migrants smash up german asylum centre and sev...   \n",
       "3  805465449739718656                americas most livable states ranked   \n",
       "4  841713776382627840                                         wip or rip   \n",
       "\n",
       "   truthMedian truthClass  truthMean  \n",
       "0            0          0   0.200000  \n",
       "1            0          0   0.200000  \n",
       "2            0          0   0.133333  \n",
       "3            2          1   0.666667  \n",
       "4            3          1   0.933333  "
      ]
     },
     "execution_count": 11,
     "metadata": {},
     "output_type": "execute_result"
    }
   ],
   "source": [
    "# Convert floating number in 'truthMedian' column to integer\n",
    "test_df['truthMedian'] = test_df['truthMedian'].apply(medianToInteger)\n",
    "# Remove all punctuations and clear the text\n",
    "test_df['postText'] = test_df['postText'].apply(cleanText)\n",
    "test_df.head()"
   ]
  },
  {
   "cell_type": "code",
   "execution_count": 12,
   "metadata": {},
   "outputs": [
    {
     "data": {
      "text/plain": [
       "25"
      ]
     },
     "execution_count": 12,
     "metadata": {},
     "output_type": "execute_result"
    }
   ],
   "source": [
    "# length of titles with longest words\n",
    "maxLen = max(maxLengthInPostText(train_df), maxLengthInPostText(test_df))\n",
    "maxLen"
   ]
  },
  {
   "cell_type": "code",
   "execution_count": 13,
   "metadata": {},
   "outputs": [
    {
     "name": "stdout",
     "output_type": "stream",
     "text": [
      "(15567,)\n",
      "(3892,)\n"
     ]
    }
   ],
   "source": [
    "X_train, Y_train = np.array(train_df[\"postText\"].tolist()), np.array(train_df[\"truthMedian\"].tolist())\n",
    "X_test, Y_test = np.array(test_df[\"postText\"].tolist()), np.array(test_df[\"truthClass\"].tolist())\n",
    "print(X_train.shape)\n",
    "print(X_test.shape)"
   ]
  },
  {
   "cell_type": "code",
   "execution_count": 14,
   "metadata": {},
   "outputs": [],
   "source": [
    "# import the glove word embedding file\n",
    "word_to_index, index_to_word, word_to_vec_map = read_glove_vecs('glove.6B/glove.6B.100d.txt')"
   ]
  },
  {
   "cell_type": "code",
   "execution_count": 15,
   "metadata": {},
   "outputs": [
    {
     "name": "stdout",
     "output_type": "stream",
     "text": [
      "X_Train_indices =\n",
      " (15567, 25)\n"
     ]
    }
   ],
   "source": [
    "Indices = sentences_to_indices(X_train,word_to_index, maxLen)\n",
    "print(\"X_Train_indices =\\n\", Indices.shape)"
   ]
  },
  {
   "cell_type": "code",
   "execution_count": 16,
   "metadata": {},
   "outputs": [],
   "source": [
    "def ClickBait_BiGRU(input_shape, word_to_vec_map, word_to_index):\n",
    "    sentence_indices = Input(input_shape, dtype='int32')\n",
    "    embedding_layer = pretrained_embedding_layer(word_to_vec_map, word_to_index)\n",
    "    # Propagate sentence_indices through your embedding layer\n",
    "    embeddings = embedding_layer(sentence_indices)   \n",
    "    # Propagate the embeddings through an LSTM layer with 128-dimensional hidden state\n",
    "    X = Bidirectional(GRU(128, return_sequences=True))(embeddings)\n",
    "    # dropout\n",
    "    X = Dropout(0.5)(X)\n",
    "    X = Bidirectional(GRU(128, return_sequences=True))(X)\n",
    "    # dropout\n",
    "    X = Dropout(0.5)(X)\n",
    "    # Propagate X trough another LSTM layer with 128-dimensional hidden state\n",
    "    # The returned output should be a single hidden state, not a batch of sequences.\n",
    "    X = Bidirectional(GRU(128, return_sequences=False))(X)\n",
    "    # dropout\n",
    "    X = Dropout(0.5)(X)\n",
    "    # Propagate X through a Dense layer with 2 units\n",
    "    X = Dense(4)(X)\n",
    "    # Add a softmax activation\n",
    "    X = Activation('softmax')(X)  \n",
    "    # Create Model instance which converts sentence_indices into X.\n",
    "    model = Model(sentence_indices, X) \n",
    "    return model"
   ]
  },
  {
   "cell_type": "code",
   "execution_count": 85,
   "metadata": {},
   "outputs": [
    {
     "name": "stdout",
     "output_type": "stream",
     "text": [
      "Model: \"model_5\"\n",
      "_________________________________________________________________\n",
      "Layer (type)                 Output Shape              Param #   \n",
      "=================================================================\n",
      "input_6 (InputLayer)         [(None, 25)]              0         \n",
      "_________________________________________________________________\n",
      "embedding_5 (Embedding)      (None, 25, 100)           40000100  \n",
      "_________________________________________________________________\n",
      "bidirectional_15 (Bidirectio (None, 25, 256)           176640    \n",
      "_________________________________________________________________\n",
      "dropout_15 (Dropout)         (None, 25, 256)           0         \n",
      "_________________________________________________________________\n",
      "bidirectional_16 (Bidirectio (None, 25, 256)           296448    \n",
      "_________________________________________________________________\n",
      "dropout_16 (Dropout)         (None, 25, 256)           0         \n",
      "_________________________________________________________________\n",
      "bidirectional_17 (Bidirectio (None, 256)               296448    \n",
      "_________________________________________________________________\n",
      "dropout_17 (Dropout)         (None, 256)               0         \n",
      "_________________________________________________________________\n",
      "dense_5 (Dense)              (None, 4)                 1028      \n",
      "_________________________________________________________________\n",
      "activation_5 (Activation)    (None, 4)                 0         \n",
      "=================================================================\n",
      "Total params: 40,770,664\n",
      "Trainable params: 770,564\n",
      "Non-trainable params: 40,000,100\n",
      "_________________________________________________________________\n"
     ]
    }
   ],
   "source": [
    "BiGRU_model = ClickBait_BiGRU((maxLen,), word_to_vec_map, word_to_index)\n",
    "BiGRU_model.summary()"
   ]
  },
  {
   "cell_type": "code",
   "execution_count": 86,
   "metadata": {},
   "outputs": [],
   "source": [
    "import keras.backend as K\n",
    "def get_f1(y_true, y_pred): #taken from old keras source code\n",
    "    true_positives = K.sum(K.round(K.clip(y_true * y_pred, 0, 1)))\n",
    "    possible_positives = K.sum(K.round(K.clip(y_true, 0, 1)))\n",
    "    predicted_positives = K.sum(K.round(K.clip(y_pred, 0, 1)))\n",
    "    precision = true_positives / (predicted_positives + K.epsilon())\n",
    "    recall = true_positives / (possible_positives + K.epsilon())\n",
    "    f1_val = 2*(precision*recall)/(precision+recall+K.epsilon())\n",
    "    return f1_val"
   ]
  },
  {
   "cell_type": "code",
   "execution_count": 87,
   "metadata": {},
   "outputs": [],
   "source": [
    "opt = Adam(learning_rate=3e-4)\n",
    "callback = EarlyStopping(monitor='val_loss', patience=3)"
   ]
  },
  {
   "cell_type": "code",
   "execution_count": 88,
   "metadata": {},
   "outputs": [],
   "source": [
    "BiGRU_model.compile(loss='categorical_crossentropy', optimizer=opt, metrics=['accuracy',get_f1])"
   ]
  },
  {
   "cell_type": "code",
   "execution_count": 89,
   "metadata": {},
   "outputs": [
    {
     "data": {
      "text/plain": [
       "(15567, 25)"
      ]
     },
     "execution_count": 89,
     "metadata": {},
     "output_type": "execute_result"
    }
   ],
   "source": [
    "X_train_indices = sentences_to_indices(X_train, word_to_index, maxLen)\n",
    "Y_train_oh = convert_to_one_hot(Y_train, C = 4)\n",
    "X_train_indices.shape"
   ]
  },
  {
   "cell_type": "code",
   "execution_count": 90,
   "metadata": {},
   "outputs": [
    {
     "name": "stdout",
     "output_type": "stream",
     "text": [
      "Epoch 1/20\n",
      "195/195 [==============================] - 43s 196ms/step - loss: 1.1398 - accuracy: 0.5097 - get_f1: 0.3860 - val_loss: 0.9726 - val_accuracy: 0.5652 - val_get_f1: 0.5141\n",
      "Epoch 2/20\n",
      "195/195 [==============================] - 37s 192ms/step - loss: 1.0069 - accuracy: 0.5532 - get_f1: 0.4943 - val_loss: 0.9588 - val_accuracy: 0.5639 - val_get_f1: 0.5130\n",
      "Epoch 3/20\n",
      "195/195 [==============================] - 37s 192ms/step - loss: 0.9795 - accuracy: 0.5652 - get_f1: 0.5118 - val_loss: 0.9525 - val_accuracy: 0.5777 - val_get_f1: 0.5410\n",
      "Epoch 4/20\n",
      "195/195 [==============================] - 38s 193ms/step - loss: 0.9743 - accuracy: 0.5713 - get_f1: 0.5247 - val_loss: 0.9337 - val_accuracy: 0.5848 - val_get_f1: 0.5062\n",
      "Epoch 5/20\n",
      "195/195 [==============================] - 38s 194ms/step - loss: 0.9466 - accuracy: 0.5799 - get_f1: 0.5300 - val_loss: 0.9211 - val_accuracy: 0.5912 - val_get_f1: 0.5280\n",
      "Epoch 6/20\n",
      "195/195 [==============================] - 38s 194ms/step - loss: 0.9442 - accuracy: 0.5779 - get_f1: 0.5307 - val_loss: 0.9164 - val_accuracy: 0.5906 - val_get_f1: 0.5405\n",
      "Epoch 7/20\n",
      "195/195 [==============================] - 38s 193ms/step - loss: 0.9298 - accuracy: 0.5855 - get_f1: 0.5349 - val_loss: 0.9132 - val_accuracy: 0.5947 - val_get_f1: 0.5313\n",
      "Epoch 8/20\n",
      "195/195 [==============================] - 38s 193ms/step - loss: 0.9107 - accuracy: 0.5963 - get_f1: 0.5397 - val_loss: 0.9375 - val_accuracy: 0.5822 - val_get_f1: 0.4828\n",
      "Epoch 9/20\n",
      "195/195 [==============================] - 38s 193ms/step - loss: 0.9048 - accuracy: 0.5994 - get_f1: 0.5389 - val_loss: 0.9079 - val_accuracy: 0.5883 - val_get_f1: 0.5390\n",
      "Epoch 10/20\n",
      "195/195 [==============================] - 38s 193ms/step - loss: 0.8863 - accuracy: 0.6061 - get_f1: 0.5530 - val_loss: 0.9102 - val_accuracy: 0.5780 - val_get_f1: 0.5386\n",
      "Epoch 11/20\n",
      "195/195 [==============================] - 38s 195ms/step - loss: 0.8751 - accuracy: 0.6105 - get_f1: 0.5601 - val_loss: 0.9069 - val_accuracy: 0.5922 - val_get_f1: 0.5321\n",
      "Epoch 12/20\n",
      "195/195 [==============================] - 38s 194ms/step - loss: 0.8507 - accuracy: 0.6232 - get_f1: 0.5768 - val_loss: 0.9196 - val_accuracy: 0.5967 - val_get_f1: 0.5573\n",
      "Epoch 13/20\n",
      "195/195 [==============================] - 38s 192ms/step - loss: 0.8617 - accuracy: 0.6191 - get_f1: 0.5679 - val_loss: 0.9199 - val_accuracy: 0.5947 - val_get_f1: 0.5524\n",
      "Epoch 14/20\n",
      "195/195 [==============================] - 38s 193ms/step - loss: 0.8405 - accuracy: 0.6218 - get_f1: 0.5817 - val_loss: 0.9251 - val_accuracy: 0.5774 - val_get_f1: 0.5386\n"
     ]
    }
   ],
   "source": [
    "history = BiGRU_model.fit(X_train_indices, Y_train_oh, epochs = 20, validation_split=0.2, callbacks=[callback], batch_size = 64, shuffle=True)"
   ]
  },
  {
   "cell_type": "code",
   "execution_count": 91,
   "metadata": {},
   "outputs": [
    {
     "name": "stdout",
     "output_type": "stream",
     "text": [
      "dict_keys(['loss', 'accuracy', 'get_f1', 'val_loss', 'val_accuracy', 'val_get_f1'])\n"
     ]
    },
    {
     "data": {
      "text/plain": [
       "<matplotlib.legend.Legend at 0x1ca2d98e808>"
      ]
     },
     "execution_count": 91,
     "metadata": {},
     "output_type": "execute_result"
    },
    {
     "data": {
      "image/png": "[encoded data removed]",
      "text/plain": [
       "<Figure size 720x432 with 2 Axes>"
      ]
     },
     "metadata": {
      "needs_background": "light"
     },
     "output_type": "display_data"
    }
   ],
   "source": [
    "history_dict = history.history\n",
    "print(history_dict.keys())\n",
    "\n",
    "acc = history_dict['accuracy']\n",
    "val_acc = history_dict['val_accuracy']\n",
    "loss = history_dict['get_f1']\n",
    "val_loss = history_dict['val_get_f1']\n",
    "\n",
    "epochs = range(1, len(acc) + 1)\n",
    "fig = plt.figure(figsize=(10, 6))\n",
    "fig.tight_layout()\n",
    "\n",
    "plt.subplot(2, 1, 1)\n",
    "# \"bo\" is for \"blue dot\"\n",
    "plt.plot(epochs, loss, 'r', label='Training F1')\n",
    "# b is for \"solid blue line\"\n",
    "plt.plot(epochs, val_loss, 'b', label='Validation F1')\n",
    "plt.title('Training and validation F1')\n",
    "# plt.xlabel('Epochs')\n",
    "plt.ylabel('Loss')\n",
    "plt.legend()\n",
    "\n",
    "plt.subplot(2, 1, 2)\n",
    "plt.plot(epochs, acc, 'r', label='Training acc')\n",
    "plt.plot(epochs, val_acc, 'b', label='Validation acc')\n",
    "plt.title('Training and validation accuracy')\n",
    "plt.xlabel('Epochs')\n",
    "plt.ylabel('Accuracy')\n",
    "plt.legend(loc='lower right')"
   ]
  },
  {
   "cell_type": "code",
   "execution_count": 92,
   "metadata": {},
   "outputs": [
    {
     "name": "stdout",
     "output_type": "stream",
     "text": [
      "GRU Training Accuracy\n",
      "Accuracy 0.8598316952527784\n",
      "Precision 0.7003785830178475\n",
      "Recall 0.7068777292576419\n",
      "F1 score: 0.7036131486009237\n"
     ]
    }
   ],
   "source": [
    "from sklearn.metrics import accuracy_score, f1_score, precision_score, recall_score,roc_auc_score, mean_squared_error, classification_report\n",
    "y_train_pred_oh = BiGRU_model.predict(X_train_indices)\n",
    "y_train_pred_binary = onehot_to_binary(y_train_pred_oh)\n",
    "Y_train_binary = onehot_to_binary(Y_train_oh)\n",
    "\n",
    "print(\"GRU Training Accuracy\")\n",
    "print('Accuracy %s' % accuracy_score(Y_train_binary, y_train_pred_binary))\n",
    "print('Precision %s' % precision_score(Y_train_binary, y_train_pred_binary))\n",
    "print('Recall %s' % recall_score(Y_train_binary, y_train_pred_binary))\n",
    "print('F1 score: %s' % f1_score(Y_train_binary, y_train_pred_binary))\n",
    "#print('MSE %s' % mean_squared_error(Y_train_mean, y_train_pred_binary))"
   ]
  },
  {
   "cell_type": "code",
   "execution_count": 93,
   "metadata": {},
   "outputs": [
    {
     "name": "stdout",
     "output_type": "stream",
     "text": [
      "GRU Testing Accuracy\n",
      "Accuracy 0.8216855087358684\n",
      "Precision 0.6696878147029205\n",
      "Recall 0.6450048496605237\n",
      "F1 score: 0.6571146245059288\n"
     ]
    }
   ],
   "source": [
    "X_test_indices = sentences_to_indices(X_test, word_to_index, max_len = maxLen)\n",
    "y_pred_onehot = BiGRU_model.predict(X_test_indices)\n",
    "y_pred_binary = onehot_to_binary(y_pred_onehot)\n",
    "\n",
    "print(\"GRU Testing Accuracy\")\n",
    "print('Accuracy %s' % accuracy_score(Y_test, y_pred_binary))\n",
    "print('Precision %s' % precision_score(Y_test, y_pred_binary))\n",
    "print('Recall %s' % recall_score(Y_test, y_pred_binary))\n",
    "print('F1 score: %s' % f1_score(Y_test, y_pred_binary))\n",
    "#print('MSE %s' % mean_squared_error(Y_test_mean, y_pred_binary))"
   ]
  },
  {
   "cell_type": "code",
   "execution_count": 94,
   "metadata": {},
   "outputs": [
    {
     "name": "stdout",
     "output_type": "stream",
     "text": [
      "GRU Testing report\n",
      "              precision    recall  f1-score   support\n",
      "\n",
      "           0       0.87      0.89      0.88      2861\n",
      "           1       0.67      0.65      0.66      1031\n",
      "\n",
      "    accuracy                           0.82      3892\n",
      "   macro avg       0.77      0.77      0.77      3892\n",
      "weighted avg       0.82      0.82      0.82      3892\n",
      "\n"
     ]
    }
   ],
   "source": [
    "print(\"GRU Testing report\")\n",
    "print(classification_report(Y_test, y_pred_binary))"
   ]
  },
  {
   "cell_type": "code",
   "execution_count": 70,
   "metadata": {},
   "outputs": [],
   "source": [
    "# Save our model\n",
    "BiGRU_model.save(\"BiGRU_model.h5\")"
   ]
  },
  {
   "cell_type": "code",
   "execution_count": 71,
   "metadata": {},
   "outputs": [],
   "source": [
    "# Write output to test_df\n",
    "def predict(headline):\n",
    "    headline = cleanText(headline)\n",
    "    headline_np = np.array([headline])\n",
    "    indices = sentences_to_indices(headline_np, word_to_index, max_len = maxLen)\n",
    "    y_pred_onehot = BiGRU_model.predict(indices)\n",
    "    return y_pred_onehot[0][3] + y_pred_onehot[0][2]"
   ]
  },
  {
   "cell_type": "code",
   "execution_count": 72,
   "metadata": {},
   "outputs": [],
   "source": [
    "# test_df['predicted_prob_GRU'] = test_df['postText'].apply(predict)\n",
    "# test_df.head()"
   ]
  },
  {
   "cell_type": "code",
   "execution_count": 45,
   "metadata": {},
   "outputs": [],
   "source": [
    "# test_df.to_csv('test.csv', index = False, header=True)"
   ]
  },
  {
   "cell_type": "code",
   "execution_count": 46,
   "metadata": {},
   "outputs": [
    {
     "name": "stdout",
     "output_type": "stream",
     "text": [
      "americas most livable states ranked\n",
      "Actual Label 1\n",
      "Prediction Lable 0\n",
      "Prediction [0.3028214  0.32445627 0.15137723 0.22134517]\n",
      "-------------\n"
     ]
    }
   ],
   "source": [
    "# Error Analysis\n",
    "for i in range(10):\n",
    "    if Y_test[i] - y_pred_binary[i] != 0:\n",
    "        print(X_test[i])\n",
    "        print(\"Actual Label\",Y_test[i])\n",
    "        print(\"Prediction Lable\",y_pred_binary[i])\n",
    "        print(\"Prediction\",y_pred_onehot[i])\n",
    "        print(\"-------------\")"
   ]
  },
  {
   "cell_type": "code",
   "execution_count": 47,
   "metadata": {},
   "outputs": [
    {
     "data": {
      "text/plain": [
       "0.87580955"
      ]
     },
     "execution_count": 47,
     "metadata": {},
     "output_type": "execute_result"
    }
   ],
   "source": [
    "headline = \"Here are 10 things you may not know\"\n",
    "predict(headline)"
   ]
  },
  {
   "cell_type": "code",
   "execution_count": null,
   "metadata": {},
   "outputs": [],
   "source": []
  },
  {
   "cell_type": "code",
   "execution_count": null,
   "metadata": {},
   "outputs": [],
   "source": []
  }
 ],
 "metadata": {
  "kernelspec": {
   "display_name": "Python 3",
   "language": "python",
   "name": "python3"
  },
  "language_info": {
   "codemirror_mode": {
    "name": "ipython",
    "version": 3
   },
   "file_extension": ".py",
   "mimetype": "text/x-python",
   "name": "python",
   "nbconvert_exporter": "python",
   "pygments_lexer": "ipython3",
   "version": "3.7.9"
  }
 },
 "nbformat": 4,
 "nbformat_minor": 4
}
