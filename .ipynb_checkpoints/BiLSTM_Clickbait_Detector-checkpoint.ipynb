{
 "cells": [
  {
   "cell_type": "code",
   "execution_count": 44,
   "metadata": {},
   "outputs": [],
   "source": [
    "import numpy as np\n",
    "import pandas as pd\n",
    "import json\n",
    "from utils import *\n",
    "import matplotlib.pyplot as plt\n",
    "from sklearn.model_selection import train_test_split\n",
    "from keras.models import Model\n",
    "from keras.layers import Dense, Input, Dropout, LSTM, Activation, GRU, Bidirectional\n",
    "from keras.layers.embeddings import Embedding\n",
    "from keras.preprocessing import sequence\n",
    "from keras.initializers import glorot_uniform\n",
    "from sklearn import preprocessing"
   ]
  },
  {
   "cell_type": "code",
   "execution_count": 45,
   "metadata": {},
   "outputs": [
    {
     "data": {
      "text/html": [
       "<div>\n",
       "<style scoped>\n",
       "    .dataframe tbody tr th:only-of-type {\n",
       "        vertical-align: middle;\n",
       "    }\n",
       "\n",
       "    .dataframe tbody tr th {\n",
       "        vertical-align: top;\n",
       "    }\n",
       "\n",
       "    .dataframe thead th {\n",
       "        text-align: right;\n",
       "    }\n",
       "</style>\n",
       "<table border=\"1\" class=\"dataframe\">\n",
       "  <thead>\n",
       "    <tr style=\"text-align: right;\">\n",
       "      <th></th>\n",
       "      <th>id</th>\n",
       "      <th>truthMedian</th>\n",
       "      <th>truthClass</th>\n",
       "      <th>truthMean</th>\n",
       "    </tr>\n",
       "  </thead>\n",
       "  <tbody>\n",
       "    <tr>\n",
       "      <th>0</th>\n",
       "      <td>858464162594172928</td>\n",
       "      <td>1.000000</td>\n",
       "      <td>clickbait</td>\n",
       "      <td>1.000000</td>\n",
       "    </tr>\n",
       "    <tr>\n",
       "      <th>1</th>\n",
       "      <td>858462320779026433</td>\n",
       "      <td>0.000000</td>\n",
       "      <td>no-clickbait</td>\n",
       "      <td>0.133333</td>\n",
       "    </tr>\n",
       "    <tr>\n",
       "      <th>2</th>\n",
       "      <td>858460992073863168</td>\n",
       "      <td>0.333333</td>\n",
       "      <td>no-clickbait</td>\n",
       "      <td>0.400000</td>\n",
       "    </tr>\n",
       "    <tr>\n",
       "      <th>3</th>\n",
       "      <td>858459539296980995</td>\n",
       "      <td>0.333333</td>\n",
       "      <td>no-clickbait</td>\n",
       "      <td>0.266667</td>\n",
       "    </tr>\n",
       "    <tr>\n",
       "      <th>4</th>\n",
       "      <td>858455355948384257</td>\n",
       "      <td>0.000000</td>\n",
       "      <td>no-clickbait</td>\n",
       "      <td>0.000000</td>\n",
       "    </tr>\n",
       "  </tbody>\n",
       "</table>\n",
       "</div>"
      ],
      "text/plain": [
       "                   id  truthMedian    truthClass  truthMean\n",
       "0  858464162594172928     1.000000     clickbait   1.000000\n",
       "1  858462320779026433     0.000000  no-clickbait   0.133333\n",
       "2  858460992073863168     0.333333  no-clickbait   0.400000\n",
       "3  858459539296980995     0.333333  no-clickbait   0.266667\n",
       "4  858455355948384257     0.000000  no-clickbait   0.000000"
      ]
     },
     "execution_count": 45,
     "metadata": {},
     "output_type": "execute_result"
    }
   ],
   "source": [
    "truth_df = pd.DataFrame(columns=['id','truthMedian','truthClass','truthMean'])\n",
    "with open('data/truth.jsonl') as data:\n",
    "    for labelobj in data:\n",
    "        truth = json.loads(labelobj)\n",
    "        truthlabel = {'id': truth['id'], 'truthMedian': truth['truthMedian'], 'truthClass': truth['truthClass'], 'truthMean': truth['truthMean']}\n",
    "        truth_df = truth_df.append(truthlabel, ignore_index = True)\n",
    "truth_df.head()   "
   ]
  },
  {
   "cell_type": "code",
   "execution_count": 46,
   "metadata": {},
   "outputs": [
    {
     "data": {
      "text/html": [
       "<div>\n",
       "<style scoped>\n",
       "    .dataframe tbody tr th:only-of-type {\n",
       "        vertical-align: middle;\n",
       "    }\n",
       "\n",
       "    .dataframe tbody tr th {\n",
       "        vertical-align: top;\n",
       "    }\n",
       "\n",
       "    .dataframe thead th {\n",
       "        text-align: right;\n",
       "    }\n",
       "</style>\n",
       "<table border=\"1\" class=\"dataframe\">\n",
       "  <thead>\n",
       "    <tr style=\"text-align: right;\">\n",
       "      <th></th>\n",
       "      <th>id</th>\n",
       "      <th>postText</th>\n",
       "    </tr>\n",
       "  </thead>\n",
       "  <tbody>\n",
       "    <tr>\n",
       "      <th>0</th>\n",
       "      <td>858462320779026433</td>\n",
       "      <td>[UK’s response to modern slavery leaving victi...</td>\n",
       "    </tr>\n",
       "    <tr>\n",
       "      <th>1</th>\n",
       "      <td>858421020331560960</td>\n",
       "      <td>[this is good]</td>\n",
       "    </tr>\n",
       "    <tr>\n",
       "      <th>2</th>\n",
       "      <td>858368123753435136</td>\n",
       "      <td>[The \"forgotten\" Trump roast: Relive his bruta...</td>\n",
       "    </tr>\n",
       "    <tr>\n",
       "      <th>3</th>\n",
       "      <td>858323428260139008</td>\n",
       "      <td>[Meet the happiest #dog in the world!]</td>\n",
       "    </tr>\n",
       "    <tr>\n",
       "      <th>4</th>\n",
       "      <td>858283602626347008</td>\n",
       "      <td>[Tokyo's subway is shut down amid fears over a...</td>\n",
       "    </tr>\n",
       "  </tbody>\n",
       "</table>\n",
       "</div>"
      ],
      "text/plain": [
       "                   id                                           postText\n",
       "0  858462320779026433  [UK’s response to modern slavery leaving victi...\n",
       "1  858421020331560960                                     [this is good]\n",
       "2  858368123753435136  [The \"forgotten\" Trump roast: Relive his bruta...\n",
       "3  858323428260139008             [Meet the happiest #dog in the world!]\n",
       "4  858283602626347008  [Tokyo's subway is shut down amid fears over a..."
      ]
     },
     "execution_count": 46,
     "metadata": {},
     "output_type": "execute_result"
    }
   ],
   "source": [
    "instances_df = pd.DataFrame(columns=['id','postText'])\n",
    "with open('data/instances.jsonl') as data:\n",
    "\tfor instanceobj in data:\n",
    "\t\tinstance = json.loads(instanceobj)\n",
    "\t\tinstancerow = {'id': instance['id'], 'postText': instance['postText']}\n",
    "\t\tinstances_df = instances_df.append(instancerow, ignore_index=True)\n",
    "instances_df.head()"
   ]
  },
  {
   "cell_type": "code",
   "execution_count": 47,
   "metadata": {},
   "outputs": [
    {
     "data": {
      "text/html": [
       "<div>\n",
       "<style scoped>\n",
       "    .dataframe tbody tr th:only-of-type {\n",
       "        vertical-align: middle;\n",
       "    }\n",
       "\n",
       "    .dataframe tbody tr th {\n",
       "        vertical-align: top;\n",
       "    }\n",
       "\n",
       "    .dataframe thead th {\n",
       "        text-align: right;\n",
       "    }\n",
       "</style>\n",
       "<table border=\"1\" class=\"dataframe\">\n",
       "  <thead>\n",
       "    <tr style=\"text-align: right;\">\n",
       "      <th></th>\n",
       "      <th>postText</th>\n",
       "      <th>truthMedian</th>\n",
       "      <th>truthClass</th>\n",
       "      <th>truthMean</th>\n",
       "    </tr>\n",
       "  </thead>\n",
       "  <tbody>\n",
       "    <tr>\n",
       "      <th>0</th>\n",
       "      <td>UK’s response to modern slavery leaving victim...</td>\n",
       "      <td>0.000000</td>\n",
       "      <td>no-clickbait</td>\n",
       "      <td>0.133333</td>\n",
       "    </tr>\n",
       "    <tr>\n",
       "      <th>1</th>\n",
       "      <td>this is good</td>\n",
       "      <td>1.000000</td>\n",
       "      <td>clickbait</td>\n",
       "      <td>1.000000</td>\n",
       "    </tr>\n",
       "    <tr>\n",
       "      <th>2</th>\n",
       "      <td>The \"forgotten\" Trump roast: Relive his brutal...</td>\n",
       "      <td>0.333333</td>\n",
       "      <td>no-clickbait</td>\n",
       "      <td>0.466667</td>\n",
       "    </tr>\n",
       "    <tr>\n",
       "      <th>3</th>\n",
       "      <td>Meet the happiest #dog in the world!</td>\n",
       "      <td>1.000000</td>\n",
       "      <td>clickbait</td>\n",
       "      <td>0.933333</td>\n",
       "    </tr>\n",
       "    <tr>\n",
       "      <th>4</th>\n",
       "      <td>Tokyo's subway is shut down amid fears over an...</td>\n",
       "      <td>0.000000</td>\n",
       "      <td>no-clickbait</td>\n",
       "      <td>0.000000</td>\n",
       "    </tr>\n",
       "  </tbody>\n",
       "</table>\n",
       "</div>"
      ],
      "text/plain": [
       "                                            postText  truthMedian  \\\n",
       "0  UK’s response to modern slavery leaving victim...     0.000000   \n",
       "1                                       this is good     1.000000   \n",
       "2  The \"forgotten\" Trump roast: Relive his brutal...     0.333333   \n",
       "3               Meet the happiest #dog in the world!     1.000000   \n",
       "4  Tokyo's subway is shut down amid fears over an...     0.000000   \n",
       "\n",
       "     truthClass  truthMean  \n",
       "0  no-clickbait   0.133333  \n",
       "1     clickbait   1.000000  \n",
       "2  no-clickbait   0.466667  \n",
       "3     clickbait   0.933333  \n",
       "4  no-clickbait   0.000000  "
      ]
     },
     "execution_count": 47,
     "metadata": {},
     "output_type": "execute_result"
    }
   ],
   "source": [
    "dataset = instances_df.join(truth_df.set_index('id'), on='id')\n",
    "dataset = dataset.drop(labels='id',axis=1)\n",
    "for i in range(len(dataset)):\n",
    "    dataset['postText'].values[i] = dataset['postText'].values[i][0]\n",
    "dataset['postText'].dropna(inplace=True)\n",
    "dataset.head()"
   ]
  },
  {
   "cell_type": "code",
   "execution_count": 48,
   "metadata": {},
   "outputs": [
    {
     "data": {
      "text/html": [
       "<div>\n",
       "<style scoped>\n",
       "    .dataframe tbody tr th:only-of-type {\n",
       "        vertical-align: middle;\n",
       "    }\n",
       "\n",
       "    .dataframe tbody tr th {\n",
       "        vertical-align: top;\n",
       "    }\n",
       "\n",
       "    .dataframe thead th {\n",
       "        text-align: right;\n",
       "    }\n",
       "</style>\n",
       "<table border=\"1\" class=\"dataframe\">\n",
       "  <thead>\n",
       "    <tr style=\"text-align: right;\">\n",
       "      <th></th>\n",
       "      <th>postText</th>\n",
       "      <th>truthMedian</th>\n",
       "      <th>truthClass</th>\n",
       "      <th>truthMean</th>\n",
       "    </tr>\n",
       "  </thead>\n",
       "  <tbody>\n",
       "    <tr>\n",
       "      <th>0</th>\n",
       "      <td>uks response to modern slavery leaving victims...</td>\n",
       "      <td>0</td>\n",
       "      <td>0</td>\n",
       "      <td>0.133333</td>\n",
       "    </tr>\n",
       "    <tr>\n",
       "      <th>1</th>\n",
       "      <td>this is good</td>\n",
       "      <td>3</td>\n",
       "      <td>1</td>\n",
       "      <td>1.000000</td>\n",
       "    </tr>\n",
       "    <tr>\n",
       "      <th>2</th>\n",
       "      <td>the forgotten trump roast relive his brutal 20...</td>\n",
       "      <td>1</td>\n",
       "      <td>0</td>\n",
       "      <td>0.466667</td>\n",
       "    </tr>\n",
       "    <tr>\n",
       "      <th>3</th>\n",
       "      <td>meet the happiest dog in the world</td>\n",
       "      <td>3</td>\n",
       "      <td>1</td>\n",
       "      <td>0.933333</td>\n",
       "    </tr>\n",
       "    <tr>\n",
       "      <th>4</th>\n",
       "      <td>tokyos subway is shut down amid fears over an ...</td>\n",
       "      <td>0</td>\n",
       "      <td>0</td>\n",
       "      <td>0.000000</td>\n",
       "    </tr>\n",
       "  </tbody>\n",
       "</table>\n",
       "</div>"
      ],
      "text/plain": [
       "                                            postText  truthMedian  truthClass  \\\n",
       "0  uks response to modern slavery leaving victims...            0           0   \n",
       "1                                       this is good            3           1   \n",
       "2  the forgotten trump roast relive his brutal 20...            1           0   \n",
       "3                 meet the happiest dog in the world            3           1   \n",
       "4  tokyos subway is shut down amid fears over an ...            0           0   \n",
       "\n",
       "   truthMean  \n",
       "0   0.133333  \n",
       "1   1.000000  \n",
       "2   0.466667  \n",
       "3   0.933333  \n",
       "4   0.000000  "
      ]
     },
     "execution_count": 48,
     "metadata": {},
     "output_type": "execute_result"
    }
   ],
   "source": [
    "# Convert the 'no-clickbait' or 'clickbait' to binary indicator\n",
    "dataset['truthClass'] = dataset['truthClass'].apply(classToBinary)\n",
    "# Convert floating number in 'truthMedian' column to integer\n",
    "dataset['truthMedian'] = dataset['truthMedian'].apply(medianToInteger)\n",
    "# Remove all punctuations and clear the text\n",
    "dataset['postText'] = dataset['postText'].apply(cleanText)\n",
    "dataset.head()"
   ]
  },
  {
   "cell_type": "code",
   "execution_count": 49,
   "metadata": {},
   "outputs": [],
   "source": [
    "# import the glove word embedding file\n",
    "word_to_index, index_to_word, word_to_vec_map = read_glove_vecs('glove.6B/glove.6B.100d.txt')"
   ]
  },
  {
   "cell_type": "code",
   "execution_count": 50,
   "metadata": {},
   "outputs": [
    {
     "data": {
      "text/plain": [
       "25"
      ]
     },
     "execution_count": 50,
     "metadata": {},
     "output_type": "execute_result"
    }
   ],
   "source": [
    "# length of titles with longest words\n",
    "maxLen = maxLengthInPostText(dataset)\n",
    "maxLen"
   ]
  },
  {
   "cell_type": "code",
   "execution_count": 51,
   "metadata": {},
   "outputs": [
    {
     "name": "stdout",
     "output_type": "stream",
     "text": [
      "X_Train_indices =\n",
      " (17584, 25)\n"
     ]
    }
   ],
   "source": [
    "Indices = sentences_to_indices(X_train,word_to_index, maxLen)\n",
    "print(\"X_Train_indices =\\n\", Indices.shape)"
   ]
  },
  {
   "cell_type": "code",
   "execution_count": 66,
   "metadata": {},
   "outputs": [],
   "source": [
    "def ClickBait_BiLSTM(input_shape, word_to_vec_map, word_to_index):\n",
    "    sentence_indices = Input(input_shape, dtype='int32')\n",
    "    embedding_layer = pretrained_embedding_layer(word_to_vec_map, word_to_index)\n",
    "    # Propagate sentence_indices through your embedding layer\n",
    "    embeddings = embedding_layer(sentence_indices)   \n",
    "    # Propagate the embeddings through an LSTM layer with 128-dimensional hidden state\n",
    "    X = Bidirectional(LSTM(128, return_sequences=True))(embeddings)\n",
    "    # dropout\n",
    "    X = Dropout(0.5)(X)\n",
    "    X = Bidirectional(LSTM(128, return_sequences=True))(X)\n",
    "    # dropout\n",
    "    X = Dropout(0.5)(X)\n",
    "    # Propagate X trough another LSTM layer with 128-dimensional hidden state\n",
    "    # The returned output should be a single hidden state, not a batch of sequences.\n",
    "    X = Bidirectional(LSTM(128, return_sequences=False))(X)\n",
    "    # dropout\n",
    "    X = Dropout(0.5)(X)\n",
    "    # Propagate X through a Dense layer with 2 units\n",
    "    X = Dense(4)(X)\n",
    "    # Add a softmax activation\n",
    "    X = Activation('softmax')(X)  \n",
    "    # Create Model instance which converts sentence_indices into X.\n",
    "    model = Model(sentence_indices, X) \n",
    "    return model"
   ]
  },
  {
   "cell_type": "code",
   "execution_count": 67,
   "metadata": {},
   "outputs": [
    {
     "name": "stdout",
     "output_type": "stream",
     "text": [
      "Model: \"functional_7\"\n",
      "_________________________________________________________________\n",
      "Layer (type)                 Output Shape              Param #   \n",
      "=================================================================\n",
      "input_4 (InputLayer)         [(None, 25)]              0         \n",
      "_________________________________________________________________\n",
      "embedding_3 (Embedding)      (None, 25, 100)           40000100  \n",
      "_________________________________________________________________\n",
      "bidirectional_9 (Bidirection (None, 25, 256)           234496    \n",
      "_________________________________________________________________\n",
      "dropout_9 (Dropout)          (None, 25, 256)           0         \n",
      "_________________________________________________________________\n",
      "bidirectional_10 (Bidirectio (None, 25, 256)           394240    \n",
      "_________________________________________________________________\n",
      "dropout_10 (Dropout)         (None, 25, 256)           0         \n",
      "_________________________________________________________________\n",
      "bidirectional_11 (Bidirectio (None, 256)               394240    \n",
      "_________________________________________________________________\n",
      "dropout_11 (Dropout)         (None, 256)               0         \n",
      "_________________________________________________________________\n",
      "dense_3 (Dense)              (None, 4)                 1028      \n",
      "_________________________________________________________________\n",
      "activation_3 (Activation)    (None, 4)                 0         \n",
      "=================================================================\n",
      "Total params: 41,024,104\n",
      "Trainable params: 1,024,004\n",
      "Non-trainable params: 40,000,100\n",
      "_________________________________________________________________\n"
     ]
    }
   ],
   "source": [
    "BiLSTM_model = ClickBait_BiLSTM((maxLen,), word_to_vec_map, word_to_index)\n",
    "BiLSTM_model.summary()"
   ]
  },
  {
   "cell_type": "code",
   "execution_count": 68,
   "metadata": {},
   "outputs": [],
   "source": [
    "BiLSTM_model.compile(loss='categorical_crossentropy', optimizer='adam', metrics=['accuracy'])"
   ]
  },
  {
   "cell_type": "code",
   "execution_count": 69,
   "metadata": {},
   "outputs": [
    {
     "data": {
      "text/plain": [
       "(17584, 25)"
      ]
     },
     "execution_count": 69,
     "metadata": {},
     "output_type": "execute_result"
    }
   ],
   "source": [
    "X_train_indices = sentences_to_indices(X_train, word_to_index, maxLen)\n",
    "Y_train_oh = convert_to_one_hot(Y_train, C = 4)\n",
    "X_train_indices.shape"
   ]
  },
  {
   "cell_type": "code",
   "execution_count": 70,
   "metadata": {},
   "outputs": [
    {
     "name": "stdout",
     "output_type": "stream",
     "text": [
      "Epoch 1/10\n",
      "550/550 [==============================] - 32s 58ms/step - loss: 1.0080 - accuracy: 0.5514\n",
      "Epoch 2/10\n",
      "550/550 [==============================] - 33s 60ms/step - loss: 0.9465 - accuracy: 0.5780\n",
      "Epoch 3/10\n",
      "550/550 [==============================] - 33s 60ms/step - loss: 0.9236 - accuracy: 0.5875\n",
      "Epoch 4/10\n",
      "550/550 [==============================] - 33s 61ms/step - loss: 0.9012 - accuracy: 0.59480s - loss: 0.9005 \n",
      "Epoch 5/10\n",
      "550/550 [==============================] - 33s 60ms/step - loss: 0.8797 - accuracy: 0.6082\n",
      "Epoch 6/10\n",
      "550/550 [==============================] - 25s 46ms/step - loss: 0.8545 - accuracy: 0.6164\n",
      "Epoch 7/10\n",
      "550/550 [==============================] - 23s 42ms/step - loss: 0.8313 - accuracy: 0.6263\n",
      "Epoch 8/10\n",
      "550/550 [==============================] - 31s 56ms/step - loss: 0.7851 - accuracy: 0.6488\n",
      "Epoch 9/10\n",
      "550/550 [==============================] - 36s 66ms/step - loss: 0.7444 - accuracy: 0.6720\n",
      "Epoch 10/10\n",
      "550/550 [==============================] - 37s 66ms/step - loss: 0.6998 - accuracy: 0.6905\n"
     ]
    },
    {
     "data": {
      "text/plain": [
       "<tensorflow.python.keras.callbacks.History at 0x195b0512700>"
      ]
     },
     "execution_count": 70,
     "metadata": {},
     "output_type": "execute_result"
    }
   ],
   "source": [
    "BiLSTM_model.fit(X_train_indices, Y_train_oh, epochs = 10, batch_size = 32, shuffle=True)"
   ]
  },
  {
   "cell_type": "code",
   "execution_count": 71,
   "metadata": {},
   "outputs": [
    {
     "name": "stdout",
     "output_type": "stream",
     "text": [
      "LSTM Training Accuracy\n",
      "Accuracy 0.9059940855323021\n",
      "Precision 0.8357034027425089\n",
      "Recall 0.7658831743076565\n",
      "F1 score: 0.7992714025500911\n",
      "MSE 0.09458902031760782\n"
     ]
    }
   ],
   "source": [
    "from sklearn.metrics import accuracy_score, f1_score, precision_score, recall_score,roc_auc_score, mean_squared_error, classification_report\n",
    "y_train_pred_oh = BiLSTM_model.predict(X_train_indices)\n",
    "y_train_pred_binary = onehot_to_binary(y_train_pred_oh)\n",
    "Y_train_binary = onehot_to_binary(Y_train_oh)\n",
    "\n",
    "print(\"LSTM Training Accuracy\")\n",
    "print('Accuracy %s' % accuracy_score(Y_train_binary, y_train_pred_binary))\n",
    "print('Precision %s' % precision_score(Y_train_binary, y_train_pred_binary))\n",
    "print('Recall %s' % recall_score(Y_train_binary, y_train_pred_binary))\n",
    "print('F1 score: %s' % f1_score(Y_train_binary, y_train_pred_binary))\n",
    "print('MSE %s' % mean_squared_error(Y_train_mean, y_train_pred_binary))"
   ]
  },
  {
   "cell_type": "code",
   "execution_count": 72,
   "metadata": {
    "scrolled": true
   },
   "outputs": [
    {
     "name": "stdout",
     "output_type": "stream",
     "text": [
      "LSTM Testing Accuracy\n",
      "Accuracy 0.8372569089048106\n",
      "Precision 0.6763285024154589\n",
      "Recall 0.603448275862069\n",
      "F1 score: 0.6378132118451026\n",
      "MSE 0.11700216080538066\n"
     ]
    }
   ],
   "source": [
    "X_test_indices = sentences_to_indices(X_test, word_to_index, max_len = maxLen)\n",
    "y_pred_onehot = BiLSTM_model.predict(X_test_indices)\n",
    "y_pred_binary = onehot_to_binary(y_pred_onehot)\n",
    "\n",
    "print(\"LSTM Testing Accuracy\")\n",
    "print('Accuracy %s' % accuracy_score(Y_test, y_pred_binary))\n",
    "print('Precision %s' % precision_score(Y_test, y_pred_binary))\n",
    "print('Recall %s' % recall_score(Y_test, y_pred_binary))\n",
    "print('F1 score: %s' % f1_score(Y_test, y_pred_binary))\n",
    "print('MSE %s' % mean_squared_error(Y_test_mean, y_pred_binary))"
   ]
  },
  {
   "cell_type": "code",
   "execution_count": 73,
   "metadata": {},
   "outputs": [
    {
     "name": "stdout",
     "output_type": "stream",
     "text": [
      "LSTM Testing report\n",
      "              precision    recall  f1-score   support\n",
      "\n",
      "           0       0.88      0.91      0.90      1490\n",
      "           1       0.68      0.60      0.64       464\n",
      "\n",
      "    accuracy                           0.84      1954\n",
      "   macro avg       0.78      0.76      0.77      1954\n",
      "weighted avg       0.83      0.84      0.83      1954\n",
      "\n"
     ]
    }
   ],
   "source": [
    "print(\"LSTM Testing report\")\n",
    "print(classification_report(Y_test, y_pred_binary))"
   ]
  },
  {
   "cell_type": "code",
   "execution_count": 74,
   "metadata": {},
   "outputs": [
    {
     "name": "stdout",
     "output_type": "stream",
     "text": [
      "Minimum MSE 0.07735698851201318\n"
     ]
    }
   ],
   "source": [
    "print('Minimum MSE %s' % mean_squared_error(Y_test_mean, Y_test))"
   ]
  },
  {
   "cell_type": "code",
   "execution_count": 75,
   "metadata": {},
   "outputs": [],
   "source": [
    "# Save our model\n",
    "BiLSTM_model.save(\"BiLSTM_model.h5\")"
   ]
  },
  {
   "cell_type": "code",
   "execution_count": 76,
   "metadata": {
    "scrolled": true
   },
   "outputs": [
    {
     "name": "stdout",
     "output_type": "stream",
     "text": [
      "death is part of working on the mountain\n",
      "Actual Label 1\n",
      "Prediction Lable 0\n",
      "Prediction [0.61711687 0.34225258 0.03849593 0.00213457]\n",
      "-------------\n",
      "should we be allowed to use superannuation on house deposits\n",
      "Actual Label 1\n",
      "Prediction Lable 0\n",
      "Prediction [0.85207176 0.13587472 0.01117451 0.0008791 ]\n",
      "-------------\n",
      "chinese companies success in reducing debt isnt all it seems  via bfly\n",
      "Actual Label 1\n",
      "Prediction Lable 0\n",
      "Prediction [0.1615168  0.5215397  0.28216648 0.03477708]\n",
      "-------------\n",
      "how the ball brothers came to rule in basketball\n",
      "Actual Label 1\n",
      "Prediction Lable 0\n",
      "Prediction [0.13078845 0.45198175 0.3577132  0.05951652]\n",
      "-------------\n",
      "europe could be heading for its first far right leader since wwii\n",
      "Actual Label 1\n",
      "Prediction Lable 0\n",
      "Prediction [0.67337555 0.29133207 0.03332807 0.00196432]\n",
      "-------------\n",
      "ges jeff immelt on trump and globalization\n",
      "Actual Label 1\n",
      "Prediction Lable 0\n",
      "Prediction [9.4157064e-01 5.8237504e-02 1.9021989e-04 1.5401434e-06]\n",
      "-------------\n",
      "said in their resignation letters that council members asked them to do illegal unethical and immoral things\n",
      "Actual Label 1\n",
      "Prediction Lable 0\n",
      "Prediction [0.54529333 0.3776305  0.07189725 0.00517886]\n",
      "-------------\n",
      "aussie couples left in legal limbo in cambodia unable to bring surrogate babies home months after their birth\n",
      "Actual Label 1\n",
      "Prediction Lable 0\n",
      "Prediction [0.5874759  0.3698993  0.04094448 0.00168026]\n",
      "-------------\n",
      "donald trump just swore in a hedge fund manager with an unusual name and a famous girlfriend\n",
      "Actual Label 1\n",
      "Prediction Lable 0\n",
      "Prediction [0.39062577 0.45451275 0.14236125 0.01250023]\n",
      "-------------\n",
      "see whats inside this years oscars gift bagworth hundreds of thousands of dollars\n",
      "Actual Label 1\n",
      "Prediction Lable 0\n",
      "Prediction [0.47408506 0.37690938 0.1286546  0.02035096]\n",
      "-------------\n",
      "theres no stopping a woman with a dream to travel and a motorbike to get her there inspired traveldiaries \n",
      "Actual Label 0\n",
      "Prediction Lable 1\n",
      "Prediction [0.06871666 0.278165   0.4323893  0.22072902]\n",
      "-------------\n",
      "scientists claim breakthrough shows ageing process could be reversed\n",
      "Actual Label 1\n",
      "Prediction Lable 0\n",
      "Prediction [0.22211815 0.6603116  0.11378878 0.00378156]\n",
      "-------------\n",
      "which iconic kim kardashian instagram photo got the most likes\n",
      "Actual Label 0\n",
      "Prediction Lable 1\n",
      "Prediction [0.06470314 0.31248325 0.4530577  0.16975595]\n",
      "-------------\n",
      "sears has a bigger problem than plunging sales  but nobodys talking about it\n",
      "Actual Label 1\n",
      "Prediction Lable 0\n",
      "Prediction [0.0688465  0.4560231  0.4118451  0.06328532]\n",
      "-------------\n",
      "how neil gorsuch became donald trumps supreme court nominee\n",
      "Actual Label 1\n",
      "Prediction Lable 0\n",
      "Prediction [0.74424505 0.23365809 0.01943813 0.0026587 ]\n",
      "-------------\n",
      "twitter turned an old photo of meryl streep into an incredible meme\n",
      "Actual Label 1\n",
      "Prediction Lable 0\n",
      "Prediction [0.14776684 0.42367795 0.3530503  0.075505  ]\n",
      "-------------\n",
      "and to top it off the cavs lost\n",
      "Actual Label 1\n",
      "Prediction Lable 0\n",
      "Prediction [0.21900877 0.41166246 0.290566   0.07876273]\n",
      "-------------\n",
      "a dude tried to troll this supermarkets twitter account and things got weird fast\n",
      "Actual Label 0\n",
      "Prediction Lable 1\n",
      "Prediction [0.05528494 0.35915396 0.44801277 0.13754833]\n",
      "-------------\n",
      "24hour work shifts can wreak havoc on the heart\n",
      "Actual Label 1\n",
      "Prediction Lable 0\n",
      "Prediction [0.03756222 0.57461    0.37328175 0.01454597]\n",
      "-------------\n",
      "nfl prospect missed out on winning an island because he wore nike instead of adidas\n",
      "Actual Label 1\n",
      "Prediction Lable 0\n",
      "Prediction [0.36342895 0.49943244 0.12681855 0.01032014]\n",
      "-------------\n",
      "the most extreme body modifications in the world revealed\n",
      "Actual Label 0\n",
      "Prediction Lable 1\n",
      "Prediction [0.02741818 0.15601383 0.372204   0.44436398]\n",
      "-------------\n",
      "student creates enormous simpsons portrait on his colleges wintry lawn\n",
      "Actual Label 1\n",
      "Prediction Lable 0\n",
      "Prediction [5.7413435e-01 4.0923202e-01 1.6255783e-02 3.7785777e-04]\n",
      "-------------\n",
      "this 100 billion chinesemade city near singapore scares the hell out of everybody\n",
      "Actual Label 0\n",
      "Prediction Lable 1\n",
      "Prediction [0.05096554 0.2593899  0.4453927  0.24425179]\n",
      "-------------\n"
     ]
    }
   ],
   "source": [
    "# Error Analysis\n",
    "for i in range(100):\n",
    "    if Y_test[i] - y_pred_binary[i] != 0:\n",
    "        print(X_test[i])\n",
    "        print(\"Actual Label\",Y_test[i])\n",
    "        print(\"Prediction Lable\",y_pred_binary[i])\n",
    "        print(\"Prediction\",y_pred_onehot[i])\n",
    "        print(\"-------------\")"
   ]
  },
  {
   "cell_type": "code",
   "execution_count": 77,
   "metadata": {},
   "outputs": [],
   "source": [
    "# Utilize our model and test the real-world headlines\n",
    "def test(headline):\n",
    "    headline = cleanText(headline)\n",
    "    headline_np = np.array([headline])\n",
    "    indices = sentences_to_indices(headline_np, word_to_index, max_len = maxLen)\n",
    "    #y_pred_onehot = lstm_model.predict(test_indices)\n",
    "    y_pred_onehot = BiLSTM_model.predict(indices)\n",
    "    y_pred_binary = onehot_to_binary(y_pred_onehot)\n",
    "    return True if y_pred_binary == [1] else False"
   ]
  },
  {
   "cell_type": "code",
   "execution_count": 78,
   "metadata": {},
   "outputs": [
    {
     "data": {
      "text/plain": [
       "True"
      ]
     },
     "execution_count": 78,
     "metadata": {},
     "output_type": "execute_result"
    }
   ],
   "source": [
    "headline = \"Here are 10 things you may not know\"\n",
    "test(headline)"
   ]
  },
  {
   "cell_type": "code",
   "execution_count": null,
   "metadata": {},
   "outputs": [],
   "source": []
  }
 ],
 "metadata": {
  "kernelspec": {
   "display_name": "Python 3",
   "language": "python",
   "name": "python3"
  },
  "language_info": {
   "codemirror_mode": {
    "name": "ipython",
    "version": 3
   },
   "file_extension": ".py",
   "mimetype": "text/x-python",
   "name": "python",
   "nbconvert_exporter": "python",
   "pygments_lexer": "ipython3",
   "version": "3.8.6"
  }
 },
 "nbformat": 4,
 "nbformat_minor": 4
}
