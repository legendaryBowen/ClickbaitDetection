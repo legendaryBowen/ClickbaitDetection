{
 "cells": [
  {
   "cell_type": "code",
   "execution_count": 1,
   "metadata": {},
   "outputs": [],
   "source": [
    "import numpy as np\n",
    "import pandas as pd\n",
    "import json\n",
    "from utils import *\n",
    "from sklearn.model_selection import train_test_split\n",
    "from keras.models import Model\n",
    "from keras.layers import Dense, Input, Dropout, LSTM, Activation, GRU, Bidirectional\n",
    "from keras.layers.embeddings import Embedding\n",
    "from keras.preprocessing import sequence\n",
    "from keras.initializers import glorot_uniform"
   ]
  },
  {
   "cell_type": "code",
   "execution_count": 44,
   "metadata": {},
   "outputs": [],
   "source": [
    "# truth_df = pd.DataFrame(columns=['id','truthMedian','truthClass','truthMean'])\n",
    "# with open('data/truth.jsonl') as data:\n",
    "#     for labelobj in data:\n",
    "#         truth = json.loads(labelobj)\n",
    "#         truthlabel = {'id': truth['id'], 'truthMedian': truth['truthMedian'], 'truthClass': truth['truthClass'], 'truthMean': truth['truthMean']}\n",
    "#         truth_df = truth_df.append(truthlabel, ignore_index = True)\n",
    "# truth_df.head()  "
   ]
  },
  {
   "cell_type": "code",
   "execution_count": 45,
   "metadata": {},
   "outputs": [],
   "source": [
    "# instances_df = pd.DataFrame(columns=['id','postText'])\n",
    "# with open('data/instances.jsonl') as data:\n",
    "# \tfor instanceobj in data:\n",
    "# \t\tinstance = json.loads(instanceobj)\n",
    "# \t\tinstancerow = {'id': instance['id'], 'postText': instance['postText']}\n",
    "# \t\tinstances_df = instances_df.append(instancerow, ignore_index=True)\n",
    "# instances_df.head()"
   ]
  },
  {
   "cell_type": "code",
   "execution_count": 46,
   "metadata": {},
   "outputs": [],
   "source": [
    "# dataset = instances_df.join(truth_df.set_index('id'), on='id')\n",
    "# dataset = dataset.drop(labels='id',axis=1)\n",
    "# for i in range(len(dataset)):\n",
    "#     dataset['postText'].values[i] = dataset['postText'].values[i][0]\n",
    "# dataset['postText'].dropna(inplace=True)\n",
    "# dataset.head()"
   ]
  },
  {
   "cell_type": "code",
   "execution_count": 47,
   "metadata": {},
   "outputs": [],
   "source": [
    "# # Convert the 'no-clickbait' or 'clickbait' to binary indicator\n",
    "# dataset['truthClass'] = dataset['truthClass'].apply(classToBinary)\n",
    "# # Convert floating number in 'truthMedian' column to integer\n",
    "# dataset['truthMedian'] = dataset['truthMedian'].apply(medianToInteger)\n",
    "# # Remove all punctuations and clear the text\n",
    "# dataset['postText'] = dataset['postText'].apply(cleanText)\n",
    "# dataset.head()"
   ]
  },
  {
   "cell_type": "code",
   "execution_count": 48,
   "metadata": {},
   "outputs": [],
   "source": [
    "# # split the dataset to training and testing set\n",
    "# train, test = train_test_split(dataset, test_size=0.2)\n",
    "# X_train, Y_train = np.array(train[\"postText\"].tolist()), np.array(train[\"truthClass\"].tolist())\n",
    "# X_test, Y_test = np.array(test[\"postText\"].tolist()), np.array(test[\"truthClass\"].tolist())\n",
    "# print(X_train.shape)\n",
    "# print(X_test.shape)"
   ]
  },
  {
   "cell_type": "code",
   "execution_count": 24,
   "metadata": {},
   "outputs": [
    {
     "data": {
      "text/html": [
       "<div>\n",
       "<style scoped>\n",
       "    .dataframe tbody tr th:only-of-type {\n",
       "        vertical-align: middle;\n",
       "    }\n",
       "\n",
       "    .dataframe tbody tr th {\n",
       "        vertical-align: top;\n",
       "    }\n",
       "\n",
       "    .dataframe thead th {\n",
       "        text-align: right;\n",
       "    }\n",
       "</style>\n",
       "<table border=\"1\" class=\"dataframe\">\n",
       "  <thead>\n",
       "    <tr style=\"text-align: right;\">\n",
       "      <th></th>\n",
       "      <th>id</th>\n",
       "      <th>postText</th>\n",
       "      <th>truthMedian</th>\n",
       "      <th>truthClass</th>\n",
       "      <th>truthMean</th>\n",
       "    </tr>\n",
       "  </thead>\n",
       "  <tbody>\n",
       "    <tr>\n",
       "      <th>0</th>\n",
       "      <td>849630396191055872</td>\n",
       "      <td>Flying mattress strikes biker at 50 mph, ends ...</td>\n",
       "      <td>0.000000</td>\n",
       "      <td>0</td>\n",
       "      <td>0.200000</td>\n",
       "    </tr>\n",
       "    <tr>\n",
       "      <th>1</th>\n",
       "      <td>805003400136036352</td>\n",
       "      <td>The Grand Tour: Jeremy Clarkson is really taun...</td>\n",
       "      <td>0.000000</td>\n",
       "      <td>0</td>\n",
       "      <td>0.200000</td>\n",
       "    </tr>\n",
       "    <tr>\n",
       "      <th>2</th>\n",
       "      <td>811134324628226048</td>\n",
       "      <td>Was this murderous attack on a Russian diploma...</td>\n",
       "      <td>0.666667</td>\n",
       "      <td>1</td>\n",
       "      <td>0.533333</td>\n",
       "    </tr>\n",
       "    <tr>\n",
       "      <th>3</th>\n",
       "      <td>807681539580502016</td>\n",
       "      <td>PartyNextDoor brings out Drake, G-Eazy and mor...</td>\n",
       "      <td>0.000000</td>\n",
       "      <td>0</td>\n",
       "      <td>0.266667</td>\n",
       "    </tr>\n",
       "    <tr>\n",
       "      <th>4</th>\n",
       "      <td>807465142032232450</td>\n",
       "      <td>A far-right Dutch lawmaker who wants to Make t...</td>\n",
       "      <td>0.000000</td>\n",
       "      <td>0</td>\n",
       "      <td>0.200000</td>\n",
       "    </tr>\n",
       "  </tbody>\n",
       "</table>\n",
       "</div>"
      ],
      "text/plain": [
       "                   id                                           postText  \\\n",
       "0  849630396191055872  Flying mattress strikes biker at 50 mph, ends ...   \n",
       "1  805003400136036352  The Grand Tour: Jeremy Clarkson is really taun...   \n",
       "2  811134324628226048  Was this murderous attack on a Russian diploma...   \n",
       "3  807681539580502016  PartyNextDoor brings out Drake, G-Eazy and mor...   \n",
       "4  807465142032232450  A far-right Dutch lawmaker who wants to Make t...   \n",
       "\n",
       "   truthMedian truthClass  truthMean  \n",
       "0     0.000000          0   0.200000  \n",
       "1     0.000000          0   0.200000  \n",
       "2     0.666667          1   0.533333  \n",
       "3     0.000000          0   0.266667  \n",
       "4     0.000000          0   0.200000  "
      ]
     },
     "execution_count": 24,
     "metadata": {},
     "output_type": "execute_result"
    }
   ],
   "source": [
    "train_df = pd.DataFrame(columns=['id','postText','truthMedian','truthClass','truthMean'])\n",
    "with open('data/train.json') as json_data:\n",
    "    data = json.load(json_data)\n",
    "    for instance in data:\n",
    "        train_instance = {'id': instance['text_id'], 'postText': instance['post_text'], 'truthMedian': instance['truth_median'], 'truthClass': instance['click_bait'], 'truthMean': instance['truth_mean']}\n",
    "        train_df = train_df.append(train_instance, ignore_index = True)\n",
    "train_df.head()"
   ]
  },
  {
   "cell_type": "code",
   "execution_count": 25,
   "metadata": {},
   "outputs": [
    {
     "data": {
      "text/html": [
       "<div>\n",
       "<style scoped>\n",
       "    .dataframe tbody tr th:only-of-type {\n",
       "        vertical-align: middle;\n",
       "    }\n",
       "\n",
       "    .dataframe tbody tr th {\n",
       "        vertical-align: top;\n",
       "    }\n",
       "\n",
       "    .dataframe thead th {\n",
       "        text-align: right;\n",
       "    }\n",
       "</style>\n",
       "<table border=\"1\" class=\"dataframe\">\n",
       "  <thead>\n",
       "    <tr style=\"text-align: right;\">\n",
       "      <th></th>\n",
       "      <th>id</th>\n",
       "      <th>postText</th>\n",
       "      <th>truthMedian</th>\n",
       "      <th>truthClass</th>\n",
       "      <th>truthMean</th>\n",
       "    </tr>\n",
       "  </thead>\n",
       "  <tbody>\n",
       "    <tr>\n",
       "      <th>0</th>\n",
       "      <td>841383755944189952</td>\n",
       "      <td>John Lewis blasts GOP rep's \"bigoted and racis...</td>\n",
       "      <td>0.000000</td>\n",
       "      <td>0</td>\n",
       "      <td>0.200000</td>\n",
       "    </tr>\n",
       "    <tr>\n",
       "      <th>1</th>\n",
       "      <td>852354010820620288</td>\n",
       "      <td>The NBA playoff bracket is now set</td>\n",
       "      <td>0.000000</td>\n",
       "      <td>0</td>\n",
       "      <td>0.200000</td>\n",
       "    </tr>\n",
       "    <tr>\n",
       "      <th>2</th>\n",
       "      <td>838728651545903104</td>\n",
       "      <td>Migrants smash up German asylum centre and sev...</td>\n",
       "      <td>0.000000</td>\n",
       "      <td>0</td>\n",
       "      <td>0.133333</td>\n",
       "    </tr>\n",
       "    <tr>\n",
       "      <th>3</th>\n",
       "      <td>805465449739718656</td>\n",
       "      <td>America's most livable states, ranked</td>\n",
       "      <td>0.666667</td>\n",
       "      <td>1</td>\n",
       "      <td>0.666667</td>\n",
       "    </tr>\n",
       "    <tr>\n",
       "      <th>4</th>\n",
       "      <td>841713776382627840</td>\n",
       "      <td>WIP or RIP?</td>\n",
       "      <td>1.000000</td>\n",
       "      <td>1</td>\n",
       "      <td>0.933333</td>\n",
       "    </tr>\n",
       "  </tbody>\n",
       "</table>\n",
       "</div>"
      ],
      "text/plain": [
       "                   id                                           postText  \\\n",
       "0  841383755944189952  John Lewis blasts GOP rep's \"bigoted and racis...   \n",
       "1  852354010820620288                 The NBA playoff bracket is now set   \n",
       "2  838728651545903104  Migrants smash up German asylum centre and sev...   \n",
       "3  805465449739718656              America's most livable states, ranked   \n",
       "4  841713776382627840                                        WIP or RIP?   \n",
       "\n",
       "   truthMedian truthClass  truthMean  \n",
       "0     0.000000          0   0.200000  \n",
       "1     0.000000          0   0.200000  \n",
       "2     0.000000          0   0.133333  \n",
       "3     0.666667          1   0.666667  \n",
       "4     1.000000          1   0.933333  "
      ]
     },
     "execution_count": 25,
     "metadata": {},
     "output_type": "execute_result"
    }
   ],
   "source": [
    "test_df = pd.DataFrame(columns=['id','postText','truthMedian','truthClass','truthMean'])\n",
    "with open('data/test.json') as json_data:\n",
    "    data = json.load(json_data)\n",
    "    for instance in data:\n",
    "        test_instance = {'id': instance['text_id'], 'postText': instance['post_text'], 'truthMedian': instance['truth_median'], 'truthClass': instance['click_bait'], 'truthMean': instance['truth_mean']}\n",
    "        test_df = test_df.append(test_instance, ignore_index = True)\n",
    "test_df.head()"
   ]
  },
  {
   "cell_type": "code",
   "execution_count": 26,
   "metadata": {},
   "outputs": [
    {
     "data": {
      "text/html": [
       "<div>\n",
       "<style scoped>\n",
       "    .dataframe tbody tr th:only-of-type {\n",
       "        vertical-align: middle;\n",
       "    }\n",
       "\n",
       "    .dataframe tbody tr th {\n",
       "        vertical-align: top;\n",
       "    }\n",
       "\n",
       "    .dataframe thead th {\n",
       "        text-align: right;\n",
       "    }\n",
       "</style>\n",
       "<table border=\"1\" class=\"dataframe\">\n",
       "  <thead>\n",
       "    <tr style=\"text-align: right;\">\n",
       "      <th></th>\n",
       "      <th>id</th>\n",
       "      <th>postText</th>\n",
       "      <th>truthMedian</th>\n",
       "      <th>truthClass</th>\n",
       "      <th>truthMean</th>\n",
       "    </tr>\n",
       "  </thead>\n",
       "  <tbody>\n",
       "    <tr>\n",
       "      <th>0</th>\n",
       "      <td>849630396191055872</td>\n",
       "      <td>flying mattress strikes biker at 50 mph ends u...</td>\n",
       "      <td>0</td>\n",
       "      <td>0</td>\n",
       "      <td>0.200000</td>\n",
       "    </tr>\n",
       "    <tr>\n",
       "      <th>1</th>\n",
       "      <td>805003400136036352</td>\n",
       "      <td>the grand tour jeremy clarkson is really taunt...</td>\n",
       "      <td>0</td>\n",
       "      <td>0</td>\n",
       "      <td>0.200000</td>\n",
       "    </tr>\n",
       "    <tr>\n",
       "      <th>2</th>\n",
       "      <td>811134324628226048</td>\n",
       "      <td>was this murderous attack on a russian diploma...</td>\n",
       "      <td>2</td>\n",
       "      <td>1</td>\n",
       "      <td>0.533333</td>\n",
       "    </tr>\n",
       "    <tr>\n",
       "      <th>3</th>\n",
       "      <td>807681539580502016</td>\n",
       "      <td>partynextdoor brings out drake geazy and more ...</td>\n",
       "      <td>0</td>\n",
       "      <td>0</td>\n",
       "      <td>0.266667</td>\n",
       "    </tr>\n",
       "    <tr>\n",
       "      <th>4</th>\n",
       "      <td>807465142032232450</td>\n",
       "      <td>a farright dutch lawmaker who wants to make th...</td>\n",
       "      <td>0</td>\n",
       "      <td>0</td>\n",
       "      <td>0.200000</td>\n",
       "    </tr>\n",
       "  </tbody>\n",
       "</table>\n",
       "</div>"
      ],
      "text/plain": [
       "                   id                                           postText  \\\n",
       "0  849630396191055872  flying mattress strikes biker at 50 mph ends u...   \n",
       "1  805003400136036352  the grand tour jeremy clarkson is really taunt...   \n",
       "2  811134324628226048  was this murderous attack on a russian diploma...   \n",
       "3  807681539580502016  partynextdoor brings out drake geazy and more ...   \n",
       "4  807465142032232450  a farright dutch lawmaker who wants to make th...   \n",
       "\n",
       "   truthMedian truthClass  truthMean  \n",
       "0            0          0   0.200000  \n",
       "1            0          0   0.200000  \n",
       "2            2          1   0.533333  \n",
       "3            0          0   0.266667  \n",
       "4            0          0   0.200000  "
      ]
     },
     "execution_count": 26,
     "metadata": {},
     "output_type": "execute_result"
    }
   ],
   "source": [
    "# Convert floating number in 'truthMedian' column to integer\n",
    "train_df['truthMedian'] = train_df['truthMedian'].apply(medianToInteger)\n",
    "# Remove all punctuations and clear the text\n",
    "train_df['postText'] = train_df['postText'].apply(cleanText)\n",
    "train_df.head()"
   ]
  },
  {
   "cell_type": "code",
   "execution_count": 27,
   "metadata": {},
   "outputs": [
    {
     "data": {
      "text/html": [
       "<div>\n",
       "<style scoped>\n",
       "    .dataframe tbody tr th:only-of-type {\n",
       "        vertical-align: middle;\n",
       "    }\n",
       "\n",
       "    .dataframe tbody tr th {\n",
       "        vertical-align: top;\n",
       "    }\n",
       "\n",
       "    .dataframe thead th {\n",
       "        text-align: right;\n",
       "    }\n",
       "</style>\n",
       "<table border=\"1\" class=\"dataframe\">\n",
       "  <thead>\n",
       "    <tr style=\"text-align: right;\">\n",
       "      <th></th>\n",
       "      <th>id</th>\n",
       "      <th>postText</th>\n",
       "      <th>truthMedian</th>\n",
       "      <th>truthClass</th>\n",
       "      <th>truthMean</th>\n",
       "    </tr>\n",
       "  </thead>\n",
       "  <tbody>\n",
       "    <tr>\n",
       "      <th>0</th>\n",
       "      <td>841383755944189952</td>\n",
       "      <td>john lewis blasts gop reps bigoted and racist ...</td>\n",
       "      <td>0</td>\n",
       "      <td>0</td>\n",
       "      <td>0.200000</td>\n",
       "    </tr>\n",
       "    <tr>\n",
       "      <th>1</th>\n",
       "      <td>852354010820620288</td>\n",
       "      <td>the nba playoff bracket is now set</td>\n",
       "      <td>0</td>\n",
       "      <td>0</td>\n",
       "      <td>0.200000</td>\n",
       "    </tr>\n",
       "    <tr>\n",
       "      <th>2</th>\n",
       "      <td>838728651545903104</td>\n",
       "      <td>migrants smash up german asylum centre and sev...</td>\n",
       "      <td>0</td>\n",
       "      <td>0</td>\n",
       "      <td>0.133333</td>\n",
       "    </tr>\n",
       "    <tr>\n",
       "      <th>3</th>\n",
       "      <td>805465449739718656</td>\n",
       "      <td>americas most livable states ranked</td>\n",
       "      <td>2</td>\n",
       "      <td>1</td>\n",
       "      <td>0.666667</td>\n",
       "    </tr>\n",
       "    <tr>\n",
       "      <th>4</th>\n",
       "      <td>841713776382627840</td>\n",
       "      <td>wip or rip</td>\n",
       "      <td>3</td>\n",
       "      <td>1</td>\n",
       "      <td>0.933333</td>\n",
       "    </tr>\n",
       "  </tbody>\n",
       "</table>\n",
       "</div>"
      ],
      "text/plain": [
       "                   id                                           postText  \\\n",
       "0  841383755944189952  john lewis blasts gop reps bigoted and racist ...   \n",
       "1  852354010820620288                 the nba playoff bracket is now set   \n",
       "2  838728651545903104  migrants smash up german asylum centre and sev...   \n",
       "3  805465449739718656                americas most livable states ranked   \n",
       "4  841713776382627840                                         wip or rip   \n",
       "\n",
       "   truthMedian truthClass  truthMean  \n",
       "0            0          0   0.200000  \n",
       "1            0          0   0.200000  \n",
       "2            0          0   0.133333  \n",
       "3            2          1   0.666667  \n",
       "4            3          1   0.933333  "
      ]
     },
     "execution_count": 27,
     "metadata": {},
     "output_type": "execute_result"
    }
   ],
   "source": [
    "# Convert floating number in 'truthMedian' column to integer\n",
    "test_df['truthMedian'] = test_df['truthMedian'].apply(medianToInteger)\n",
    "# Remove all punctuations and clear the text\n",
    "test_df['postText'] = test_df['postText'].apply(cleanText)\n",
    "test_df.head()"
   ]
  },
  {
   "cell_type": "code",
   "execution_count": 28,
   "metadata": {},
   "outputs": [
    {
     "name": "stdout",
     "output_type": "stream",
     "text": [
      "(15567,)\n",
      "(3892,)\n"
     ]
    }
   ],
   "source": [
    "X_train, Y_train = np.array(train_df[\"postText\"].tolist()), np.array(train_df[\"truthClass\"].tolist())\n",
    "X_test, Y_test = np.array(test_df[\"postText\"].tolist()), np.array(test_df[\"truthClass\"].tolist())\n",
    "print(X_train.shape)\n",
    "print(X_test.shape)"
   ]
  },
  {
   "cell_type": "code",
   "execution_count": 19,
   "metadata": {},
   "outputs": [
    {
     "name": "stderr",
     "output_type": "stream",
     "text": [
      "C:\\Users\\yuanb\\AppData\\Roaming\\Python\\Python37\\site-packages\\tensorflow_addons\\utils\\ensure_tf_install.py:68: UserWarning: Tensorflow Addons supports using Python ops for all Tensorflow versions above or equal to 2.2.0 and strictly below 2.4.0 (nightly versions are not supported). \n",
      " The versions of TensorFlow you are currently using is 2.4.0-rc0 and is not supported. \n",
      "Some things might work, some things might not.\n",
      "If you were to encounter a bug, do not file an issue.\n",
      "If you want to make sure you're using a tested and supported configuration, either change the TensorFlow version or the TensorFlow Addons's version. \n",
      "You can find the compatibility matrix in TensorFlow Addon's readme:\n",
      "https://github.com/tensorflow/addons\n",
      "  UserWarning,\n"
     ]
    }
   ],
   "source": [
    "import os\n",
    "import shutil\n",
    "import tensorflow as tf\n",
    "import tensorflow_hub as hub\n",
    "import tensorflow_text as text\n",
    "from official.nlp import optimization\n",
    "import matplotlib.pyplot as plt\n"
   ]
  },
  {
   "cell_type": "code",
   "execution_count": 14,
   "metadata": {},
   "outputs": [
    {
     "name": "stdout",
     "output_type": "stream",
     "text": [
      "BERT model selected           : https://tfhub.dev/tensorflow/small_bert/bert_en_uncased_L-4_H-512_A-8/1\n",
      "Preprocess model auto-selected: https://tfhub.dev/tensorflow/bert_en_uncased_preprocess/1\n"
     ]
    }
   ],
   "source": [
    "bert_model_name = 'small_bert/bert_en_uncased_L-4_H-512_A-8'\n",
    "\n",
    "map_name_to_handle = {\n",
    "    'small_bert/bert_en_uncased_L-4_H-512_A-8':\n",
    "        'https://tfhub.dev/tensorflow/small_bert/bert_en_uncased_L-4_H-512_A-8/1',\n",
    "}\n",
    "\n",
    "map_model_to_preprocess = {\n",
    "    'small_bert/bert_en_uncased_L-4_H-512_A-8':\n",
    "        'https://tfhub.dev/tensorflow/bert_en_uncased_preprocess/1'\n",
    "}\n",
    "\n",
    "tfhub_handle_encoder = map_name_to_handle[bert_model_name]\n",
    "tfhub_handle_preprocess = map_model_to_preprocess[bert_model_name]\n",
    "\n",
    "print(f'BERT model selected           : {tfhub_handle_encoder}')\n",
    "print(f'Preprocess model auto-selected: {tfhub_handle_preprocess}')"
   ]
  },
  {
   "cell_type": "code",
   "execution_count": 20,
   "metadata": {},
   "outputs": [
    {
     "name": "stdout",
     "output_type": "stream",
     "text": [
      "WARNING:tensorflow:11 out of the last 11 calls to <function recreate_function.<locals>.restored_function_body at 0x0000024DCD7E6CA8> triggered tf.function retracing. Tracing is expensive and the excessive number of tracings could be due to (1) creating @tf.function repeatedly in a loop, (2) passing tensors with different shapes, (3) passing Python objects instead of tensors. For (1), please define your @tf.function outside of the loop. For (2), @tf.function has experimental_relax_shapes=True option that relaxes argument shapes that can avoid unnecessary retracing. For (3), please refer to https://www.tensorflow.org/guide/function#controlling_retracing and https://www.tensorflow.org/api_docs/python/tf/function for  more details.\n"
     ]
    },
    {
     "name": "stderr",
     "output_type": "stream",
     "text": [
      "WARNING:tensorflow:11 out of the last 11 calls to <function recreate_function.<locals>.restored_function_body at 0x0000024DCD7E6CA8> triggered tf.function retracing. Tracing is expensive and the excessive number of tracings could be due to (1) creating @tf.function repeatedly in a loop, (2) passing tensors with different shapes, (3) passing Python objects instead of tensors. For (1), please define your @tf.function outside of the loop. For (2), @tf.function has experimental_relax_shapes=True option that relaxes argument shapes that can avoid unnecessary retracing. For (3), please refer to https://www.tensorflow.org/guide/function#controlling_retracing and https://www.tensorflow.org/api_docs/python/tf/function for  more details.\n"
     ]
    },
    {
     "name": "stdout",
     "output_type": "stream",
     "text": [
      "WARNING:tensorflow:Unresolved object in checkpoint: (root).layer-1._vocab_table._initializer\n"
     ]
    },
    {
     "name": "stderr",
     "output_type": "stream",
     "text": [
      "WARNING:tensorflow:Unresolved object in checkpoint: (root).layer-1._vocab_table._initializer\n"
     ]
    },
    {
     "name": "stdout",
     "output_type": "stream",
     "text": [
      "WARNING:tensorflow:Unresolved object in checkpoint: (root).layer-1._vocab_table._initializer._filename\n"
     ]
    },
    {
     "name": "stderr",
     "output_type": "stream",
     "text": [
      "WARNING:tensorflow:Unresolved object in checkpoint: (root).layer-1._vocab_table._initializer._filename\n"
     ]
    },
    {
     "name": "stdout",
     "output_type": "stream",
     "text": [
      "WARNING:tensorflow:A checkpoint was restored (e.g. tf.train.Checkpoint.restore or tf.keras.Model.load_weights) but not all checkpointed values were used. See above for specific issues. Use expect_partial() on the load status object, e.g. tf.train.Checkpoint.restore(...).expect_partial(), to silence these warnings, or use assert_consumed() to make the check explicit. See https://www.tensorflow.org/guide/checkpoint#loading_mechanics for details.\n"
     ]
    },
    {
     "name": "stderr",
     "output_type": "stream",
     "text": [
      "WARNING:tensorflow:A checkpoint was restored (e.g. tf.train.Checkpoint.restore or tf.keras.Model.load_weights) but not all checkpointed values were used. See above for specific issues. Use expect_partial() on the load status object, e.g. tf.train.Checkpoint.restore(...).expect_partial(), to silence these warnings, or use assert_consumed() to make the check explicit. See https://www.tensorflow.org/guide/checkpoint#loading_mechanics for details.\n"
     ]
    },
    {
     "name": "stdout",
     "output_type": "stream",
     "text": [
      "WARNING:tensorflow:11 out of the last 11 calls to <function recreate_function.<locals>.restored_function_body at 0x0000024D45CE94C8> triggered tf.function retracing. Tracing is expensive and the excessive number of tracings could be due to (1) creating @tf.function repeatedly in a loop, (2) passing tensors with different shapes, (3) passing Python objects instead of tensors. For (1), please define your @tf.function outside of the loop. For (2), @tf.function has experimental_relax_shapes=True option that relaxes argument shapes that can avoid unnecessary retracing. For (3), please refer to https://www.tensorflow.org/guide/function#controlling_retracing and https://www.tensorflow.org/api_docs/python/tf/function for  more details.\n"
     ]
    },
    {
     "name": "stderr",
     "output_type": "stream",
     "text": [
      "WARNING:tensorflow:11 out of the last 11 calls to <function recreate_function.<locals>.restored_function_body at 0x0000024D45CE94C8> triggered tf.function retracing. Tracing is expensive and the excessive number of tracings could be due to (1) creating @tf.function repeatedly in a loop, (2) passing tensors with different shapes, (3) passing Python objects instead of tensors. For (1), please define your @tf.function outside of the loop. For (2), @tf.function has experimental_relax_shapes=True option that relaxes argument shapes that can avoid unnecessary retracing. For (3), please refer to https://www.tensorflow.org/guide/function#controlling_retracing and https://www.tensorflow.org/api_docs/python/tf/function for  more details.\n"
     ]
    },
    {
     "name": "stdout",
     "output_type": "stream",
     "text": [
      "WARNING:tensorflow:11 out of the last 11 calls to <function recreate_function.<locals>.restored_function_body at 0x0000024D9D911708> triggered tf.function retracing. Tracing is expensive and the excessive number of tracings could be due to (1) creating @tf.function repeatedly in a loop, (2) passing tensors with different shapes, (3) passing Python objects instead of tensors. For (1), please define your @tf.function outside of the loop. For (2), @tf.function has experimental_relax_shapes=True option that relaxes argument shapes that can avoid unnecessary retracing. For (3), please refer to https://www.tensorflow.org/guide/function#controlling_retracing and https://www.tensorflow.org/api_docs/python/tf/function for  more details.\n"
     ]
    },
    {
     "name": "stderr",
     "output_type": "stream",
     "text": [
      "WARNING:tensorflow:11 out of the last 11 calls to <function recreate_function.<locals>.restored_function_body at 0x0000024D9D911708> triggered tf.function retracing. Tracing is expensive and the excessive number of tracings could be due to (1) creating @tf.function repeatedly in a loop, (2) passing tensors with different shapes, (3) passing Python objects instead of tensors. For (1), please define your @tf.function outside of the loop. For (2), @tf.function has experimental_relax_shapes=True option that relaxes argument shapes that can avoid unnecessary retracing. For (3), please refer to https://www.tensorflow.org/guide/function#controlling_retracing and https://www.tensorflow.org/api_docs/python/tf/function for  more details.\n"
     ]
    }
   ],
   "source": [
    "bert_preprocess_model = hub.KerasLayer(tfhub_handle_preprocess)"
   ]
  },
  {
   "cell_type": "code",
   "execution_count": 21,
   "metadata": {},
   "outputs": [
    {
     "name": "stdout",
     "output_type": "stream",
     "text": [
      "WARNING:tensorflow:11 out of the last 11 calls to <function recreate_function.<locals>.restored_function_body at 0x0000024DA63B88B8> triggered tf.function retracing. Tracing is expensive and the excessive number of tracings could be due to (1) creating @tf.function repeatedly in a loop, (2) passing tensors with different shapes, (3) passing Python objects instead of tensors. For (1), please define your @tf.function outside of the loop. For (2), @tf.function has experimental_relax_shapes=True option that relaxes argument shapes that can avoid unnecessary retracing. For (3), please refer to https://www.tensorflow.org/guide/function#controlling_retracing and https://www.tensorflow.org/api_docs/python/tf/function for  more details.\n"
     ]
    },
    {
     "name": "stderr",
     "output_type": "stream",
     "text": [
      "WARNING:tensorflow:11 out of the last 11 calls to <function recreate_function.<locals>.restored_function_body at 0x0000024DA63B88B8> triggered tf.function retracing. Tracing is expensive and the excessive number of tracings could be due to (1) creating @tf.function repeatedly in a loop, (2) passing tensors with different shapes, (3) passing Python objects instead of tensors. For (1), please define your @tf.function outside of the loop. For (2), @tf.function has experimental_relax_shapes=True option that relaxes argument shapes that can avoid unnecessary retracing. For (3), please refer to https://www.tensorflow.org/guide/function#controlling_retracing and https://www.tensorflow.org/api_docs/python/tf/function for  more details.\n"
     ]
    },
    {
     "name": "stdout",
     "output_type": "stream",
     "text": [
      "WARNING:tensorflow:Unresolved object in checkpoint: (root).layer-1._vocab_table._initializer\n"
     ]
    },
    {
     "name": "stderr",
     "output_type": "stream",
     "text": [
      "WARNING:tensorflow:Unresolved object in checkpoint: (root).layer-1._vocab_table._initializer\n"
     ]
    },
    {
     "name": "stdout",
     "output_type": "stream",
     "text": [
      "WARNING:tensorflow:Unresolved object in checkpoint: (root).layer-1._vocab_table._initializer._filename\n"
     ]
    },
    {
     "name": "stderr",
     "output_type": "stream",
     "text": [
      "WARNING:tensorflow:Unresolved object in checkpoint: (root).layer-1._vocab_table._initializer._filename\n"
     ]
    },
    {
     "name": "stdout",
     "output_type": "stream",
     "text": [
      "WARNING:tensorflow:A checkpoint was restored (e.g. tf.train.Checkpoint.restore or tf.keras.Model.load_weights) but not all checkpointed values were used. See above for specific issues. Use expect_partial() on the load status object, e.g. tf.train.Checkpoint.restore(...).expect_partial(), to silence these warnings, or use assert_consumed() to make the check explicit. See https://www.tensorflow.org/guide/checkpoint#loading_mechanics for details.\n"
     ]
    },
    {
     "name": "stderr",
     "output_type": "stream",
     "text": [
      "WARNING:tensorflow:A checkpoint was restored (e.g. tf.train.Checkpoint.restore or tf.keras.Model.load_weights) but not all checkpointed values were used. See above for specific issues. Use expect_partial() on the load status object, e.g. tf.train.Checkpoint.restore(...).expect_partial(), to silence these warnings, or use assert_consumed() to make the check explicit. See https://www.tensorflow.org/guide/checkpoint#loading_mechanics for details.\n",
      "WARNING:absl:Could not find any concrete functions to restore for this SavedFunction object while loading. The function will not be callable.\n",
      "WARNING:absl:Could not find any concrete functions to restore for this SavedFunction object while loading. The function will not be callable.\n",
      "WARNING:absl:Could not find any concrete functions to restore for this SavedFunction object while loading. The function will not be callable.\n",
      "WARNING:absl:Could not find any concrete functions to restore for this SavedFunction object while loading. The function will not be callable.\n",
      "WARNING:absl:Could not find any concrete functions to restore for this SavedFunction object while loading. The function will not be callable.\n",
      "WARNING:absl:Could not find any concrete functions to restore for this SavedFunction object while loading. The function will not be callable.\n",
      "WARNING:absl:Could not find any concrete functions to restore for this SavedFunction object while loading. The function will not be callable.\n",
      "WARNING:absl:Could not find any concrete functions to restore for this SavedFunction object while loading. The function will not be callable.\n",
      "WARNING:absl:Could not find any concrete functions to restore for this SavedFunction object while loading. The function will not be callable.\n",
      "WARNING:absl:Could not find any concrete functions to restore for this SavedFunction object while loading. The function will not be callable.\n",
      "WARNING:absl:Could not find any concrete functions to restore for this SavedFunction object while loading. The function will not be callable.\n",
      "WARNING:absl:Could not find any concrete functions to restore for this SavedFunction object while loading. The function will not be callable.\n",
      "WARNING:absl:Could not find any concrete functions to restore for this SavedFunction object while loading. The function will not be callable.\n",
      "WARNING:absl:Could not find any concrete functions to restore for this SavedFunction object while loading. The function will not be callable.\n",
      "WARNING:absl:Could not find any concrete functions to restore for this SavedFunction object while loading. The function will not be callable.\n",
      "WARNING:absl:Could not find any concrete functions to restore for this SavedFunction object while loading. The function will not be callable.\n",
      "WARNING:absl:Could not find any concrete functions to restore for this SavedFunction object while loading. The function will not be callable.\n",
      "WARNING:absl:Could not find any concrete functions to restore for this SavedFunction object while loading. The function will not be callable.\n",
      "WARNING:absl:Could not find any concrete functions to restore for this SavedFunction object while loading. The function will not be callable.\n",
      "WARNING:absl:Could not find any concrete functions to restore for this SavedFunction object while loading. The function will not be callable.\n",
      "WARNING:absl:Could not find any concrete functions to restore for this SavedFunction object while loading. The function will not be callable.\n",
      "WARNING:absl:Could not find any concrete functions to restore for this SavedFunction object while loading. The function will not be callable.\n",
      "WARNING:absl:Could not find any concrete functions to restore for this SavedFunction object while loading. The function will not be callable.\n",
      "WARNING:absl:Could not find any concrete functions to restore for this SavedFunction object while loading. The function will not be callable.\n",
      "WARNING:absl:Could not find any concrete functions to restore for this SavedFunction object while loading. The function will not be callable.\n",
      "WARNING:absl:Could not find any concrete functions to restore for this SavedFunction object while loading. The function will not be callable.\n",
      "WARNING:absl:Could not find any concrete functions to restore for this SavedFunction object while loading. The function will not be callable.\n",
      "WARNING:absl:Could not find any concrete functions to restore for this SavedFunction object while loading. The function will not be callable.\n",
      "WARNING:absl:Could not find any concrete functions to restore for this SavedFunction object while loading. The function will not be callable.\n",
      "WARNING:absl:Could not find any concrete functions to restore for this SavedFunction object while loading. The function will not be callable.\n",
      "WARNING:absl:Could not find any concrete functions to restore for this SavedFunction object while loading. The function will not be callable.\n",
      "WARNING:absl:Could not find any concrete functions to restore for this SavedFunction object while loading. The function will not be callable.\n",
      "WARNING:absl:Could not find any concrete functions to restore for this SavedFunction object while loading. The function will not be callable.\n",
      "WARNING:absl:Could not find any concrete functions to restore for this SavedFunction object while loading. The function will not be callable.\n",
      "WARNING:absl:Could not find any concrete functions to restore for this SavedFunction object while loading. The function will not be callable.\n",
      "WARNING:absl:Could not find any concrete functions to restore for this SavedFunction object while loading. The function will not be callable.\n",
      "WARNING:absl:Could not find any concrete functions to restore for this SavedFunction object while loading. The function will not be callable.\n",
      "WARNING:absl:Could not find any concrete functions to restore for this SavedFunction object while loading. The function will not be callable.\n",
      "WARNING:absl:Could not find any concrete functions to restore for this SavedFunction object while loading. The function will not be callable.\n",
      "WARNING:absl:Could not find any concrete functions to restore for this SavedFunction object while loading. The function will not be callable.\n",
      "WARNING:absl:Could not find any concrete functions to restore for this SavedFunction object while loading. The function will not be callable.\n",
      "WARNING:absl:Could not find any concrete functions to restore for this SavedFunction object while loading. The function will not be callable.\n",
      "WARNING:absl:Could not find any concrete functions to restore for this SavedFunction object while loading. The function will not be callable.\n",
      "WARNING:absl:Could not find any concrete functions to restore for this SavedFunction object while loading. The function will not be callable.\n",
      "WARNING:absl:Could not find any concrete functions to restore for this SavedFunction object while loading. The function will not be callable.\n",
      "WARNING:absl:Could not find any concrete functions to restore for this SavedFunction object while loading. The function will not be callable.\n",
      "WARNING:absl:Could not find any concrete functions to restore for this SavedFunction object while loading. The function will not be callable.\n",
      "WARNING:absl:Could not find any concrete functions to restore for this SavedFunction object while loading. The function will not be callable.\n",
      "WARNING:absl:Could not find any concrete functions to restore for this SavedFunction object while loading. The function will not be callable.\n",
      "WARNING:absl:Could not find any concrete functions to restore for this SavedFunction object while loading. The function will not be callable.\n",
      "WARNING:absl:Could not find any concrete functions to restore for this SavedFunction object while loading. The function will not be callable.\n",
      "WARNING:absl:Could not find any concrete functions to restore for this SavedFunction object while loading. The function will not be callable.\n",
      "WARNING:absl:Could not find any concrete functions to restore for this SavedFunction object while loading. The function will not be callable.\n",
      "WARNING:absl:Could not find any concrete functions to restore for this SavedFunction object while loading. The function will not be callable.\n",
      "WARNING:absl:Could not find any concrete functions to restore for this SavedFunction object while loading. The function will not be callable.\n",
      "WARNING:absl:Could not find any concrete functions to restore for this SavedFunction object while loading. The function will not be callable.\n",
      "WARNING:absl:Could not find any concrete functions to restore for this SavedFunction object while loading. The function will not be callable.\n",
      "WARNING:absl:Could not find any concrete functions to restore for this SavedFunction object while loading. The function will not be callable.\n",
      "WARNING:absl:Could not find any concrete functions to restore for this SavedFunction object while loading. The function will not be callable.\n",
      "WARNING:absl:Could not find any concrete functions to restore for this SavedFunction object while loading. The function will not be callable.\n",
      "WARNING:absl:Could not find any concrete functions to restore for this SavedFunction object while loading. The function will not be callable.\n",
      "WARNING:absl:Could not find any concrete functions to restore for this SavedFunction object while loading. The function will not be callable.\n",
      "WARNING:absl:Could not find any concrete functions to restore for this SavedFunction object while loading. The function will not be callable.\n",
      "WARNING:absl:Could not find any concrete functions to restore for this SavedFunction object while loading. The function will not be callable.\n",
      "WARNING:absl:Could not find any concrete functions to restore for this SavedFunction object while loading. The function will not be callable.\n",
      "WARNING:absl:Could not find any concrete functions to restore for this SavedFunction object while loading. The function will not be callable.\n",
      "WARNING:absl:Could not find any concrete functions to restore for this SavedFunction object while loading. The function will not be callable.\n",
      "WARNING:absl:Could not find any concrete functions to restore for this SavedFunction object while loading. The function will not be callable.\n",
      "WARNING:absl:Could not find any concrete functions to restore for this SavedFunction object while loading. The function will not be callable.\n",
      "WARNING:absl:Could not find any concrete functions to restore for this SavedFunction object while loading. The function will not be callable.\n",
      "WARNING:absl:Could not find any concrete functions to restore for this SavedFunction object while loading. The function will not be callable.\n",
      "WARNING:absl:Could not find any concrete functions to restore for this SavedFunction object while loading. The function will not be callable.\n",
      "WARNING:absl:Could not find any concrete functions to restore for this SavedFunction object while loading. The function will not be callable.\n",
      "WARNING:absl:Could not find any concrete functions to restore for this SavedFunction object while loading. The function will not be callable.\n",
      "WARNING:absl:Could not find any concrete functions to restore for this SavedFunction object while loading. The function will not be callable.\n",
      "WARNING:absl:Could not find any concrete functions to restore for this SavedFunction object while loading. The function will not be callable.\n",
      "WARNING:absl:Could not find any concrete functions to restore for this SavedFunction object while loading. The function will not be callable.\n",
      "WARNING:absl:Could not find any concrete functions to restore for this SavedFunction object while loading. The function will not be callable.\n",
      "WARNING:absl:Could not find any concrete functions to restore for this SavedFunction object while loading. The function will not be callable.\n",
      "WARNING:absl:Could not find any concrete functions to restore for this SavedFunction object while loading. The function will not be callable.\n",
      "WARNING:absl:Could not find any concrete functions to restore for this SavedFunction object while loading. The function will not be callable.\n",
      "WARNING:absl:Could not find any concrete functions to restore for this SavedFunction object while loading. The function will not be callable.\n",
      "WARNING:absl:Could not find any concrete functions to restore for this SavedFunction object while loading. The function will not be callable.\n",
      "WARNING:absl:Could not find any concrete functions to restore for this SavedFunction object while loading. The function will not be callable.\n",
      "WARNING:absl:Could not find any concrete functions to restore for this SavedFunction object while loading. The function will not be callable.\n",
      "WARNING:absl:Could not find any concrete functions to restore for this SavedFunction object while loading. The function will not be callable.\n",
      "WARNING:absl:Could not find any concrete functions to restore for this SavedFunction object while loading. The function will not be callable.\n",
      "WARNING:absl:Could not find any concrete functions to restore for this SavedFunction object while loading. The function will not be callable.\n",
      "WARNING:absl:Could not find any concrete functions to restore for this SavedFunction object while loading. The function will not be callable.\n",
      "WARNING:absl:Could not find any concrete functions to restore for this SavedFunction object while loading. The function will not be callable.\n",
      "WARNING:absl:Could not find any concrete functions to restore for this SavedFunction object while loading. The function will not be callable.\n",
      "WARNING:absl:Could not find any concrete functions to restore for this SavedFunction object while loading. The function will not be callable.\n",
      "WARNING:absl:Could not find any concrete functions to restore for this SavedFunction object while loading. The function will not be callable.\n",
      "WARNING:absl:Could not find any concrete functions to restore for this SavedFunction object while loading. The function will not be callable.\n",
      "WARNING:absl:Could not find any concrete functions to restore for this SavedFunction object while loading. The function will not be callable.\n",
      "WARNING:absl:Could not find any concrete functions to restore for this SavedFunction object while loading. The function will not be callable.\n",
      "WARNING:absl:Could not find any concrete functions to restore for this SavedFunction object while loading. The function will not be callable.\n",
      "WARNING:absl:Could not find any concrete functions to restore for this SavedFunction object while loading. The function will not be callable.\n",
      "WARNING:absl:Could not find any concrete functions to restore for this SavedFunction object while loading. The function will not be callable.\n",
      "WARNING:absl:Could not find any concrete functions to restore for this SavedFunction object while loading. The function will not be callable.\n",
      "WARNING:absl:Could not find any concrete functions to restore for this SavedFunction object while loading. The function will not be callable.\n",
      "WARNING:absl:Could not find any concrete functions to restore for this SavedFunction object while loading. The function will not be callable.\n",
      "WARNING:absl:Could not find any concrete functions to restore for this SavedFunction object while loading. The function will not be callable.\n",
      "WARNING:absl:Could not find any concrete functions to restore for this SavedFunction object while loading. The function will not be callable.\n",
      "WARNING:absl:Could not find any concrete functions to restore for this SavedFunction object while loading. The function will not be callable.\n",
      "WARNING:absl:Could not find any concrete functions to restore for this SavedFunction object while loading. The function will not be callable.\n",
      "WARNING:absl:Could not find any concrete functions to restore for this SavedFunction object while loading. The function will not be callable.\n",
      "WARNING:absl:Could not find any concrete functions to restore for this SavedFunction object while loading. The function will not be callable.\n",
      "WARNING:absl:Could not find any concrete functions to restore for this SavedFunction object while loading. The function will not be callable.\n",
      "WARNING:absl:Could not find any concrete functions to restore for this SavedFunction object while loading. The function will not be callable.\n",
      "WARNING:absl:Could not find any concrete functions to restore for this SavedFunction object while loading. The function will not be callable.\n",
      "WARNING:absl:Could not find any concrete functions to restore for this SavedFunction object while loading. The function will not be callable.\n",
      "WARNING:absl:Could not find any concrete functions to restore for this SavedFunction object while loading. The function will not be callable.\n",
      "WARNING:absl:Could not find any concrete functions to restore for this SavedFunction object while loading. The function will not be callable.\n",
      "WARNING:absl:Could not find any concrete functions to restore for this SavedFunction object while loading. The function will not be callable.\n",
      "WARNING:absl:Could not find any concrete functions to restore for this SavedFunction object while loading. The function will not be callable.\n",
      "WARNING:absl:Could not find any concrete functions to restore for this SavedFunction object while loading. The function will not be callable.\n",
      "WARNING:absl:Could not find any concrete functions to restore for this SavedFunction object while loading. The function will not be callable.\n",
      "WARNING:absl:Could not find any concrete functions to restore for this SavedFunction object while loading. The function will not be callable.\n",
      "WARNING:absl:Could not find any concrete functions to restore for this SavedFunction object while loading. The function will not be callable.\n",
      "WARNING:absl:Could not find any concrete functions to restore for this SavedFunction object while loading. The function will not be callable.\n",
      "WARNING:absl:Could not find any concrete functions to restore for this SavedFunction object while loading. The function will not be callable.\n",
      "WARNING:absl:Could not find any concrete functions to restore for this SavedFunction object while loading. The function will not be callable.\n",
      "WARNING:absl:Could not find any concrete functions to restore for this SavedFunction object while loading. The function will not be callable.\n"
     ]
    }
   ],
   "source": [
    "bert_model = hub.KerasLayer(tfhub_handle_encoder)"
   ]
  },
  {
   "cell_type": "code",
   "execution_count": 29,
   "metadata": {},
   "outputs": [],
   "source": [
    "def Bert_Model():\n",
    "    text_input = Input(shape=(), dtype=tf.string, name='text')\n",
    "    preprocessing_layer = hub.KerasLayer(tfhub_handle_preprocess, name='preprocessing')\n",
    "    encoder_inputs = preprocessing_layer(text_input)\n",
    "    encoder = hub.KerasLayer(tfhub_handle_encoder, trainable=True, name='BERT_encoder')\n",
    "    outputs = encoder(encoder_inputs)\n",
    "    net = outputs['pooled_output']\n",
    "    net = Dropout(0.1)(net)\n",
    "    net = Dense(1, activation=None, name='classifier')(net)\n",
    "    return Model(text_input, net)"
   ]
  },
  {
   "cell_type": "code",
   "execution_count": 30,
   "metadata": {},
   "outputs": [
    {
     "name": "stdout",
     "output_type": "stream",
     "text": [
      "WARNING:tensorflow:11 out of the last 11 calls to <function recreate_function.<locals>.restored_function_body at 0x0000024D9F0353A8> triggered tf.function retracing. Tracing is expensive and the excessive number of tracings could be due to (1) creating @tf.function repeatedly in a loop, (2) passing tensors with different shapes, (3) passing Python objects instead of tensors. For (1), please define your @tf.function outside of the loop. For (2), @tf.function has experimental_relax_shapes=True option that relaxes argument shapes that can avoid unnecessary retracing. For (3), please refer to https://www.tensorflow.org/guide/function#controlling_retracing and https://www.tensorflow.org/api_docs/python/tf/function for  more details.\n"
     ]
    },
    {
     "name": "stderr",
     "output_type": "stream",
     "text": [
      "WARNING:tensorflow:11 out of the last 11 calls to <function recreate_function.<locals>.restored_function_body at 0x0000024D9F0353A8> triggered tf.function retracing. Tracing is expensive and the excessive number of tracings could be due to (1) creating @tf.function repeatedly in a loop, (2) passing tensors with different shapes, (3) passing Python objects instead of tensors. For (1), please define your @tf.function outside of the loop. For (2), @tf.function has experimental_relax_shapes=True option that relaxes argument shapes that can avoid unnecessary retracing. For (3), please refer to https://www.tensorflow.org/guide/function#controlling_retracing and https://www.tensorflow.org/api_docs/python/tf/function for  more details.\n"
     ]
    },
    {
     "name": "stdout",
     "output_type": "stream",
     "text": [
      "WARNING:tensorflow:11 out of the last 11 calls to <function recreate_function.<locals>.restored_function_body at 0x0000024D4355D708> triggered tf.function retracing. Tracing is expensive and the excessive number of tracings could be due to (1) creating @tf.function repeatedly in a loop, (2) passing tensors with different shapes, (3) passing Python objects instead of tensors. For (1), please define your @tf.function outside of the loop. For (2), @tf.function has experimental_relax_shapes=True option that relaxes argument shapes that can avoid unnecessary retracing. For (3), please refer to https://www.tensorflow.org/guide/function#controlling_retracing and https://www.tensorflow.org/api_docs/python/tf/function for  more details.\n"
     ]
    },
    {
     "name": "stderr",
     "output_type": "stream",
     "text": [
      "WARNING:tensorflow:11 out of the last 11 calls to <function recreate_function.<locals>.restored_function_body at 0x0000024D4355D708> triggered tf.function retracing. Tracing is expensive and the excessive number of tracings could be due to (1) creating @tf.function repeatedly in a loop, (2) passing tensors with different shapes, (3) passing Python objects instead of tensors. For (1), please define your @tf.function outside of the loop. For (2), @tf.function has experimental_relax_shapes=True option that relaxes argument shapes that can avoid unnecessary retracing. For (3), please refer to https://www.tensorflow.org/guide/function#controlling_retracing and https://www.tensorflow.org/api_docs/python/tf/function for  more details.\n",
      "WARNING:absl:Could not find any concrete functions to restore for this SavedFunction object while loading. The function will not be callable.\n",
      "WARNING:absl:Could not find any concrete functions to restore for this SavedFunction object while loading. The function will not be callable.\n",
      "WARNING:absl:Could not find any concrete functions to restore for this SavedFunction object while loading. The function will not be callable.\n",
      "WARNING:absl:Could not find any concrete functions to restore for this SavedFunction object while loading. The function will not be callable.\n",
      "WARNING:absl:Could not find any concrete functions to restore for this SavedFunction object while loading. The function will not be callable.\n",
      "WARNING:absl:Could not find any concrete functions to restore for this SavedFunction object while loading. The function will not be callable.\n",
      "WARNING:absl:Could not find any concrete functions to restore for this SavedFunction object while loading. The function will not be callable.\n",
      "WARNING:absl:Could not find any concrete functions to restore for this SavedFunction object while loading. The function will not be callable.\n",
      "WARNING:absl:Could not find any concrete functions to restore for this SavedFunction object while loading. The function will not be callable.\n",
      "WARNING:absl:Could not find any concrete functions to restore for this SavedFunction object while loading. The function will not be callable.\n",
      "WARNING:absl:Could not find any concrete functions to restore for this SavedFunction object while loading. The function will not be callable.\n",
      "WARNING:absl:Could not find any concrete functions to restore for this SavedFunction object while loading. The function will not be callable.\n",
      "WARNING:absl:Could not find any concrete functions to restore for this SavedFunction object while loading. The function will not be callable.\n",
      "WARNING:absl:Could not find any concrete functions to restore for this SavedFunction object while loading. The function will not be callable.\n",
      "WARNING:absl:Could not find any concrete functions to restore for this SavedFunction object while loading. The function will not be callable.\n",
      "WARNING:absl:Could not find any concrete functions to restore for this SavedFunction object while loading. The function will not be callable.\n",
      "WARNING:absl:Could not find any concrete functions to restore for this SavedFunction object while loading. The function will not be callable.\n",
      "WARNING:absl:Could not find any concrete functions to restore for this SavedFunction object while loading. The function will not be callable.\n",
      "WARNING:absl:Could not find any concrete functions to restore for this SavedFunction object while loading. The function will not be callable.\n",
      "WARNING:absl:Could not find any concrete functions to restore for this SavedFunction object while loading. The function will not be callable.\n",
      "WARNING:absl:Could not find any concrete functions to restore for this SavedFunction object while loading. The function will not be callable.\n",
      "WARNING:absl:Could not find any concrete functions to restore for this SavedFunction object while loading. The function will not be callable.\n",
      "WARNING:absl:Could not find any concrete functions to restore for this SavedFunction object while loading. The function will not be callable.\n",
      "WARNING:absl:Could not find any concrete functions to restore for this SavedFunction object while loading. The function will not be callable.\n",
      "WARNING:absl:Could not find any concrete functions to restore for this SavedFunction object while loading. The function will not be callable.\n",
      "WARNING:absl:Could not find any concrete functions to restore for this SavedFunction object while loading. The function will not be callable.\n",
      "WARNING:absl:Could not find any concrete functions to restore for this SavedFunction object while loading. The function will not be callable.\n",
      "WARNING:absl:Could not find any concrete functions to restore for this SavedFunction object while loading. The function will not be callable.\n",
      "WARNING:absl:Could not find any concrete functions to restore for this SavedFunction object while loading. The function will not be callable.\n",
      "WARNING:absl:Could not find any concrete functions to restore for this SavedFunction object while loading. The function will not be callable.\n",
      "WARNING:absl:Could not find any concrete functions to restore for this SavedFunction object while loading. The function will not be callable.\n",
      "WARNING:absl:Could not find any concrete functions to restore for this SavedFunction object while loading. The function will not be callable.\n",
      "WARNING:absl:Could not find any concrete functions to restore for this SavedFunction object while loading. The function will not be callable.\n",
      "WARNING:absl:Could not find any concrete functions to restore for this SavedFunction object while loading. The function will not be callable.\n",
      "WARNING:absl:Could not find any concrete functions to restore for this SavedFunction object while loading. The function will not be callable.\n",
      "WARNING:absl:Could not find any concrete functions to restore for this SavedFunction object while loading. The function will not be callable.\n",
      "WARNING:absl:Could not find any concrete functions to restore for this SavedFunction object while loading. The function will not be callable.\n",
      "WARNING:absl:Could not find any concrete functions to restore for this SavedFunction object while loading. The function will not be callable.\n",
      "WARNING:absl:Could not find any concrete functions to restore for this SavedFunction object while loading. The function will not be callable.\n",
      "WARNING:absl:Could not find any concrete functions to restore for this SavedFunction object while loading. The function will not be callable.\n",
      "WARNING:absl:Could not find any concrete functions to restore for this SavedFunction object while loading. The function will not be callable.\n",
      "WARNING:absl:Could not find any concrete functions to restore for this SavedFunction object while loading. The function will not be callable.\n",
      "WARNING:absl:Could not find any concrete functions to restore for this SavedFunction object while loading. The function will not be callable.\n",
      "WARNING:absl:Could not find any concrete functions to restore for this SavedFunction object while loading. The function will not be callable.\n",
      "WARNING:absl:Could not find any concrete functions to restore for this SavedFunction object while loading. The function will not be callable.\n",
      "WARNING:absl:Could not find any concrete functions to restore for this SavedFunction object while loading. The function will not be callable.\n",
      "WARNING:absl:Could not find any concrete functions to restore for this SavedFunction object while loading. The function will not be callable.\n",
      "WARNING:absl:Could not find any concrete functions to restore for this SavedFunction object while loading. The function will not be callable.\n",
      "WARNING:absl:Could not find any concrete functions to restore for this SavedFunction object while loading. The function will not be callable.\n",
      "WARNING:absl:Could not find any concrete functions to restore for this SavedFunction object while loading. The function will not be callable.\n",
      "WARNING:absl:Could not find any concrete functions to restore for this SavedFunction object while loading. The function will not be callable.\n",
      "WARNING:absl:Could not find any concrete functions to restore for this SavedFunction object while loading. The function will not be callable.\n",
      "WARNING:absl:Could not find any concrete functions to restore for this SavedFunction object while loading. The function will not be callable.\n",
      "WARNING:absl:Could not find any concrete functions to restore for this SavedFunction object while loading. The function will not be callable.\n",
      "WARNING:absl:Could not find any concrete functions to restore for this SavedFunction object while loading. The function will not be callable.\n",
      "WARNING:absl:Could not find any concrete functions to restore for this SavedFunction object while loading. The function will not be callable.\n",
      "WARNING:absl:Could not find any concrete functions to restore for this SavedFunction object while loading. The function will not be callable.\n",
      "WARNING:absl:Could not find any concrete functions to restore for this SavedFunction object while loading. The function will not be callable.\n",
      "WARNING:absl:Could not find any concrete functions to restore for this SavedFunction object while loading. The function will not be callable.\n",
      "WARNING:absl:Could not find any concrete functions to restore for this SavedFunction object while loading. The function will not be callable.\n",
      "WARNING:absl:Could not find any concrete functions to restore for this SavedFunction object while loading. The function will not be callable.\n",
      "WARNING:absl:Could not find any concrete functions to restore for this SavedFunction object while loading. The function will not be callable.\n",
      "WARNING:absl:Could not find any concrete functions to restore for this SavedFunction object while loading. The function will not be callable.\n",
      "WARNING:absl:Could not find any concrete functions to restore for this SavedFunction object while loading. The function will not be callable.\n",
      "WARNING:absl:Could not find any concrete functions to restore for this SavedFunction object while loading. The function will not be callable.\n",
      "WARNING:absl:Could not find any concrete functions to restore for this SavedFunction object while loading. The function will not be callable.\n",
      "WARNING:absl:Could not find any concrete functions to restore for this SavedFunction object while loading. The function will not be callable.\n",
      "WARNING:absl:Could not find any concrete functions to restore for this SavedFunction object while loading. The function will not be callable.\n",
      "WARNING:absl:Could not find any concrete functions to restore for this SavedFunction object while loading. The function will not be callable.\n",
      "WARNING:absl:Could not find any concrete functions to restore for this SavedFunction object while loading. The function will not be callable.\n",
      "WARNING:absl:Could not find any concrete functions to restore for this SavedFunction object while loading. The function will not be callable.\n",
      "WARNING:absl:Could not find any concrete functions to restore for this SavedFunction object while loading. The function will not be callable.\n",
      "WARNING:absl:Could not find any concrete functions to restore for this SavedFunction object while loading. The function will not be callable.\n",
      "WARNING:absl:Could not find any concrete functions to restore for this SavedFunction object while loading. The function will not be callable.\n",
      "WARNING:absl:Could not find any concrete functions to restore for this SavedFunction object while loading. The function will not be callable.\n",
      "WARNING:absl:Could not find any concrete functions to restore for this SavedFunction object while loading. The function will not be callable.\n",
      "WARNING:absl:Could not find any concrete functions to restore for this SavedFunction object while loading. The function will not be callable.\n",
      "WARNING:absl:Could not find any concrete functions to restore for this SavedFunction object while loading. The function will not be callable.\n",
      "WARNING:absl:Could not find any concrete functions to restore for this SavedFunction object while loading. The function will not be callable.\n",
      "WARNING:absl:Could not find any concrete functions to restore for this SavedFunction object while loading. The function will not be callable.\n",
      "WARNING:absl:Could not find any concrete functions to restore for this SavedFunction object while loading. The function will not be callable.\n",
      "WARNING:absl:Could not find any concrete functions to restore for this SavedFunction object while loading. The function will not be callable.\n",
      "WARNING:absl:Could not find any concrete functions to restore for this SavedFunction object while loading. The function will not be callable.\n",
      "WARNING:absl:Could not find any concrete functions to restore for this SavedFunction object while loading. The function will not be callable.\n",
      "WARNING:absl:Could not find any concrete functions to restore for this SavedFunction object while loading. The function will not be callable.\n",
      "WARNING:absl:Could not find any concrete functions to restore for this SavedFunction object while loading. The function will not be callable.\n",
      "WARNING:absl:Could not find any concrete functions to restore for this SavedFunction object while loading. The function will not be callable.\n",
      "WARNING:absl:Could not find any concrete functions to restore for this SavedFunction object while loading. The function will not be callable.\n",
      "WARNING:absl:Could not find any concrete functions to restore for this SavedFunction object while loading. The function will not be callable.\n",
      "WARNING:absl:Could not find any concrete functions to restore for this SavedFunction object while loading. The function will not be callable.\n",
      "WARNING:absl:Could not find any concrete functions to restore for this SavedFunction object while loading. The function will not be callable.\n",
      "WARNING:absl:Could not find any concrete functions to restore for this SavedFunction object while loading. The function will not be callable.\n",
      "WARNING:absl:Could not find any concrete functions to restore for this SavedFunction object while loading. The function will not be callable.\n",
      "WARNING:absl:Could not find any concrete functions to restore for this SavedFunction object while loading. The function will not be callable.\n",
      "WARNING:absl:Could not find any concrete functions to restore for this SavedFunction object while loading. The function will not be callable.\n",
      "WARNING:absl:Could not find any concrete functions to restore for this SavedFunction object while loading. The function will not be callable.\n",
      "WARNING:absl:Could not find any concrete functions to restore for this SavedFunction object while loading. The function will not be callable.\n",
      "WARNING:absl:Could not find any concrete functions to restore for this SavedFunction object while loading. The function will not be callable.\n",
      "WARNING:absl:Could not find any concrete functions to restore for this SavedFunction object while loading. The function will not be callable.\n",
      "WARNING:absl:Could not find any concrete functions to restore for this SavedFunction object while loading. The function will not be callable.\n",
      "WARNING:absl:Could not find any concrete functions to restore for this SavedFunction object while loading. The function will not be callable.\n",
      "WARNING:absl:Could not find any concrete functions to restore for this SavedFunction object while loading. The function will not be callable.\n",
      "WARNING:absl:Could not find any concrete functions to restore for this SavedFunction object while loading. The function will not be callable.\n",
      "WARNING:absl:Could not find any concrete functions to restore for this SavedFunction object while loading. The function will not be callable.\n",
      "WARNING:absl:Could not find any concrete functions to restore for this SavedFunction object while loading. The function will not be callable.\n",
      "WARNING:absl:Could not find any concrete functions to restore for this SavedFunction object while loading. The function will not be callable.\n",
      "WARNING:absl:Could not find any concrete functions to restore for this SavedFunction object while loading. The function will not be callable.\n",
      "WARNING:absl:Could not find any concrete functions to restore for this SavedFunction object while loading. The function will not be callable.\n",
      "WARNING:absl:Could not find any concrete functions to restore for this SavedFunction object while loading. The function will not be callable.\n",
      "WARNING:absl:Could not find any concrete functions to restore for this SavedFunction object while loading. The function will not be callable.\n",
      "WARNING:absl:Could not find any concrete functions to restore for this SavedFunction object while loading. The function will not be callable.\n",
      "WARNING:absl:Could not find any concrete functions to restore for this SavedFunction object while loading. The function will not be callable.\n",
      "WARNING:absl:Could not find any concrete functions to restore for this SavedFunction object while loading. The function will not be callable.\n",
      "WARNING:absl:Could not find any concrete functions to restore for this SavedFunction object while loading. The function will not be callable.\n",
      "WARNING:absl:Could not find any concrete functions to restore for this SavedFunction object while loading. The function will not be callable.\n",
      "WARNING:absl:Could not find any concrete functions to restore for this SavedFunction object while loading. The function will not be callable.\n",
      "WARNING:absl:Could not find any concrete functions to restore for this SavedFunction object while loading. The function will not be callable.\n",
      "WARNING:absl:Could not find any concrete functions to restore for this SavedFunction object while loading. The function will not be callable.\n",
      "WARNING:absl:Could not find any concrete functions to restore for this SavedFunction object while loading. The function will not be callable.\n",
      "WARNING:absl:Could not find any concrete functions to restore for this SavedFunction object while loading. The function will not be callable.\n",
      "WARNING:absl:Could not find any concrete functions to restore for this SavedFunction object while loading. The function will not be callable.\n",
      "WARNING:absl:Could not find any concrete functions to restore for this SavedFunction object while loading. The function will not be callable.\n",
      "WARNING:absl:Could not find any concrete functions to restore for this SavedFunction object while loading. The function will not be callable.\n",
      "WARNING:absl:Could not find any concrete functions to restore for this SavedFunction object while loading. The function will not be callable.\n"
     ]
    },
    {
     "name": "stdout",
     "output_type": "stream",
     "text": [
      "Model: \"model_2\"\n",
      "__________________________________________________________________________________________________\n",
      "Layer (type)                    Output Shape         Param #     Connected to                     \n",
      "==================================================================================================\n",
      "text (InputLayer)               [(None,)]            0                                            \n",
      "__________________________________________________________________________________________________\n",
      "preprocessing (KerasLayer)      {'input_word_ids': ( 0           text[0][0]                       \n",
      "__________________________________________________________________________________________________\n",
      "BERT_encoder (KerasLayer)       {'sequence_output':  28763649    preprocessing[0][0]              \n",
      "                                                                 preprocessing[0][1]              \n",
      "                                                                 preprocessing[0][2]              \n",
      "__________________________________________________________________________________________________\n",
      "dropout_2 (Dropout)             (None, 512)          0           BERT_encoder[0][5]               \n",
      "__________________________________________________________________________________________________\n",
      "classifier (Dense)              (None, 1)            513         dropout_2[0][0]                  \n",
      "==================================================================================================\n",
      "Total params: 28,764,162\n",
      "Trainable params: 28,764,161\n",
      "Non-trainable params: 1\n",
      "__________________________________________________________________________________________________\n"
     ]
    }
   ],
   "source": [
    "bert_model = Bert_Model()\n",
    "bert_model.summary()"
   ]
  },
  {
   "cell_type": "code",
   "execution_count": 31,
   "metadata": {},
   "outputs": [],
   "source": [
    "bert_model.compile(loss='categorical_crossentropy', optimizer='adam', metrics=['accuracy'])\n",
    "# classifier_model.compile(loss='categorical_crossentropy', optimizer='adam', metrics=['accuracy'])"
   ]
  },
  {
   "cell_type": "code",
   "execution_count": 32,
   "metadata": {},
   "outputs": [
    {
     "name": "stdout",
     "output_type": "stream",
     "text": [
      "Epoch 1/5\n"
     ]
    },
    {
     "ename": "InvalidArgumentError",
     "evalue": " Trying to access resource using the wrong type. Expected class tensorflow::lookup::LookupInterface got class tensorflow::lookup::LookupInterface\n\t [[{{node model_2/preprocessing/StatefulPartitionedCall/StatefulPartitionedCall/StatefulPartitionedCall/bert_tokenizer/StatefulPartitionedCall/WordpieceTokenizeWithOffsets/WordpieceTokenizeWithOffsets/WordpieceTokenizeWithOffsets}}]] [Op:__inference_train_function_303597]\n\nFunction call stack:\ntrain_function\n",
     "output_type": "error",
     "traceback": [
      "\u001b[1;31m---------------------------------------------------------------------------\u001b[0m",
      "\u001b[1;31mInvalidArgumentError\u001b[0m                      Traceback (most recent call last)",
      "\u001b[1;32m<ipython-input-32-99275bb5ab93>\u001b[0m in \u001b[0;36m<module>\u001b[1;34m\u001b[0m\n\u001b[0;32m      1\u001b[0m \u001b[1;31m#history = bert_model.fit(X_train, Y_train, validation_data=val_ds, epochs=epochs)\u001b[0m\u001b[1;33m\u001b[0m\u001b[1;33m\u001b[0m\u001b[1;33m\u001b[0m\u001b[0m\n\u001b[1;32m----> 2\u001b[1;33m \u001b[0mbert_model\u001b[0m\u001b[1;33m.\u001b[0m\u001b[0mfit\u001b[0m\u001b[1;33m(\u001b[0m\u001b[0mX_train\u001b[0m\u001b[1;33m,\u001b[0m \u001b[0mY_train\u001b[0m\u001b[1;33m,\u001b[0m \u001b[0mepochs\u001b[0m \u001b[1;33m=\u001b[0m \u001b[1;36m5\u001b[0m\u001b[1;33m,\u001b[0m \u001b[0mbatch_size\u001b[0m \u001b[1;33m=\u001b[0m \u001b[1;36m64\u001b[0m\u001b[1;33m,\u001b[0m \u001b[0mshuffle\u001b[0m\u001b[1;33m=\u001b[0m\u001b[1;32mTrue\u001b[0m\u001b[1;33m)\u001b[0m\u001b[1;33m\u001b[0m\u001b[1;33m\u001b[0m\u001b[0m\n\u001b[0m",
      "\u001b[1;32m~\\AppData\\Roaming\\Python\\Python37\\site-packages\\tensorflow\\python\\keras\\engine\\training.py\u001b[0m in \u001b[0;36mfit\u001b[1;34m(self, x, y, batch_size, epochs, verbose, callbacks, validation_split, validation_data, shuffle, class_weight, sample_weight, initial_epoch, steps_per_epoch, validation_steps, validation_batch_size, validation_freq, max_queue_size, workers, use_multiprocessing)\u001b[0m\n\u001b[0;32m   1098\u001b[0m                 _r=1):\n\u001b[0;32m   1099\u001b[0m               \u001b[0mcallbacks\u001b[0m\u001b[1;33m.\u001b[0m\u001b[0mon_train_batch_begin\u001b[0m\u001b[1;33m(\u001b[0m\u001b[0mstep\u001b[0m\u001b[1;33m)\u001b[0m\u001b[1;33m\u001b[0m\u001b[1;33m\u001b[0m\u001b[0m\n\u001b[1;32m-> 1100\u001b[1;33m               \u001b[0mtmp_logs\u001b[0m \u001b[1;33m=\u001b[0m \u001b[0mself\u001b[0m\u001b[1;33m.\u001b[0m\u001b[0mtrain_function\u001b[0m\u001b[1;33m(\u001b[0m\u001b[0miterator\u001b[0m\u001b[1;33m)\u001b[0m\u001b[1;33m\u001b[0m\u001b[1;33m\u001b[0m\u001b[0m\n\u001b[0m\u001b[0;32m   1101\u001b[0m               \u001b[1;32mif\u001b[0m \u001b[0mdata_handler\u001b[0m\u001b[1;33m.\u001b[0m\u001b[0mshould_sync\u001b[0m\u001b[1;33m:\u001b[0m\u001b[1;33m\u001b[0m\u001b[1;33m\u001b[0m\u001b[0m\n\u001b[0;32m   1102\u001b[0m                 \u001b[0mcontext\u001b[0m\u001b[1;33m.\u001b[0m\u001b[0masync_wait\u001b[0m\u001b[1;33m(\u001b[0m\u001b[1;33m)\u001b[0m\u001b[1;33m\u001b[0m\u001b[1;33m\u001b[0m\u001b[0m\n",
      "\u001b[1;32m~\\AppData\\Roaming\\Python\\Python37\\site-packages\\tensorflow\\python\\eager\\def_function.py\u001b[0m in \u001b[0;36m__call__\u001b[1;34m(self, *args, **kwds)\u001b[0m\n\u001b[0;32m    826\u001b[0m     \u001b[0mtracing_count\u001b[0m \u001b[1;33m=\u001b[0m \u001b[0mself\u001b[0m\u001b[1;33m.\u001b[0m\u001b[0mexperimental_get_tracing_count\u001b[0m\u001b[1;33m(\u001b[0m\u001b[1;33m)\u001b[0m\u001b[1;33m\u001b[0m\u001b[1;33m\u001b[0m\u001b[0m\n\u001b[0;32m    827\u001b[0m     \u001b[1;32mwith\u001b[0m \u001b[0mtrace\u001b[0m\u001b[1;33m.\u001b[0m\u001b[0mTrace\u001b[0m\u001b[1;33m(\u001b[0m\u001b[0mself\u001b[0m\u001b[1;33m.\u001b[0m\u001b[0m_name\u001b[0m\u001b[1;33m)\u001b[0m \u001b[1;32mas\u001b[0m \u001b[0mtm\u001b[0m\u001b[1;33m:\u001b[0m\u001b[1;33m\u001b[0m\u001b[1;33m\u001b[0m\u001b[0m\n\u001b[1;32m--> 828\u001b[1;33m       \u001b[0mresult\u001b[0m \u001b[1;33m=\u001b[0m \u001b[0mself\u001b[0m\u001b[1;33m.\u001b[0m\u001b[0m_call\u001b[0m\u001b[1;33m(\u001b[0m\u001b[1;33m*\u001b[0m\u001b[0margs\u001b[0m\u001b[1;33m,\u001b[0m \u001b[1;33m**\u001b[0m\u001b[0mkwds\u001b[0m\u001b[1;33m)\u001b[0m\u001b[1;33m\u001b[0m\u001b[1;33m\u001b[0m\u001b[0m\n\u001b[0m\u001b[0;32m    829\u001b[0m       \u001b[0mcompiler\u001b[0m \u001b[1;33m=\u001b[0m \u001b[1;34m\"xla\"\u001b[0m \u001b[1;32mif\u001b[0m \u001b[0mself\u001b[0m\u001b[1;33m.\u001b[0m\u001b[0m_experimental_compile\u001b[0m \u001b[1;32melse\u001b[0m \u001b[1;34m\"nonXla\"\u001b[0m\u001b[1;33m\u001b[0m\u001b[1;33m\u001b[0m\u001b[0m\n\u001b[0;32m    830\u001b[0m       \u001b[0mnew_tracing_count\u001b[0m \u001b[1;33m=\u001b[0m \u001b[0mself\u001b[0m\u001b[1;33m.\u001b[0m\u001b[0mexperimental_get_tracing_count\u001b[0m\u001b[1;33m(\u001b[0m\u001b[1;33m)\u001b[0m\u001b[1;33m\u001b[0m\u001b[1;33m\u001b[0m\u001b[0m\n",
      "\u001b[1;32m~\\AppData\\Roaming\\Python\\Python37\\site-packages\\tensorflow\\python\\eager\\def_function.py\u001b[0m in \u001b[0;36m_call\u001b[1;34m(self, *args, **kwds)\u001b[0m\n\u001b[0;32m    886\u001b[0m         \u001b[1;31m# Lifting succeeded, so variables are initialized and we can run the\u001b[0m\u001b[1;33m\u001b[0m\u001b[1;33m\u001b[0m\u001b[1;33m\u001b[0m\u001b[0m\n\u001b[0;32m    887\u001b[0m         \u001b[1;31m# stateless function.\u001b[0m\u001b[1;33m\u001b[0m\u001b[1;33m\u001b[0m\u001b[1;33m\u001b[0m\u001b[0m\n\u001b[1;32m--> 888\u001b[1;33m         \u001b[1;32mreturn\u001b[0m \u001b[0mself\u001b[0m\u001b[1;33m.\u001b[0m\u001b[0m_stateless_fn\u001b[0m\u001b[1;33m(\u001b[0m\u001b[1;33m*\u001b[0m\u001b[0margs\u001b[0m\u001b[1;33m,\u001b[0m \u001b[1;33m**\u001b[0m\u001b[0mkwds\u001b[0m\u001b[1;33m)\u001b[0m\u001b[1;33m\u001b[0m\u001b[1;33m\u001b[0m\u001b[0m\n\u001b[0m\u001b[0;32m    889\u001b[0m     \u001b[1;32melse\u001b[0m\u001b[1;33m:\u001b[0m\u001b[1;33m\u001b[0m\u001b[1;33m\u001b[0m\u001b[0m\n\u001b[0;32m    890\u001b[0m       \u001b[0m_\u001b[0m\u001b[1;33m,\u001b[0m \u001b[0m_\u001b[0m\u001b[1;33m,\u001b[0m \u001b[0m_\u001b[0m\u001b[1;33m,\u001b[0m \u001b[0mfiltered_flat_args\u001b[0m \u001b[1;33m=\u001b[0m\u001b[0;31m \u001b[0m\u001b[0;31m\\\u001b[0m\u001b[1;33m\u001b[0m\u001b[1;33m\u001b[0m\u001b[0m\n",
      "\u001b[1;32m~\\AppData\\Roaming\\Python\\Python37\\site-packages\\tensorflow\\python\\eager\\function.py\u001b[0m in \u001b[0;36m__call__\u001b[1;34m(self, *args, **kwargs)\u001b[0m\n\u001b[0;32m   2941\u001b[0m        filtered_flat_args) = self._maybe_define_function(args, kwargs)\n\u001b[0;32m   2942\u001b[0m     return graph_function._call_flat(\n\u001b[1;32m-> 2943\u001b[1;33m         filtered_flat_args, captured_inputs=graph_function.captured_inputs)  # pylint: disable=protected-access\n\u001b[0m\u001b[0;32m   2944\u001b[0m \u001b[1;33m\u001b[0m\u001b[0m\n\u001b[0;32m   2945\u001b[0m   \u001b[1;33m@\u001b[0m\u001b[0mproperty\u001b[0m\u001b[1;33m\u001b[0m\u001b[1;33m\u001b[0m\u001b[0m\n",
      "\u001b[1;32m~\\AppData\\Roaming\\Python\\Python37\\site-packages\\tensorflow\\python\\eager\\function.py\u001b[0m in \u001b[0;36m_call_flat\u001b[1;34m(self, args, captured_inputs, cancellation_manager)\u001b[0m\n\u001b[0;32m   1917\u001b[0m       \u001b[1;31m# No tape is watching; skip to running the function.\u001b[0m\u001b[1;33m\u001b[0m\u001b[1;33m\u001b[0m\u001b[1;33m\u001b[0m\u001b[0m\n\u001b[0;32m   1918\u001b[0m       return self._build_call_outputs(self._inference_function.call(\n\u001b[1;32m-> 1919\u001b[1;33m           ctx, args, cancellation_manager=cancellation_manager))\n\u001b[0m\u001b[0;32m   1920\u001b[0m     forward_backward = self._select_forward_and_backward_functions(\n\u001b[0;32m   1921\u001b[0m         \u001b[0margs\u001b[0m\u001b[1;33m,\u001b[0m\u001b[1;33m\u001b[0m\u001b[1;33m\u001b[0m\u001b[0m\n",
      "\u001b[1;32m~\\AppData\\Roaming\\Python\\Python37\\site-packages\\tensorflow\\python\\eager\\function.py\u001b[0m in \u001b[0;36mcall\u001b[1;34m(self, ctx, args, cancellation_manager)\u001b[0m\n\u001b[0;32m    558\u001b[0m               \u001b[0minputs\u001b[0m\u001b[1;33m=\u001b[0m\u001b[0margs\u001b[0m\u001b[1;33m,\u001b[0m\u001b[1;33m\u001b[0m\u001b[1;33m\u001b[0m\u001b[0m\n\u001b[0;32m    559\u001b[0m               \u001b[0mattrs\u001b[0m\u001b[1;33m=\u001b[0m\u001b[0mattrs\u001b[0m\u001b[1;33m,\u001b[0m\u001b[1;33m\u001b[0m\u001b[1;33m\u001b[0m\u001b[0m\n\u001b[1;32m--> 560\u001b[1;33m               ctx=ctx)\n\u001b[0m\u001b[0;32m    561\u001b[0m         \u001b[1;32melse\u001b[0m\u001b[1;33m:\u001b[0m\u001b[1;33m\u001b[0m\u001b[1;33m\u001b[0m\u001b[0m\n\u001b[0;32m    562\u001b[0m           outputs = execute.execute_with_cancellation(\n",
      "\u001b[1;32m~\\AppData\\Roaming\\Python\\Python37\\site-packages\\tensorflow\\python\\eager\\execute.py\u001b[0m in \u001b[0;36mquick_execute\u001b[1;34m(op_name, num_outputs, inputs, attrs, ctx, name)\u001b[0m\n\u001b[0;32m     58\u001b[0m     \u001b[0mctx\u001b[0m\u001b[1;33m.\u001b[0m\u001b[0mensure_initialized\u001b[0m\u001b[1;33m(\u001b[0m\u001b[1;33m)\u001b[0m\u001b[1;33m\u001b[0m\u001b[1;33m\u001b[0m\u001b[0m\n\u001b[0;32m     59\u001b[0m     tensors = pywrap_tfe.TFE_Py_Execute(ctx._handle, device_name, op_name,\n\u001b[1;32m---> 60\u001b[1;33m                                         inputs, attrs, num_outputs)\n\u001b[0m\u001b[0;32m     61\u001b[0m   \u001b[1;32mexcept\u001b[0m \u001b[0mcore\u001b[0m\u001b[1;33m.\u001b[0m\u001b[0m_NotOkStatusException\u001b[0m \u001b[1;32mas\u001b[0m \u001b[0me\u001b[0m\u001b[1;33m:\u001b[0m\u001b[1;33m\u001b[0m\u001b[1;33m\u001b[0m\u001b[0m\n\u001b[0;32m     62\u001b[0m     \u001b[1;32mif\u001b[0m \u001b[0mname\u001b[0m \u001b[1;32mis\u001b[0m \u001b[1;32mnot\u001b[0m \u001b[1;32mNone\u001b[0m\u001b[1;33m:\u001b[0m\u001b[1;33m\u001b[0m\u001b[1;33m\u001b[0m\u001b[0m\n",
      "\u001b[1;31mInvalidArgumentError\u001b[0m:  Trying to access resource using the wrong type. Expected class tensorflow::lookup::LookupInterface got class tensorflow::lookup::LookupInterface\n\t [[{{node model_2/preprocessing/StatefulPartitionedCall/StatefulPartitionedCall/StatefulPartitionedCall/bert_tokenizer/StatefulPartitionedCall/WordpieceTokenizeWithOffsets/WordpieceTokenizeWithOffsets/WordpieceTokenizeWithOffsets}}]] [Op:__inference_train_function_303597]\n\nFunction call stack:\ntrain_function\n"
     ]
    }
   ],
   "source": [
    "#history = bert_model.fit(X_train, Y_train, validation_data=val_ds, epochs=epochs)\n",
    "bert_model.fit(X_train, Y_train, epochs = 5, batch_size = 64, shuffle=True)"
   ]
  },
  {
   "cell_type": "code",
   "execution_count": null,
   "metadata": {},
   "outputs": [],
   "source": [
    "from sklearn.metrics import accuracy_score, f1_score, precision_score, recall_score,roc_auc_score, mean_squared_error,classification_report\n",
    "loss, accuracy = classifier_model.evaluate(X_test, Y_test)\n",
    "print(f'Loss: {loss}')\n",
    "print(f'Accuracy: {accuracy}')\n",
    "Y_predict = classifier_model.predict(X_test)\n",
    "Y_predict_binary = [1 if i >= 0.5 else 0 for [i] in Y_predict]\n",
    "print(classification_report(Y_test, Y_predict_binary))"
   ]
  },
  {
   "cell_type": "code",
   "execution_count": null,
   "metadata": {},
   "outputs": [],
   "source": []
  },
  {
   "cell_type": "code",
   "execution_count": null,
   "metadata": {},
   "outputs": [],
   "source": []
  },
  {
   "cell_type": "code",
   "execution_count": null,
   "metadata": {},
   "outputs": [],
   "source": []
  }
 ],
 "metadata": {
  "kernelspec": {
   "display_name": "Python 3",
   "language": "python",
   "name": "python3"
  },
  "language_info": {
   "codemirror_mode": {
    "name": "ipython",
    "version": 3
   },
   "file_extension": ".py",
   "mimetype": "text/x-python",
   "name": "python",
   "nbconvert_exporter": "python",
   "pygments_lexer": "ipython3",
   "version": "3.7.9"
  }
 },
 "nbformat": 4,
 "nbformat_minor": 4
}
